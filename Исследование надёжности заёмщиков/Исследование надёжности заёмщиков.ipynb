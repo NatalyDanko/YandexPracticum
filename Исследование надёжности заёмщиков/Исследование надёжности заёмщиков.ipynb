{
 "cells": [
  {
   "cell_type": "markdown",
   "id": "1c47c545",
   "metadata": {
    "id": "c81daeeb"
   },
   "source": [
    "# Исследование надежности заёмщиков\n"
   ]
  },
  {
   "cell_type": "code",
   "execution_count": 1,
   "id": "2d4c2bc0",
   "metadata": {
    "id": "7bcf75c9"
   },
   "outputs": [],
   "source": [
    "import pandas as pd"
   ]
  },
  {
   "cell_type": "code",
   "execution_count": 2,
   "id": "efc38e0f",
   "metadata": {
    "id": "7bcf75c9"
   },
   "outputs": [],
   "source": [
    "# загрузка данных \n",
    "\n",
    "try:\n",
    "    data = pd.read_csv('zaem.csv')\n",
    "except:\n",
    "    print('Ошибка загрузки данных')\n",
    "    \n",
    "# добавлено для проведения анализа в шаге 3\n",
    "data_copy = data.copy(deep=True) "
   ]
  },
  {
   "cell_type": "code",
   "execution_count": 3,
   "id": "0c9e9e2b",
   "metadata": {
    "id": "2a7cab99",
    "outputId": "1a8f3ef2-d323-4ec2-ddf7-89670b5944c4"
   },
   "outputs": [
    {
     "data": {
      "text/html": [
       "<div>\n",
       "<style scoped>\n",
       "    .dataframe tbody tr th:only-of-type {\n",
       "        vertical-align: middle;\n",
       "    }\n",
       "\n",
       "    .dataframe tbody tr th {\n",
       "        vertical-align: top;\n",
       "    }\n",
       "\n",
       "    .dataframe thead th {\n",
       "        text-align: right;\n",
       "    }\n",
       "</style>\n",
       "<table border=\"1\" class=\"dataframe\">\n",
       "  <thead>\n",
       "    <tr style=\"text-align: right;\">\n",
       "      <th></th>\n",
       "      <th>children</th>\n",
       "      <th>days_employed</th>\n",
       "      <th>dob_years</th>\n",
       "      <th>education</th>\n",
       "      <th>education_id</th>\n",
       "      <th>family_status</th>\n",
       "      <th>family_status_id</th>\n",
       "      <th>gender</th>\n",
       "      <th>income_type</th>\n",
       "      <th>debt</th>\n",
       "      <th>total_income</th>\n",
       "      <th>purpose</th>\n",
       "    </tr>\n",
       "  </thead>\n",
       "  <tbody>\n",
       "    <tr>\n",
       "      <th>0</th>\n",
       "      <td>1</td>\n",
       "      <td>-8437.673028</td>\n",
       "      <td>42</td>\n",
       "      <td>высшее</td>\n",
       "      <td>0</td>\n",
       "      <td>женат / замужем</td>\n",
       "      <td>0</td>\n",
       "      <td>F</td>\n",
       "      <td>сотрудник</td>\n",
       "      <td>0</td>\n",
       "      <td>253875.639453</td>\n",
       "      <td>покупка жилья</td>\n",
       "    </tr>\n",
       "    <tr>\n",
       "      <th>1</th>\n",
       "      <td>1</td>\n",
       "      <td>-4024.803754</td>\n",
       "      <td>36</td>\n",
       "      <td>среднее</td>\n",
       "      <td>1</td>\n",
       "      <td>женат / замужем</td>\n",
       "      <td>0</td>\n",
       "      <td>F</td>\n",
       "      <td>сотрудник</td>\n",
       "      <td>0</td>\n",
       "      <td>112080.014102</td>\n",
       "      <td>приобретение автомобиля</td>\n",
       "    </tr>\n",
       "    <tr>\n",
       "      <th>2</th>\n",
       "      <td>0</td>\n",
       "      <td>-5623.422610</td>\n",
       "      <td>33</td>\n",
       "      <td>Среднее</td>\n",
       "      <td>1</td>\n",
       "      <td>женат / замужем</td>\n",
       "      <td>0</td>\n",
       "      <td>M</td>\n",
       "      <td>сотрудник</td>\n",
       "      <td>0</td>\n",
       "      <td>145885.952297</td>\n",
       "      <td>покупка жилья</td>\n",
       "    </tr>\n",
       "    <tr>\n",
       "      <th>3</th>\n",
       "      <td>3</td>\n",
       "      <td>-4124.747207</td>\n",
       "      <td>32</td>\n",
       "      <td>среднее</td>\n",
       "      <td>1</td>\n",
       "      <td>женат / замужем</td>\n",
       "      <td>0</td>\n",
       "      <td>M</td>\n",
       "      <td>сотрудник</td>\n",
       "      <td>0</td>\n",
       "      <td>267628.550329</td>\n",
       "      <td>дополнительное образование</td>\n",
       "    </tr>\n",
       "    <tr>\n",
       "      <th>4</th>\n",
       "      <td>0</td>\n",
       "      <td>340266.072047</td>\n",
       "      <td>53</td>\n",
       "      <td>среднее</td>\n",
       "      <td>1</td>\n",
       "      <td>гражданский брак</td>\n",
       "      <td>1</td>\n",
       "      <td>F</td>\n",
       "      <td>пенсионер</td>\n",
       "      <td>0</td>\n",
       "      <td>158616.077870</td>\n",
       "      <td>сыграть свадьбу</td>\n",
       "    </tr>\n",
       "    <tr>\n",
       "      <th>5</th>\n",
       "      <td>0</td>\n",
       "      <td>-926.185831</td>\n",
       "      <td>27</td>\n",
       "      <td>высшее</td>\n",
       "      <td>0</td>\n",
       "      <td>гражданский брак</td>\n",
       "      <td>1</td>\n",
       "      <td>M</td>\n",
       "      <td>компаньон</td>\n",
       "      <td>0</td>\n",
       "      <td>255763.565419</td>\n",
       "      <td>покупка жилья</td>\n",
       "    </tr>\n",
       "    <tr>\n",
       "      <th>6</th>\n",
       "      <td>0</td>\n",
       "      <td>-2879.202052</td>\n",
       "      <td>43</td>\n",
       "      <td>высшее</td>\n",
       "      <td>0</td>\n",
       "      <td>женат / замужем</td>\n",
       "      <td>0</td>\n",
       "      <td>F</td>\n",
       "      <td>компаньон</td>\n",
       "      <td>0</td>\n",
       "      <td>240525.971920</td>\n",
       "      <td>операции с жильем</td>\n",
       "    </tr>\n",
       "    <tr>\n",
       "      <th>7</th>\n",
       "      <td>0</td>\n",
       "      <td>-152.779569</td>\n",
       "      <td>50</td>\n",
       "      <td>СРЕДНЕЕ</td>\n",
       "      <td>1</td>\n",
       "      <td>женат / замужем</td>\n",
       "      <td>0</td>\n",
       "      <td>M</td>\n",
       "      <td>сотрудник</td>\n",
       "      <td>0</td>\n",
       "      <td>135823.934197</td>\n",
       "      <td>образование</td>\n",
       "    </tr>\n",
       "    <tr>\n",
       "      <th>8</th>\n",
       "      <td>2</td>\n",
       "      <td>-6929.865299</td>\n",
       "      <td>35</td>\n",
       "      <td>ВЫСШЕЕ</td>\n",
       "      <td>0</td>\n",
       "      <td>гражданский брак</td>\n",
       "      <td>1</td>\n",
       "      <td>F</td>\n",
       "      <td>сотрудник</td>\n",
       "      <td>0</td>\n",
       "      <td>95856.832424</td>\n",
       "      <td>на проведение свадьбы</td>\n",
       "    </tr>\n",
       "    <tr>\n",
       "      <th>9</th>\n",
       "      <td>0</td>\n",
       "      <td>-2188.756445</td>\n",
       "      <td>41</td>\n",
       "      <td>среднее</td>\n",
       "      <td>1</td>\n",
       "      <td>женат / замужем</td>\n",
       "      <td>0</td>\n",
       "      <td>M</td>\n",
       "      <td>сотрудник</td>\n",
       "      <td>0</td>\n",
       "      <td>144425.938277</td>\n",
       "      <td>покупка жилья для семьи</td>\n",
       "    </tr>\n",
       "    <tr>\n",
       "      <th>10</th>\n",
       "      <td>2</td>\n",
       "      <td>-4171.483647</td>\n",
       "      <td>36</td>\n",
       "      <td>высшее</td>\n",
       "      <td>0</td>\n",
       "      <td>женат / замужем</td>\n",
       "      <td>0</td>\n",
       "      <td>M</td>\n",
       "      <td>компаньон</td>\n",
       "      <td>0</td>\n",
       "      <td>113943.491460</td>\n",
       "      <td>покупка недвижимости</td>\n",
       "    </tr>\n",
       "    <tr>\n",
       "      <th>11</th>\n",
       "      <td>0</td>\n",
       "      <td>-792.701887</td>\n",
       "      <td>40</td>\n",
       "      <td>среднее</td>\n",
       "      <td>1</td>\n",
       "      <td>женат / замужем</td>\n",
       "      <td>0</td>\n",
       "      <td>F</td>\n",
       "      <td>сотрудник</td>\n",
       "      <td>0</td>\n",
       "      <td>77069.234271</td>\n",
       "      <td>покупка коммерческой недвижимости</td>\n",
       "    </tr>\n",
       "    <tr>\n",
       "      <th>12</th>\n",
       "      <td>0</td>\n",
       "      <td>NaN</td>\n",
       "      <td>65</td>\n",
       "      <td>среднее</td>\n",
       "      <td>1</td>\n",
       "      <td>гражданский брак</td>\n",
       "      <td>1</td>\n",
       "      <td>M</td>\n",
       "      <td>пенсионер</td>\n",
       "      <td>0</td>\n",
       "      <td>NaN</td>\n",
       "      <td>сыграть свадьбу</td>\n",
       "    </tr>\n",
       "    <tr>\n",
       "      <th>13</th>\n",
       "      <td>0</td>\n",
       "      <td>-1846.641941</td>\n",
       "      <td>54</td>\n",
       "      <td>неоконченное высшее</td>\n",
       "      <td>2</td>\n",
       "      <td>женат / замужем</td>\n",
       "      <td>0</td>\n",
       "      <td>F</td>\n",
       "      <td>сотрудник</td>\n",
       "      <td>0</td>\n",
       "      <td>130458.228857</td>\n",
       "      <td>приобретение автомобиля</td>\n",
       "    </tr>\n",
       "    <tr>\n",
       "      <th>14</th>\n",
       "      <td>0</td>\n",
       "      <td>-1844.956182</td>\n",
       "      <td>56</td>\n",
       "      <td>высшее</td>\n",
       "      <td>0</td>\n",
       "      <td>гражданский брак</td>\n",
       "      <td>1</td>\n",
       "      <td>F</td>\n",
       "      <td>компаньон</td>\n",
       "      <td>1</td>\n",
       "      <td>165127.911772</td>\n",
       "      <td>покупка жилой недвижимости</td>\n",
       "    </tr>\n",
       "    <tr>\n",
       "      <th>15</th>\n",
       "      <td>1</td>\n",
       "      <td>-972.364419</td>\n",
       "      <td>26</td>\n",
       "      <td>среднее</td>\n",
       "      <td>1</td>\n",
       "      <td>женат / замужем</td>\n",
       "      <td>0</td>\n",
       "      <td>F</td>\n",
       "      <td>сотрудник</td>\n",
       "      <td>0</td>\n",
       "      <td>116820.904450</td>\n",
       "      <td>строительство собственной недвижимости</td>\n",
       "    </tr>\n",
       "    <tr>\n",
       "      <th>16</th>\n",
       "      <td>0</td>\n",
       "      <td>-1719.934226</td>\n",
       "      <td>35</td>\n",
       "      <td>среднее</td>\n",
       "      <td>1</td>\n",
       "      <td>женат / замужем</td>\n",
       "      <td>0</td>\n",
       "      <td>F</td>\n",
       "      <td>сотрудник</td>\n",
       "      <td>0</td>\n",
       "      <td>289202.704229</td>\n",
       "      <td>недвижимость</td>\n",
       "    </tr>\n",
       "    <tr>\n",
       "      <th>17</th>\n",
       "      <td>0</td>\n",
       "      <td>-2369.999720</td>\n",
       "      <td>33</td>\n",
       "      <td>высшее</td>\n",
       "      <td>0</td>\n",
       "      <td>гражданский брак</td>\n",
       "      <td>1</td>\n",
       "      <td>M</td>\n",
       "      <td>сотрудник</td>\n",
       "      <td>0</td>\n",
       "      <td>90410.586745</td>\n",
       "      <td>строительство недвижимости</td>\n",
       "    </tr>\n",
       "    <tr>\n",
       "      <th>18</th>\n",
       "      <td>0</td>\n",
       "      <td>400281.136913</td>\n",
       "      <td>53</td>\n",
       "      <td>среднее</td>\n",
       "      <td>1</td>\n",
       "      <td>вдовец / вдова</td>\n",
       "      <td>2</td>\n",
       "      <td>F</td>\n",
       "      <td>пенсионер</td>\n",
       "      <td>0</td>\n",
       "      <td>56823.777243</td>\n",
       "      <td>на покупку подержанного автомобиля</td>\n",
       "    </tr>\n",
       "    <tr>\n",
       "      <th>19</th>\n",
       "      <td>0</td>\n",
       "      <td>-10038.818549</td>\n",
       "      <td>48</td>\n",
       "      <td>СРЕДНЕЕ</td>\n",
       "      <td>1</td>\n",
       "      <td>в разводе</td>\n",
       "      <td>3</td>\n",
       "      <td>F</td>\n",
       "      <td>сотрудник</td>\n",
       "      <td>0</td>\n",
       "      <td>242831.107982</td>\n",
       "      <td>на покупку своего автомобиля</td>\n",
       "    </tr>\n",
       "  </tbody>\n",
       "</table>\n",
       "</div>"
      ],
      "text/plain": [
       "    children  days_employed  dob_years            education  education_id  \\\n",
       "0          1   -8437.673028         42               высшее             0   \n",
       "1          1   -4024.803754         36              среднее             1   \n",
       "2          0   -5623.422610         33              Среднее             1   \n",
       "3          3   -4124.747207         32              среднее             1   \n",
       "4          0  340266.072047         53              среднее             1   \n",
       "5          0    -926.185831         27               высшее             0   \n",
       "6          0   -2879.202052         43               высшее             0   \n",
       "7          0    -152.779569         50              СРЕДНЕЕ             1   \n",
       "8          2   -6929.865299         35               ВЫСШЕЕ             0   \n",
       "9          0   -2188.756445         41              среднее             1   \n",
       "10         2   -4171.483647         36               высшее             0   \n",
       "11         0    -792.701887         40              среднее             1   \n",
       "12         0            NaN         65              среднее             1   \n",
       "13         0   -1846.641941         54  неоконченное высшее             2   \n",
       "14         0   -1844.956182         56               высшее             0   \n",
       "15         1    -972.364419         26              среднее             1   \n",
       "16         0   -1719.934226         35              среднее             1   \n",
       "17         0   -2369.999720         33               высшее             0   \n",
       "18         0  400281.136913         53              среднее             1   \n",
       "19         0  -10038.818549         48              СРЕДНЕЕ             1   \n",
       "\n",
       "       family_status  family_status_id gender income_type  debt  \\\n",
       "0    женат / замужем                 0      F   сотрудник     0   \n",
       "1    женат / замужем                 0      F   сотрудник     0   \n",
       "2    женат / замужем                 0      M   сотрудник     0   \n",
       "3    женат / замужем                 0      M   сотрудник     0   \n",
       "4   гражданский брак                 1      F   пенсионер     0   \n",
       "5   гражданский брак                 1      M   компаньон     0   \n",
       "6    женат / замужем                 0      F   компаньон     0   \n",
       "7    женат / замужем                 0      M   сотрудник     0   \n",
       "8   гражданский брак                 1      F   сотрудник     0   \n",
       "9    женат / замужем                 0      M   сотрудник     0   \n",
       "10   женат / замужем                 0      M   компаньон     0   \n",
       "11   женат / замужем                 0      F   сотрудник     0   \n",
       "12  гражданский брак                 1      M   пенсионер     0   \n",
       "13   женат / замужем                 0      F   сотрудник     0   \n",
       "14  гражданский брак                 1      F   компаньон     1   \n",
       "15   женат / замужем                 0      F   сотрудник     0   \n",
       "16   женат / замужем                 0      F   сотрудник     0   \n",
       "17  гражданский брак                 1      M   сотрудник     0   \n",
       "18    вдовец / вдова                 2      F   пенсионер     0   \n",
       "19         в разводе                 3      F   сотрудник     0   \n",
       "\n",
       "     total_income                                 purpose  \n",
       "0   253875.639453                           покупка жилья  \n",
       "1   112080.014102                 приобретение автомобиля  \n",
       "2   145885.952297                           покупка жилья  \n",
       "3   267628.550329              дополнительное образование  \n",
       "4   158616.077870                         сыграть свадьбу  \n",
       "5   255763.565419                           покупка жилья  \n",
       "6   240525.971920                       операции с жильем  \n",
       "7   135823.934197                             образование  \n",
       "8    95856.832424                   на проведение свадьбы  \n",
       "9   144425.938277                 покупка жилья для семьи  \n",
       "10  113943.491460                    покупка недвижимости  \n",
       "11   77069.234271       покупка коммерческой недвижимости  \n",
       "12            NaN                         сыграть свадьбу  \n",
       "13  130458.228857                 приобретение автомобиля  \n",
       "14  165127.911772              покупка жилой недвижимости  \n",
       "15  116820.904450  строительство собственной недвижимости  \n",
       "16  289202.704229                            недвижимость  \n",
       "17   90410.586745              строительство недвижимости  \n",
       "18   56823.777243      на покупку подержанного автомобиля  \n",
       "19  242831.107982            на покупку своего автомобиля  "
      ]
     },
     "execution_count": 3,
     "metadata": {},
     "output_type": "execute_result"
    }
   ],
   "source": [
    "data.head(20)"
   ]
  },
  {
   "cell_type": "code",
   "execution_count": 4,
   "id": "2056a3f8",
   "metadata": {
    "id": "2b757bca",
    "outputId": "15376089-8dad-46c9-b520-c05248d43158"
   },
   "outputs": [
    {
     "name": "stdout",
     "output_type": "stream",
     "text": [
      "<class 'pandas.core.frame.DataFrame'>\n",
      "RangeIndex: 21525 entries, 0 to 21524\n",
      "Data columns (total 12 columns):\n",
      " #   Column            Non-Null Count  Dtype  \n",
      "---  ------            --------------  -----  \n",
      " 0   children          21525 non-null  int64  \n",
      " 1   days_employed     19351 non-null  float64\n",
      " 2   dob_years         21525 non-null  int64  \n",
      " 3   education         21525 non-null  object \n",
      " 4   education_id      21525 non-null  int64  \n",
      " 5   family_status     21525 non-null  object \n",
      " 6   family_status_id  21525 non-null  int64  \n",
      " 7   gender            21525 non-null  object \n",
      " 8   income_type       21525 non-null  object \n",
      " 9   debt              21525 non-null  int64  \n",
      " 10  total_income      19351 non-null  float64\n",
      " 11  purpose           21525 non-null  object \n",
      "dtypes: float64(2), int64(5), object(5)\n",
      "memory usage: 2.0+ MB\n"
     ]
    }
   ],
   "source": [
    "data.info()"
   ]
  },
  {
   "cell_type": "markdown",
   "id": "e9167c10",
   "metadata": {
    "id": "333ec665"
   },
   "source": [
    "## Предобработка данных"
   ]
  },
  {
   "cell_type": "markdown",
   "id": "2b0c593a",
   "metadata": {
    "id": "02d92d53"
   },
   "source": [
    "### Удаление пропусков"
   ]
  },
  {
   "cell_type": "code",
   "execution_count": 5,
   "id": "a6f32c3a",
   "metadata": {
    "id": "7f9b2309",
    "outputId": "81f4d817-781c-465c-ed15-91ce4446810d"
   },
   "outputs": [
    {
     "data": {
      "text/plain": [
       "children               0\n",
       "days_employed       2174\n",
       "dob_years              0\n",
       "education              0\n",
       "education_id           0\n",
       "family_status          0\n",
       "family_status_id       0\n",
       "gender                 0\n",
       "income_type            0\n",
       "debt                   0\n",
       "total_income        2174\n",
       "purpose                0\n",
       "dtype: int64"
      ]
     },
     "execution_count": 5,
     "metadata": {},
     "output_type": "execute_result"
    }
   ],
   "source": [
    "#  проверка данных на пропуски\n",
    "\n",
    "data.isna().sum()"
   ]
  },
  {
   "cell_type": "code",
   "execution_count": 6,
   "id": "8bae6188",
   "metadata": {
    "id": "42006a93"
   },
   "outputs": [],
   "source": [
    "# заполнение пропусков в столбце total_income медианным значением по каждому типу из столбца income_type\n",
    "\n",
    "for t in data['income_type'].unique():\n",
    "    data.loc[(data['income_type'] == t) & (data['total_income'].isna()), 'total_income'] = \\\n",
    "    data.loc[(data['income_type'] == t), 'total_income'].median()"
   ]
  },
  {
   "cell_type": "markdown",
   "id": "e298a7f1",
   "metadata": {
    "id": "89da5ece"
   },
   "source": [
    "### Обработка аномальных значений"
   ]
  },
  {
   "cell_type": "code",
   "execution_count": 7,
   "id": "dc3d0b9e",
   "metadata": {
    "id": "f6f055bf"
   },
   "outputs": [],
   "source": [
    "# обработка отрицательных значений в столбце days_employed\n",
    "\n",
    "data['days_employed'] = data['days_employed'].abs()"
   ]
  },
  {
   "cell_type": "code",
   "execution_count": 8,
   "id": "1ab1466d",
   "metadata": {
    "id": "85a5faf6",
    "outputId": "801ef80e-522b-4668-f34e-565af7432bcf"
   },
   "outputs": [
    {
     "data": {
      "text/plain": [
       "income_type\n",
       "безработный        366413.652744\n",
       "в декрете            3296.759962\n",
       "госслужащий          2689.368353\n",
       "компаньон            1547.382223\n",
       "пенсионер          365213.306266\n",
       "предприниматель       520.848083\n",
       "сотрудник            1574.202821\n",
       "студент               578.751554\n",
       "Name: days_employed, dtype: float64"
      ]
     },
     "execution_count": 8,
     "metadata": {},
     "output_type": "execute_result"
    }
   ],
   "source": [
    "# вывод медианного значения трудового стажа days_employed в днях для каждого типа занятости\n",
    "\n",
    "data.groupby('income_type')['days_employed'].agg('median')"
   ]
  },
  {
   "cell_type": "markdown",
   "id": "336ce60b",
   "metadata": {
    "id": "38d1a030"
   },
   "source": [
    "У двух типов (безработные и пенсионеры) получатся аномально большие значения. Исправить такие значения сложно, поэтому оставим их как есть. Тем более этот столбец не понадобится для дальнейшего исследования."
   ]
  },
  {
   "cell_type": "code",
   "execution_count": 9,
   "id": "47351e13",
   "metadata": {
    "id": "ef5056eb",
    "outputId": "6975b15c-7f95-4697-d16d-a0c79b657b03"
   },
   "outputs": [
    {
     "data": {
      "text/plain": [
       "array([ 1,  0,  3,  2, -1,  4, 20,  5], dtype=int64)"
      ]
     },
     "execution_count": 9,
     "metadata": {},
     "output_type": "execute_result"
    }
   ],
   "source": [
    "# перечень уникальных значений столбца children\n",
    "\n",
    "data['children'].unique()"
   ]
  },
  {
   "cell_type": "code",
   "execution_count": 10,
   "id": "1fd0699d",
   "metadata": {
    "id": "3ff9801d"
   },
   "outputs": [],
   "source": [
    "#  удаление строк, в которых встречаются аномальные значения\n",
    "\n",
    "data = data[(data['children'] != -1) & (data['children'] != 20)]"
   ]
  },
  {
   "cell_type": "code",
   "execution_count": 11,
   "id": "40f5f186",
   "metadata": {
    "id": "ad4fa8b7",
    "outputId": "b2097101-d49d-44d9-901b-32a65c9463d1"
   },
   "outputs": [
    {
     "data": {
      "text/plain": [
       "array([1, 0, 3, 2, 4, 5], dtype=int64)"
      ]
     },
     "execution_count": 11,
     "metadata": {},
     "output_type": "execute_result"
    }
   ],
   "source": [
    "# повторная проверка \n",
    "\n",
    "data['children'].unique()"
   ]
  },
  {
   "cell_type": "markdown",
   "id": "10e9b449",
   "metadata": {
    "id": "75440b63"
   },
   "source": [
    "### Удаление пропусков (продолжение)"
   ]
  },
  {
   "cell_type": "code",
   "execution_count": 12,
   "id": "51b05517",
   "metadata": {
    "id": "af6b1a7e"
   },
   "outputs": [],
   "source": [
    "# заполнение пропусков в столбце days_employed медианными значениями по каждого типа занятости income_type\n",
    "\n",
    "for t in data['income_type'].unique():\n",
    "    data.loc[(data['income_type'] == t) & (data['days_employed'].isna()), 'days_employed'] = \\\n",
    "    data.loc[(data['income_type'] == t), 'days_employed'].median()"
   ]
  },
  {
   "cell_type": "code",
   "execution_count": 13,
   "id": "b9d2a0d5",
   "metadata": {
    "id": "55f78bc2",
    "outputId": "8da1e4e1-358e-4e87-98c9-f261bce0a7b2"
   },
   "outputs": [
    {
     "data": {
      "text/plain": [
       "children            0\n",
       "days_employed       0\n",
       "dob_years           0\n",
       "education           0\n",
       "education_id        0\n",
       "family_status       0\n",
       "family_status_id    0\n",
       "gender              0\n",
       "income_type         0\n",
       "debt                0\n",
       "total_income        0\n",
       "purpose             0\n",
       "dtype: int64"
      ]
     },
     "execution_count": 13,
     "metadata": {},
     "output_type": "execute_result"
    }
   ],
   "source": [
    "# повторная проверка\n",
    "\n",
    "data.isna().sum()"
   ]
  },
  {
   "cell_type": "markdown",
   "id": "4f083d0d",
   "metadata": {
    "id": "ddc81e43"
   },
   "source": [
    "### Изменение типов данных"
   ]
  },
  {
   "cell_type": "code",
   "execution_count": 14,
   "id": "b1a5a93a",
   "metadata": {
    "id": "920b65ad"
   },
   "outputs": [],
   "source": [
    "# замена вещественного типа данных в столбце total_income на целочисленный\n",
    "\n",
    "data['total_income'] = data['total_income'].astype(int)"
   ]
  },
  {
   "cell_type": "markdown",
   "id": "850f6748",
   "metadata": {
    "id": "80c420ba"
   },
   "source": [
    "### Обработка дубликатов"
   ]
  },
  {
   "cell_type": "code",
   "execution_count": 15,
   "id": "eb494ce9",
   "metadata": {},
   "outputs": [],
   "source": [
    "# обработка неявных дубликатов в столбце education\n",
    "\n",
    "data['education'] = data['education'].str.lower()"
   ]
  },
  {
   "cell_type": "code",
   "execution_count": 16,
   "id": "085391c2",
   "metadata": {
    "id": "3ee445e4",
    "outputId": "9684deba-1934-42d1-99e1-cda61740f822"
   },
   "outputs": [
    {
     "data": {
      "text/plain": [
       "71"
      ]
     },
     "execution_count": 16,
     "metadata": {},
     "output_type": "execute_result"
    }
   ],
   "source": [
    "data.duplicated().sum()"
   ]
  },
  {
   "cell_type": "code",
   "execution_count": 17,
   "id": "3d1729e9",
   "metadata": {
    "id": "8575fe05"
   },
   "outputs": [],
   "source": [
    "# обработка явных дубликатов\n",
    "\n",
    "data = data.drop_duplicates()"
   ]
  },
  {
   "cell_type": "markdown",
   "id": "f0cac58b",
   "metadata": {
    "id": "9904cf55"
   },
   "source": [
    "### Категоризация данных"
   ]
  },
  {
   "cell_type": "markdown",
   "id": "15a490f8",
   "metadata": {
    "id": "72fcc8a2"
   },
   "source": [
    "На основании диапазонов, указанных ниже, создадим в датафрейме `data` столбец `total_income_category` с категориями:\n",
    "\n",
    "- 0–30000 — `'E'`;\n",
    "- 30001–50000 — `'D'`;\n",
    "- 50001–200000 — `'C'`;\n",
    "- 200001–1000000 — `'B'`;\n",
    "- 1000001 и выше — `'A'`."
   ]
  },
  {
   "cell_type": "code",
   "execution_count": 18,
   "id": "404206fb",
   "metadata": {
    "id": "e1771346"
   },
   "outputs": [],
   "source": [
    "def categorize_income(income):\n",
    "    try:\n",
    "        if 0 <= income <= 30000:\n",
    "            return 'E'\n",
    "        elif 30001 <= income <= 50000:\n",
    "            return 'D'\n",
    "        elif 50001 <= income <= 200000:\n",
    "            return 'C'\n",
    "        elif 200001 <= income <= 1000000:\n",
    "            return 'B'\n",
    "        elif income >= 1000001:\n",
    "            return 'A'\n",
    "    except:\n",
    "        pass"
   ]
  },
  {
   "cell_type": "code",
   "execution_count": 19,
   "id": "b80c4bf0",
   "metadata": {
    "id": "d5f3586d"
   },
   "outputs": [],
   "source": [
    "data['total_income_category'] = data['total_income'].apply(categorize_income)"
   ]
  },
  {
   "cell_type": "code",
   "execution_count": 20,
   "id": "744c5d3f",
   "metadata": {
    "id": "f67ce9b3",
    "outputId": "673c12d9-7d7e-4ae0-9812-c622c89dd244"
   },
   "outputs": [
    {
     "data": {
      "text/plain": [
       "array(['покупка жилья', 'приобретение автомобиля',\n",
       "       'дополнительное образование', 'сыграть свадьбу',\n",
       "       'операции с жильем', 'образование', 'на проведение свадьбы',\n",
       "       'покупка жилья для семьи', 'покупка недвижимости',\n",
       "       'покупка коммерческой недвижимости', 'покупка жилой недвижимости',\n",
       "       'строительство собственной недвижимости', 'недвижимость',\n",
       "       'строительство недвижимости', 'на покупку подержанного автомобиля',\n",
       "       'на покупку своего автомобиля',\n",
       "       'операции с коммерческой недвижимостью',\n",
       "       'строительство жилой недвижимости', 'жилье',\n",
       "       'операции со своей недвижимостью', 'автомобили',\n",
       "       'заняться образованием', 'сделка с подержанным автомобилем',\n",
       "       'получение образования', 'автомобиль', 'свадьба',\n",
       "       'получение дополнительного образования', 'покупка своего жилья',\n",
       "       'операции с недвижимостью', 'получение высшего образования',\n",
       "       'свой автомобиль', 'сделка с автомобилем',\n",
       "       'профильное образование', 'высшее образование',\n",
       "       'покупка жилья для сдачи', 'на покупку автомобиля', 'ремонт жилью',\n",
       "       'заняться высшим образованием'], dtype=object)"
      ]
     },
     "execution_count": 20,
     "metadata": {},
     "output_type": "execute_result"
    }
   ],
   "source": [
    "#  вывод перечня уникальных целей взятия кредита из столбца purpose\n",
    "\n",
    "data['purpose'].unique()"
   ]
  },
  {
   "cell_type": "markdown",
   "id": "979e729e",
   "metadata": {
    "id": "85d0aef0"
   },
   "source": [
    "Создание функции, которая на основании данных из столбца `purpose` сформирует новый столбец `purpose_category`, в который войдут следующие категории:**\n",
    "\n",
    "- `'операции с автомобилем'`,\n",
    "- `'операции с недвижимостью'`,\n",
    "- `'проведение свадьбы'`,\n",
    "- `'получение образования'`."
   ]
  },
  {
   "cell_type": "code",
   "execution_count": 21,
   "id": "7105d81b",
   "metadata": {
    "id": "e149fab4"
   },
   "outputs": [],
   "source": [
    "def categorize_purpose(row):\n",
    "    try:\n",
    "        if 'автом' in row:\n",
    "            return 'операции с автомобилем'\n",
    "        elif 'жил' in row or 'недвиж' in row:\n",
    "            return 'операции с недвижимостью'\n",
    "        elif 'свад' in row:\n",
    "            return 'проведение свадьбы'\n",
    "        elif 'образов' in row:\n",
    "            return 'получение образования'\n",
    "    except:\n",
    "        return 'нет категории'"
   ]
  },
  {
   "cell_type": "code",
   "execution_count": 22,
   "id": "5bad30ec",
   "metadata": {
    "id": "bf36e69b"
   },
   "outputs": [],
   "source": [
    "data['purpose_category'] = data['purpose'].apply(categorize_purpose)"
   ]
  },
  {
   "cell_type": "code",
   "execution_count": 23,
   "id": "f3a5ac3a",
   "metadata": {},
   "outputs": [
    {
     "data": {
      "text/html": [
       "<div>\n",
       "<style scoped>\n",
       "    .dataframe tbody tr th:only-of-type {\n",
       "        vertical-align: middle;\n",
       "    }\n",
       "\n",
       "    .dataframe tbody tr th {\n",
       "        vertical-align: top;\n",
       "    }\n",
       "\n",
       "    .dataframe thead th {\n",
       "        text-align: right;\n",
       "    }\n",
       "</style>\n",
       "<table border=\"1\" class=\"dataframe\">\n",
       "  <thead>\n",
       "    <tr style=\"text-align: right;\">\n",
       "      <th></th>\n",
       "      <th>children</th>\n",
       "      <th>days_employed</th>\n",
       "      <th>dob_years</th>\n",
       "      <th>education</th>\n",
       "      <th>education_id</th>\n",
       "      <th>family_status</th>\n",
       "      <th>family_status_id</th>\n",
       "      <th>gender</th>\n",
       "      <th>income_type</th>\n",
       "      <th>debt</th>\n",
       "      <th>total_income</th>\n",
       "      <th>purpose</th>\n",
       "      <th>total_income_category</th>\n",
       "      <th>purpose_category</th>\n",
       "    </tr>\n",
       "  </thead>\n",
       "  <tbody>\n",
       "    <tr>\n",
       "      <th>0</th>\n",
       "      <td>1</td>\n",
       "      <td>8437.673028</td>\n",
       "      <td>42</td>\n",
       "      <td>высшее</td>\n",
       "      <td>0</td>\n",
       "      <td>женат / замужем</td>\n",
       "      <td>0</td>\n",
       "      <td>F</td>\n",
       "      <td>сотрудник</td>\n",
       "      <td>0</td>\n",
       "      <td>253875</td>\n",
       "      <td>покупка жилья</td>\n",
       "      <td>B</td>\n",
       "      <td>операции с недвижимостью</td>\n",
       "    </tr>\n",
       "    <tr>\n",
       "      <th>1</th>\n",
       "      <td>1</td>\n",
       "      <td>4024.803754</td>\n",
       "      <td>36</td>\n",
       "      <td>среднее</td>\n",
       "      <td>1</td>\n",
       "      <td>женат / замужем</td>\n",
       "      <td>0</td>\n",
       "      <td>F</td>\n",
       "      <td>сотрудник</td>\n",
       "      <td>0</td>\n",
       "      <td>112080</td>\n",
       "      <td>приобретение автомобиля</td>\n",
       "      <td>C</td>\n",
       "      <td>операции с автомобилем</td>\n",
       "    </tr>\n",
       "    <tr>\n",
       "      <th>2</th>\n",
       "      <td>0</td>\n",
       "      <td>5623.422610</td>\n",
       "      <td>33</td>\n",
       "      <td>среднее</td>\n",
       "      <td>1</td>\n",
       "      <td>женат / замужем</td>\n",
       "      <td>0</td>\n",
       "      <td>M</td>\n",
       "      <td>сотрудник</td>\n",
       "      <td>0</td>\n",
       "      <td>145885</td>\n",
       "      <td>покупка жилья</td>\n",
       "      <td>C</td>\n",
       "      <td>операции с недвижимостью</td>\n",
       "    </tr>\n",
       "    <tr>\n",
       "      <th>3</th>\n",
       "      <td>3</td>\n",
       "      <td>4124.747207</td>\n",
       "      <td>32</td>\n",
       "      <td>среднее</td>\n",
       "      <td>1</td>\n",
       "      <td>женат / замужем</td>\n",
       "      <td>0</td>\n",
       "      <td>M</td>\n",
       "      <td>сотрудник</td>\n",
       "      <td>0</td>\n",
       "      <td>267628</td>\n",
       "      <td>дополнительное образование</td>\n",
       "      <td>B</td>\n",
       "      <td>получение образования</td>\n",
       "    </tr>\n",
       "    <tr>\n",
       "      <th>4</th>\n",
       "      <td>0</td>\n",
       "      <td>340266.072047</td>\n",
       "      <td>53</td>\n",
       "      <td>среднее</td>\n",
       "      <td>1</td>\n",
       "      <td>гражданский брак</td>\n",
       "      <td>1</td>\n",
       "      <td>F</td>\n",
       "      <td>пенсионер</td>\n",
       "      <td>0</td>\n",
       "      <td>158616</td>\n",
       "      <td>сыграть свадьбу</td>\n",
       "      <td>C</td>\n",
       "      <td>проведение свадьбы</td>\n",
       "    </tr>\n",
       "    <tr>\n",
       "      <th>...</th>\n",
       "      <td>...</td>\n",
       "      <td>...</td>\n",
       "      <td>...</td>\n",
       "      <td>...</td>\n",
       "      <td>...</td>\n",
       "      <td>...</td>\n",
       "      <td>...</td>\n",
       "      <td>...</td>\n",
       "      <td>...</td>\n",
       "      <td>...</td>\n",
       "      <td>...</td>\n",
       "      <td>...</td>\n",
       "      <td>...</td>\n",
       "      <td>...</td>\n",
       "    </tr>\n",
       "    <tr>\n",
       "      <th>21520</th>\n",
       "      <td>1</td>\n",
       "      <td>4529.316663</td>\n",
       "      <td>43</td>\n",
       "      <td>среднее</td>\n",
       "      <td>1</td>\n",
       "      <td>гражданский брак</td>\n",
       "      <td>1</td>\n",
       "      <td>F</td>\n",
       "      <td>компаньон</td>\n",
       "      <td>0</td>\n",
       "      <td>224791</td>\n",
       "      <td>операции с жильем</td>\n",
       "      <td>B</td>\n",
       "      <td>операции с недвижимостью</td>\n",
       "    </tr>\n",
       "    <tr>\n",
       "      <th>21521</th>\n",
       "      <td>0</td>\n",
       "      <td>343937.404131</td>\n",
       "      <td>67</td>\n",
       "      <td>среднее</td>\n",
       "      <td>1</td>\n",
       "      <td>женат / замужем</td>\n",
       "      <td>0</td>\n",
       "      <td>F</td>\n",
       "      <td>пенсионер</td>\n",
       "      <td>0</td>\n",
       "      <td>155999</td>\n",
       "      <td>сделка с автомобилем</td>\n",
       "      <td>C</td>\n",
       "      <td>операции с автомобилем</td>\n",
       "    </tr>\n",
       "    <tr>\n",
       "      <th>21522</th>\n",
       "      <td>1</td>\n",
       "      <td>2113.346888</td>\n",
       "      <td>38</td>\n",
       "      <td>среднее</td>\n",
       "      <td>1</td>\n",
       "      <td>гражданский брак</td>\n",
       "      <td>1</td>\n",
       "      <td>M</td>\n",
       "      <td>сотрудник</td>\n",
       "      <td>1</td>\n",
       "      <td>89672</td>\n",
       "      <td>недвижимость</td>\n",
       "      <td>C</td>\n",
       "      <td>операции с недвижимостью</td>\n",
       "    </tr>\n",
       "    <tr>\n",
       "      <th>21523</th>\n",
       "      <td>3</td>\n",
       "      <td>3112.481705</td>\n",
       "      <td>38</td>\n",
       "      <td>среднее</td>\n",
       "      <td>1</td>\n",
       "      <td>женат / замужем</td>\n",
       "      <td>0</td>\n",
       "      <td>M</td>\n",
       "      <td>сотрудник</td>\n",
       "      <td>1</td>\n",
       "      <td>244093</td>\n",
       "      <td>на покупку своего автомобиля</td>\n",
       "      <td>B</td>\n",
       "      <td>операции с автомобилем</td>\n",
       "    </tr>\n",
       "    <tr>\n",
       "      <th>21524</th>\n",
       "      <td>2</td>\n",
       "      <td>1984.507589</td>\n",
       "      <td>40</td>\n",
       "      <td>среднее</td>\n",
       "      <td>1</td>\n",
       "      <td>женат / замужем</td>\n",
       "      <td>0</td>\n",
       "      <td>F</td>\n",
       "      <td>сотрудник</td>\n",
       "      <td>0</td>\n",
       "      <td>82047</td>\n",
       "      <td>на покупку автомобиля</td>\n",
       "      <td>C</td>\n",
       "      <td>операции с автомобилем</td>\n",
       "    </tr>\n",
       "  </tbody>\n",
       "</table>\n",
       "<p>21331 rows × 14 columns</p>\n",
       "</div>"
      ],
      "text/plain": [
       "       children  days_employed  dob_years education  education_id  \\\n",
       "0             1    8437.673028         42    высшее             0   \n",
       "1             1    4024.803754         36   среднее             1   \n",
       "2             0    5623.422610         33   среднее             1   \n",
       "3             3    4124.747207         32   среднее             1   \n",
       "4             0  340266.072047         53   среднее             1   \n",
       "...         ...            ...        ...       ...           ...   \n",
       "21520         1    4529.316663         43   среднее             1   \n",
       "21521         0  343937.404131         67   среднее             1   \n",
       "21522         1    2113.346888         38   среднее             1   \n",
       "21523         3    3112.481705         38   среднее             1   \n",
       "21524         2    1984.507589         40   среднее             1   \n",
       "\n",
       "          family_status  family_status_id gender income_type  debt  \\\n",
       "0       женат / замужем                 0      F   сотрудник     0   \n",
       "1       женат / замужем                 0      F   сотрудник     0   \n",
       "2       женат / замужем                 0      M   сотрудник     0   \n",
       "3       женат / замужем                 0      M   сотрудник     0   \n",
       "4      гражданский брак                 1      F   пенсионер     0   \n",
       "...                 ...               ...    ...         ...   ...   \n",
       "21520  гражданский брак                 1      F   компаньон     0   \n",
       "21521   женат / замужем                 0      F   пенсионер     0   \n",
       "21522  гражданский брак                 1      M   сотрудник     1   \n",
       "21523   женат / замужем                 0      M   сотрудник     1   \n",
       "21524   женат / замужем                 0      F   сотрудник     0   \n",
       "\n",
       "       total_income                       purpose total_income_category  \\\n",
       "0            253875                 покупка жилья                     B   \n",
       "1            112080       приобретение автомобиля                     C   \n",
       "2            145885                 покупка жилья                     C   \n",
       "3            267628    дополнительное образование                     B   \n",
       "4            158616               сыграть свадьбу                     C   \n",
       "...             ...                           ...                   ...   \n",
       "21520        224791             операции с жильем                     B   \n",
       "21521        155999          сделка с автомобилем                     C   \n",
       "21522         89672                  недвижимость                     C   \n",
       "21523        244093  на покупку своего автомобиля                     B   \n",
       "21524         82047         на покупку автомобиля                     C   \n",
       "\n",
       "               purpose_category  \n",
       "0      операции с недвижимостью  \n",
       "1        операции с автомобилем  \n",
       "2      операции с недвижимостью  \n",
       "3         получение образования  \n",
       "4            проведение свадьбы  \n",
       "...                         ...  \n",
       "21520  операции с недвижимостью  \n",
       "21521    операции с автомобилем  \n",
       "21522  операции с недвижимостью  \n",
       "21523    операции с автомобилем  \n",
       "21524    операции с автомобилем  \n",
       "\n",
       "[21331 rows x 14 columns]"
      ]
     },
     "execution_count": 23,
     "metadata": {},
     "output_type": "execute_result"
    }
   ],
   "source": [
    "data"
   ]
  },
  {
   "cell_type": "markdown",
   "id": "58e706a9",
   "metadata": {},
   "source": [
    "## Исследование данных"
   ]
  },
  {
   "cell_type": "markdown",
   "id": "a25ab42e",
   "metadata": {},
   "source": [
    "Для ответов на поставленные ниже вопросы составим сводные таблицы, в которых строками будут являться исследуемые категории (наличие детей, семейное положение, уровень дохода и цели кредита), а в столбцах укажем:\n",
    "- количество людей, имеющих просрочку по кредиту для каждой категории\n",
    "- общее количество людей в каждой категории\n",
    "- отношение людей, имеющих просрочку, к общему количеству людей"
   ]
  },
  {
   "cell_type": "markdown",
   "id": "c1c52870",
   "metadata": {
    "id": "c5d66278"
   },
   "source": [
    "#### 3.1 Есть ли зависимость между количеством детей и возвратом кредита в срок?"
   ]
  },
  {
   "cell_type": "code",
   "execution_count": 24,
   "id": "0d91c4ea",
   "metadata": {
    "scrolled": true
   },
   "outputs": [
    {
     "data": {
      "text/html": [
       "<style type=\"text/css\">\n",
       "</style>\n",
       "<table id=\"T_e45cc\">\n",
       "  <thead>\n",
       "    <tr>\n",
       "      <th class=\"blank level0\" >&nbsp;</th>\n",
       "      <th id=\"T_e45cc_level0_col0\" class=\"col_heading level0 col0\" >количество детей</th>\n",
       "      <th id=\"T_e45cc_level0_col1\" class=\"col_heading level0 col1\" >наличие просрочки</th>\n",
       "      <th id=\"T_e45cc_level0_col2\" class=\"col_heading level0 col2\" >общее количество людей</th>\n",
       "      <th id=\"T_e45cc_level0_col3\" class=\"col_heading level0 col3\" >отношение, %</th>\n",
       "    </tr>\n",
       "  </thead>\n",
       "  <tbody>\n",
       "    <tr>\n",
       "      <th id=\"T_e45cc_level0_row0\" class=\"row_heading level0 row0\" >0</th>\n",
       "      <td id=\"T_e45cc_row0_col0\" class=\"data row0 col0\" >0</td>\n",
       "      <td id=\"T_e45cc_row0_col1\" class=\"data row0 col1\" >1063</td>\n",
       "      <td id=\"T_e45cc_row0_col2\" class=\"data row0 col2\" >14091</td>\n",
       "      <td id=\"T_e45cc_row0_col3\" class=\"data row0 col3\" >7.54%</td>\n",
       "    </tr>\n",
       "    <tr>\n",
       "      <th id=\"T_e45cc_level0_row1\" class=\"row_heading level0 row1\" >1</th>\n",
       "      <td id=\"T_e45cc_row1_col0\" class=\"data row1 col0\" >1</td>\n",
       "      <td id=\"T_e45cc_row1_col1\" class=\"data row1 col1\" >444</td>\n",
       "      <td id=\"T_e45cc_row1_col2\" class=\"data row1 col2\" >4808</td>\n",
       "      <td id=\"T_e45cc_row1_col3\" class=\"data row1 col3\" >9.23%</td>\n",
       "    </tr>\n",
       "    <tr>\n",
       "      <th id=\"T_e45cc_level0_row2\" class=\"row_heading level0 row2\" >2</th>\n",
       "      <td id=\"T_e45cc_row2_col0\" class=\"data row2 col0\" >2</td>\n",
       "      <td id=\"T_e45cc_row2_col1\" class=\"data row2 col1\" >194</td>\n",
       "      <td id=\"T_e45cc_row2_col2\" class=\"data row2 col2\" >2052</td>\n",
       "      <td id=\"T_e45cc_row2_col3\" class=\"data row2 col3\" >9.45%</td>\n",
       "    </tr>\n",
       "    <tr>\n",
       "      <th id=\"T_e45cc_level0_row3\" class=\"row_heading level0 row3\" >3</th>\n",
       "      <td id=\"T_e45cc_row3_col0\" class=\"data row3 col0\" >3</td>\n",
       "      <td id=\"T_e45cc_row3_col1\" class=\"data row3 col1\" >27</td>\n",
       "      <td id=\"T_e45cc_row3_col2\" class=\"data row3 col2\" >330</td>\n",
       "      <td id=\"T_e45cc_row3_col3\" class=\"data row3 col3\" >8.18%</td>\n",
       "    </tr>\n",
       "    <tr>\n",
       "      <th id=\"T_e45cc_level0_row4\" class=\"row_heading level0 row4\" >4</th>\n",
       "      <td id=\"T_e45cc_row4_col0\" class=\"data row4 col0\" >4</td>\n",
       "      <td id=\"T_e45cc_row4_col1\" class=\"data row4 col1\" >4</td>\n",
       "      <td id=\"T_e45cc_row4_col2\" class=\"data row4 col2\" >41</td>\n",
       "      <td id=\"T_e45cc_row4_col3\" class=\"data row4 col3\" >9.76%</td>\n",
       "    </tr>\n",
       "    <tr>\n",
       "      <th id=\"T_e45cc_level0_row5\" class=\"row_heading level0 row5\" >5</th>\n",
       "      <td id=\"T_e45cc_row5_col0\" class=\"data row5 col0\" >5</td>\n",
       "      <td id=\"T_e45cc_row5_col1\" class=\"data row5 col1\" >0</td>\n",
       "      <td id=\"T_e45cc_row5_col2\" class=\"data row5 col2\" >9</td>\n",
       "      <td id=\"T_e45cc_row5_col3\" class=\"data row5 col3\" >0.00%</td>\n",
       "    </tr>\n",
       "  </tbody>\n",
       "</table>\n"
      ],
      "text/plain": [
       "<pandas.io.formats.style.Styler at 0x1e5a0b40ca0>"
      ]
     },
     "execution_count": 24,
     "metadata": {},
     "output_type": "execute_result"
    }
   ],
   "source": [
    "# создадим сводную таблицу, в которой подсчитаем количество людей, имеющих просрочку, общее количество людей \n",
    "# и долю первых ко вторым соответственно для каждой категории, группировку производим по интересующей нас категории\n",
    "# (в данном случае - по количеству детей)\n",
    "\n",
    "data_pivot_c = data.pivot_table(index='children', values='debt', aggfunc=['sum', 'count', 'mean'])\n",
    "\n",
    "# сбросим мультииндексы и изменим названия столбцов\n",
    "\n",
    "data_pivot_c = data_pivot_c.reset_index()\n",
    "data_pivot_c.columns = (['количество детей', 'наличие просрочки', 'общее количество людей', 'отношение, %'])\n",
    "\n",
    "data_pivot_c.style.format({'отношение, %': '{:.2%}'})"
   ]
  },
  {
   "cell_type": "markdown",
   "id": "ba1d155b",
   "metadata": {},
   "source": [
    " "
   ]
  },
  {
   "cell_type": "markdown",
   "id": "2e99f661",
   "metadata": {},
   "source": [
    "**Проведем дополнительное исследование. Разобьём заёмщиков на две категории: с детьми и без и проверим, влияет ли наличие детей на своевременный возврат кредита.**"
   ]
  },
  {
   "cell_type": "code",
   "execution_count": 25,
   "id": "1e1cb10b",
   "metadata": {},
   "outputs": [
    {
     "data": {
      "text/html": [
       "<style type=\"text/css\">\n",
       "</style>\n",
       "<table id=\"T_4598e\">\n",
       "  <thead>\n",
       "    <tr>\n",
       "      <th class=\"blank level0\" >&nbsp;</th>\n",
       "      <th id=\"T_4598e_level0_col0\" class=\"col_heading level0 col0\" >наличие детей</th>\n",
       "      <th id=\"T_4598e_level0_col1\" class=\"col_heading level0 col1\" >наличие просрочки</th>\n",
       "      <th id=\"T_4598e_level0_col2\" class=\"col_heading level0 col2\" >общее количество людей</th>\n",
       "      <th id=\"T_4598e_level0_col3\" class=\"col_heading level0 col3\" >отношение, %</th>\n",
       "    </tr>\n",
       "  </thead>\n",
       "  <tbody>\n",
       "    <tr>\n",
       "      <th id=\"T_4598e_level0_row0\" class=\"row_heading level0 row0\" >0</th>\n",
       "      <td id=\"T_4598e_row0_col0\" class=\"data row0 col0\" >не имеются</td>\n",
       "      <td id=\"T_4598e_row0_col1\" class=\"data row0 col1\" >1063</td>\n",
       "      <td id=\"T_4598e_row0_col2\" class=\"data row0 col2\" >14091</td>\n",
       "      <td id=\"T_4598e_row0_col3\" class=\"data row0 col3\" >7.54%</td>\n",
       "    </tr>\n",
       "    <tr>\n",
       "      <th id=\"T_4598e_level0_row1\" class=\"row_heading level0 row1\" >1</th>\n",
       "      <td id=\"T_4598e_row1_col0\" class=\"data row1 col0\" >имеются</td>\n",
       "      <td id=\"T_4598e_row1_col1\" class=\"data row1 col1\" >669</td>\n",
       "      <td id=\"T_4598e_row1_col2\" class=\"data row1 col2\" >7240</td>\n",
       "      <td id=\"T_4598e_row1_col3\" class=\"data row1 col3\" >9.24%</td>\n",
       "    </tr>\n",
       "  </tbody>\n",
       "</table>\n"
      ],
      "text/plain": [
       "<pandas.io.formats.style.Styler at 0x1e5a0b54130>"
      ]
     },
     "execution_count": 25,
     "metadata": {},
     "output_type": "execute_result"
    }
   ],
   "source": [
    "# создаем переменные-счетчики и с помощью цикла находим их новые значения\n",
    "\n",
    "amount_people_with_children = 0\n",
    "amount_debt_people_with_children = 0\n",
    "\n",
    "for i in range(1, 6):\n",
    "    amount_people_with_children += data_pivot_c.loc[i,'общее количество людей']\n",
    "    amount_debt_people_with_children += data_pivot_c.loc[i, 'наличие просрочки']\n",
    "\n",
    "ratio_with_children = amount_debt_people_with_children / amount_people_with_children\n",
    "\n",
    "# создаем новым датафрейм\n",
    "\n",
    "data_children_columns = ['наличие детей', 'наличие просрочки', 'общее количество людей', 'отношение, %']\n",
    "data_children = [['не имеются', 1063, 14091, data_pivot_c.loc[0,'отношение, %']], \n",
    "                 ['имеются', amount_debt_people_with_children, amount_people_with_children, ratio_with_children]]\n",
    "\n",
    "data_by_children = pd.DataFrame(data=data_children, columns=data_children_columns)\n",
    "\n",
    "data_by_children.style.format({'отношение, %': '{:.2%}'})"
   ]
  },
  {
   "cell_type": "markdown",
   "id": "6329b1fc",
   "metadata": {
    "id": "3a6b99ec"
   },
   "source": [
    "**Вывод:** из полученных отношений можно сделать вывод, что в целом по мере роста количества детей доля людей, имеющих просрочку растёт. Однако для категории с тремя детьми существует небольшой спад. Также для категории людей, имеющих пятеро детей, эта доля вообще равна нулю. Также это самая немногочисленная категория. Возможно стоит добавить ещё данные по этой категории и провести анализ ещё раз. \n",
    "\n",
    "Анализ дополнительной таблицы также указывает на то, что наличие детей вносит вклад в просрочку: доля людей с просрочкой увеличивается."
   ]
  },
  {
   "cell_type": "markdown",
   "id": "46fc4f36",
   "metadata": {
    "id": "97be82ca"
   },
   "source": [
    "#### 3.2 Есть ли зависимость между семейным положением и возвратом кредита в срок?"
   ]
  },
  {
   "cell_type": "code",
   "execution_count": 26,
   "id": "7b27db07",
   "metadata": {},
   "outputs": [
    {
     "data": {
      "text/html": [
       "<style type=\"text/css\">\n",
       "</style>\n",
       "<table id=\"T_4e1af\">\n",
       "  <thead>\n",
       "    <tr>\n",
       "      <th class=\"blank level0\" >&nbsp;</th>\n",
       "      <th id=\"T_4e1af_level0_col0\" class=\"col_heading level0 col0\" >семейный статус</th>\n",
       "      <th id=\"T_4e1af_level0_col1\" class=\"col_heading level0 col1\" >наличие просрочки</th>\n",
       "      <th id=\"T_4e1af_level0_col2\" class=\"col_heading level0 col2\" >общее количество людей</th>\n",
       "      <th id=\"T_4e1af_level0_col3\" class=\"col_heading level0 col3\" >отношение, %</th>\n",
       "    </tr>\n",
       "  </thead>\n",
       "  <tbody>\n",
       "    <tr>\n",
       "      <th id=\"T_4e1af_level0_row0\" class=\"row_heading level0 row0\" >0</th>\n",
       "      <td id=\"T_4e1af_row0_col0\" class=\"data row0 col0\" >не женат / не замужем</td>\n",
       "      <td id=\"T_4e1af_row0_col1\" class=\"data row0 col1\" >273</td>\n",
       "      <td id=\"T_4e1af_row0_col2\" class=\"data row0 col2\" >2796</td>\n",
       "      <td id=\"T_4e1af_row0_col3\" class=\"data row0 col3\" >9.76%</td>\n",
       "    </tr>\n",
       "    <tr>\n",
       "      <th id=\"T_4e1af_level0_row1\" class=\"row_heading level0 row1\" >1</th>\n",
       "      <td id=\"T_4e1af_row1_col0\" class=\"data row1 col0\" >гражданский брак</td>\n",
       "      <td id=\"T_4e1af_row1_col1\" class=\"data row1 col1\" >385</td>\n",
       "      <td id=\"T_4e1af_row1_col2\" class=\"data row1 col2\" >4134</td>\n",
       "      <td id=\"T_4e1af_row1_col3\" class=\"data row1 col3\" >9.31%</td>\n",
       "    </tr>\n",
       "    <tr>\n",
       "      <th id=\"T_4e1af_level0_row2\" class=\"row_heading level0 row2\" >2</th>\n",
       "      <td id=\"T_4e1af_row2_col0\" class=\"data row2 col0\" >женат / замужем</td>\n",
       "      <td id=\"T_4e1af_row2_col1\" class=\"data row2 col1\" >927</td>\n",
       "      <td id=\"T_4e1af_row2_col2\" class=\"data row2 col2\" >12261</td>\n",
       "      <td id=\"T_4e1af_row2_col3\" class=\"data row2 col3\" >7.56%</td>\n",
       "    </tr>\n",
       "    <tr>\n",
       "      <th id=\"T_4e1af_level0_row3\" class=\"row_heading level0 row3\" >3</th>\n",
       "      <td id=\"T_4e1af_row3_col0\" class=\"data row3 col0\" >в разводе</td>\n",
       "      <td id=\"T_4e1af_row3_col1\" class=\"data row3 col1\" >84</td>\n",
       "      <td id=\"T_4e1af_row3_col2\" class=\"data row3 col2\" >1189</td>\n",
       "      <td id=\"T_4e1af_row3_col3\" class=\"data row3 col3\" >7.06%</td>\n",
       "    </tr>\n",
       "    <tr>\n",
       "      <th id=\"T_4e1af_level0_row4\" class=\"row_heading level0 row4\" >4</th>\n",
       "      <td id=\"T_4e1af_row4_col0\" class=\"data row4 col0\" >вдовец / вдова</td>\n",
       "      <td id=\"T_4e1af_row4_col1\" class=\"data row4 col1\" >63</td>\n",
       "      <td id=\"T_4e1af_row4_col2\" class=\"data row4 col2\" >951</td>\n",
       "      <td id=\"T_4e1af_row4_col3\" class=\"data row4 col3\" >6.62%</td>\n",
       "    </tr>\n",
       "  </tbody>\n",
       "</table>\n"
      ],
      "text/plain": [
       "<pandas.io.formats.style.Styler at 0x1e5a0b54c10>"
      ]
     },
     "execution_count": 26,
     "metadata": {},
     "output_type": "execute_result"
    }
   ],
   "source": [
    "data.loc[data['family_status'] == 'Не женат / не замужем', 'family_status'] = 'не женат / не замужем'\n",
    "\n",
    "data_pivot_f = data.pivot_table(index='family_status', values='debt', aggfunc=['sum', 'count', 'mean'])\n",
    "data_pivot_f = data_pivot_f.reset_index()\n",
    "data_pivot_f.columns = (['семейный статус', 'наличие просрочки', 'общее количество людей', 'отношение, %'])\n",
    "data_pivot_f.sort_values(by='отношение, %', ascending=False).reset_index(drop=True).style.format({'отношение, %': '{:.2%}'})"
   ]
  },
  {
   "cell_type": "markdown",
   "id": "56bdde9a",
   "metadata": {
    "id": "1cef7837"
   },
   "source": [
    "**Вывод:** по верхним трём категориям можно сделать вывод, что вероятность просрочки для одинокого человека выше, чем для человека, состоящего в отношениях. Однако для категорий \"в разводе\" и \"вдовец / вдова\" вероятность просрочки также уменьшается. Однако желательно дополнить анализируемые данные информацией о людях с семейным статусом \"вдовец / вдова\", чтобы повысить достоверность анализа, так как это самая малочисленная категория."
   ]
  },
  {
   "cell_type": "markdown",
   "id": "72013f52",
   "metadata": {
    "id": "1e8b2fca"
   },
   "source": [
    "#### 3.3 Есть ли зависимость между уровнем дохода и возвратом кредита в срок?"
   ]
  },
  {
   "cell_type": "code",
   "execution_count": 27,
   "id": "587ca5ce",
   "metadata": {},
   "outputs": [
    {
     "data": {
      "text/html": [
       "<style type=\"text/css\">\n",
       "</style>\n",
       "<table id=\"T_efc72\">\n",
       "  <thead>\n",
       "    <tr>\n",
       "      <th class=\"blank level0\" >&nbsp;</th>\n",
       "      <th id=\"T_efc72_level0_col0\" class=\"col_heading level0 col0\" >ежемесячный доход</th>\n",
       "      <th id=\"T_efc72_level0_col1\" class=\"col_heading level0 col1\" >наличие просрочки</th>\n",
       "      <th id=\"T_efc72_level0_col2\" class=\"col_heading level0 col2\" >общее количество людей</th>\n",
       "      <th id=\"T_efc72_level0_col3\" class=\"col_heading level0 col3\" >отношение, %</th>\n",
       "    </tr>\n",
       "  </thead>\n",
       "  <tbody>\n",
       "    <tr>\n",
       "      <th id=\"T_efc72_level0_row0\" class=\"row_heading level0 row0\" >0</th>\n",
       "      <td id=\"T_efc72_row0_col0\" class=\"data row0 col0\" >A</td>\n",
       "      <td id=\"T_efc72_row0_col1\" class=\"data row0 col1\" >2</td>\n",
       "      <td id=\"T_efc72_row0_col2\" class=\"data row0 col2\" >25</td>\n",
       "      <td id=\"T_efc72_row0_col3\" class=\"data row0 col3\" >8.00%</td>\n",
       "    </tr>\n",
       "    <tr>\n",
       "      <th id=\"T_efc72_level0_row1\" class=\"row_heading level0 row1\" >1</th>\n",
       "      <td id=\"T_efc72_row1_col0\" class=\"data row1 col0\" >B</td>\n",
       "      <td id=\"T_efc72_row1_col1\" class=\"data row1 col1\" >354</td>\n",
       "      <td id=\"T_efc72_row1_col2\" class=\"data row1 col2\" >5014</td>\n",
       "      <td id=\"T_efc72_row1_col3\" class=\"data row1 col3\" >7.06%</td>\n",
       "    </tr>\n",
       "    <tr>\n",
       "      <th id=\"T_efc72_level0_row2\" class=\"row_heading level0 row2\" >2</th>\n",
       "      <td id=\"T_efc72_row2_col0\" class=\"data row2 col0\" >C</td>\n",
       "      <td id=\"T_efc72_row2_col1\" class=\"data row2 col1\" >1353</td>\n",
       "      <td id=\"T_efc72_row2_col2\" class=\"data row2 col2\" >15921</td>\n",
       "      <td id=\"T_efc72_row2_col3\" class=\"data row2 col3\" >8.50%</td>\n",
       "    </tr>\n",
       "    <tr>\n",
       "      <th id=\"T_efc72_level0_row3\" class=\"row_heading level0 row3\" >3</th>\n",
       "      <td id=\"T_efc72_row3_col0\" class=\"data row3 col0\" >D</td>\n",
       "      <td id=\"T_efc72_row3_col1\" class=\"data row3 col1\" >21</td>\n",
       "      <td id=\"T_efc72_row3_col2\" class=\"data row3 col2\" >349</td>\n",
       "      <td id=\"T_efc72_row3_col3\" class=\"data row3 col3\" >6.02%</td>\n",
       "    </tr>\n",
       "    <tr>\n",
       "      <th id=\"T_efc72_level0_row4\" class=\"row_heading level0 row4\" >4</th>\n",
       "      <td id=\"T_efc72_row4_col0\" class=\"data row4 col0\" >E</td>\n",
       "      <td id=\"T_efc72_row4_col1\" class=\"data row4 col1\" >2</td>\n",
       "      <td id=\"T_efc72_row4_col2\" class=\"data row4 col2\" >22</td>\n",
       "      <td id=\"T_efc72_row4_col3\" class=\"data row4 col3\" >9.09%</td>\n",
       "    </tr>\n",
       "  </tbody>\n",
       "</table>\n"
      ],
      "text/plain": [
       "<pandas.io.formats.style.Styler at 0x1e5a08de550>"
      ]
     },
     "execution_count": 27,
     "metadata": {},
     "output_type": "execute_result"
    }
   ],
   "source": [
    "data_pivot_t_i = data.pivot_table(index='total_income_category', values='debt', aggfunc=['sum', 'count', 'mean'])\n",
    "data_pivot_t_i = data_pivot_t_i.reset_index()\n",
    "data_pivot_t_i.columns = (['ежемесячный доход', 'наличие просрочки', 'общее количество людей', 'отношение, %'])\n",
    "data_pivot_t_i.style.format({'отношение, %': '{:.2%}'})"
   ]
  },
  {
   "cell_type": "markdown",
   "id": "4760add2",
   "metadata": {
    "id": "e8593def"
   },
   "source": [
    "**Вывод:** из полученных отношений можно сделать вывод, что какой-либо зависимости между ежемесячным доходом и возвратом кредита в срок нет, доли имеющих когда-либо задолженность примерно одинаковы и изменяются хаотично. Наибольший процент просрочек принадлежит людям с доходом до 30000 рублей, наименьший - людям с доходом 30000-50000 рублей. Также надо учесть, что в категориях А, D и Е общее количество людей невелико, что понижает уровень доверия к полученным результатам по данным категориям. "
   ]
  },
  {
   "cell_type": "markdown",
   "id": "b7eda588",
   "metadata": {
    "id": "99ecbd1f"
   },
   "source": [
    "#### 3.4 Как разные цели кредита влияют на его возврат в срок?"
   ]
  },
  {
   "cell_type": "code",
   "execution_count": 28,
   "id": "39101d2d",
   "metadata": {},
   "outputs": [
    {
     "data": {
      "text/html": [
       "<style type=\"text/css\">\n",
       "</style>\n",
       "<table id=\"T_a9a64\">\n",
       "  <thead>\n",
       "    <tr>\n",
       "      <th class=\"blank level0\" >&nbsp;</th>\n",
       "      <th id=\"T_a9a64_level0_col0\" class=\"col_heading level0 col0\" >цель кредита</th>\n",
       "      <th id=\"T_a9a64_level0_col1\" class=\"col_heading level0 col1\" >наличие просрочки</th>\n",
       "      <th id=\"T_a9a64_level0_col2\" class=\"col_heading level0 col2\" >общее количество людей</th>\n",
       "      <th id=\"T_a9a64_level0_col3\" class=\"col_heading level0 col3\" >отношение, %</th>\n",
       "    </tr>\n",
       "  </thead>\n",
       "  <tbody>\n",
       "    <tr>\n",
       "      <th id=\"T_a9a64_level0_row0\" class=\"row_heading level0 row0\" >0</th>\n",
       "      <td id=\"T_a9a64_row0_col0\" class=\"data row0 col0\" >операции с автомобилем</td>\n",
       "      <td id=\"T_a9a64_row0_col1\" class=\"data row0 col1\" >400</td>\n",
       "      <td id=\"T_a9a64_row0_col2\" class=\"data row0 col2\" >4279</td>\n",
       "      <td id=\"T_a9a64_row0_col3\" class=\"data row0 col3\" >9.35%</td>\n",
       "    </tr>\n",
       "    <tr>\n",
       "      <th id=\"T_a9a64_level0_row1\" class=\"row_heading level0 row1\" >1</th>\n",
       "      <td id=\"T_a9a64_row1_col0\" class=\"data row1 col0\" >получение образования</td>\n",
       "      <td id=\"T_a9a64_row1_col1\" class=\"data row1 col1\" >369</td>\n",
       "      <td id=\"T_a9a64_row1_col2\" class=\"data row1 col2\" >3988</td>\n",
       "      <td id=\"T_a9a64_row1_col3\" class=\"data row1 col3\" >9.25%</td>\n",
       "    </tr>\n",
       "    <tr>\n",
       "      <th id=\"T_a9a64_level0_row2\" class=\"row_heading level0 row2\" >2</th>\n",
       "      <td id=\"T_a9a64_row2_col0\" class=\"data row2 col0\" >проведение свадьбы</td>\n",
       "      <td id=\"T_a9a64_row2_col1\" class=\"data row2 col1\" >183</td>\n",
       "      <td id=\"T_a9a64_row2_col2\" class=\"data row2 col2\" >2313</td>\n",
       "      <td id=\"T_a9a64_row2_col3\" class=\"data row2 col3\" >7.91%</td>\n",
       "    </tr>\n",
       "    <tr>\n",
       "      <th id=\"T_a9a64_level0_row3\" class=\"row_heading level0 row3\" >3</th>\n",
       "      <td id=\"T_a9a64_row3_col0\" class=\"data row3 col0\" >операции с недвижимостью</td>\n",
       "      <td id=\"T_a9a64_row3_col1\" class=\"data row3 col1\" >780</td>\n",
       "      <td id=\"T_a9a64_row3_col2\" class=\"data row3 col2\" >10751</td>\n",
       "      <td id=\"T_a9a64_row3_col3\" class=\"data row3 col3\" >7.26%</td>\n",
       "    </tr>\n",
       "  </tbody>\n",
       "</table>\n"
      ],
      "text/plain": [
       "<pandas.io.formats.style.Styler at 0x1e5a1b0e460>"
      ]
     },
     "execution_count": 28,
     "metadata": {},
     "output_type": "execute_result"
    }
   ],
   "source": [
    "data_pivot_p = data.pivot_table(index='purpose_category', values='debt', aggfunc=['sum', 'count', 'mean'])\n",
    "data_pivot_p = data_pivot_p.reset_index()\n",
    "data_pivot_p.columns = (['цель кредита', 'наличие просрочки', 'общее количество людей', 'отношение, %'])\n",
    "data_pivot_p.sort_values(by='отношение, %', ascending=False).reset_index(drop=True).style.format({'отношение, %': '{:.2%}'})"
   ]
  },
  {
   "cell_type": "markdown",
   "id": "1c386d3f",
   "metadata": {
    "id": "b4bb2ce6"
   },
   "source": [
    "**Вывод:** из полученных отношений можно сделать вывод, что просрочки по кредитам, выданных на проведение свадеб и для операций с недвижимостью, меньше, чем просрочки по кредитам для операций с автомобилем и для получения образования."
   ]
  },
  {
   "cell_type": "markdown",
   "id": "44d5596e",
   "metadata": {},
   "source": [
    " "
   ]
  },
  {
   "cell_type": "markdown",
   "id": "90a7fbbf",
   "metadata": {
    "id": "09c3ac4c"
   },
   "source": [
    "#### 3.5 Возможные причины появления пропусков в исходных данных."
   ]
  },
  {
   "cell_type": "markdown",
   "id": "f89b244f",
   "metadata": {
    "id": "9da2ceda"
   },
   "source": [
    "Как было выяснено в пункте 4, пропуски присутствовали в двух столбцах: \"общий трудовой стаж в днях\" и \"ежемесячный доход\", по 2174 пропуска в каждом столбце. Было решено подсчитать количество строк, где присутствуют пропуски в обоих этих столбцах одновременно (см. ячейки ниже)."
   ]
  },
  {
   "cell_type": "code",
   "execution_count": 29,
   "id": "efbbdd24",
   "metadata": {},
   "outputs": [
    {
     "data": {
      "text/plain": [
       "children               0\n",
       "days_employed       2174\n",
       "dob_years              0\n",
       "education              0\n",
       "education_id           0\n",
       "family_status          0\n",
       "family_status_id       0\n",
       "gender                 0\n",
       "income_type            0\n",
       "debt                   0\n",
       "total_income        2174\n",
       "purpose                0\n",
       "dtype: int64"
      ]
     },
     "execution_count": 29,
     "metadata": {},
     "output_type": "execute_result"
    }
   ],
   "source": [
    "#  количество пропусков в столбцах\n",
    "\n",
    "data_copy.isna().sum()"
   ]
  },
  {
   "cell_type": "code",
   "execution_count": 30,
   "id": "94407fa0",
   "metadata": {},
   "outputs": [
    {
     "data": {
      "text/plain": [
       "2174"
      ]
     },
     "execution_count": 30,
     "metadata": {},
     "output_type": "execute_result"
    }
   ],
   "source": [
    "#  количество строк, где присутствуют пропуски в обоих столбцах одновременно\n",
    "\n",
    "data_copy[(data_copy['days_employed'].isna()) & (data_copy['total_income'].isna())]['dob_years'].count()"
   ]
  },
  {
   "cell_type": "markdown",
   "id": "7a113862",
   "metadata": {},
   "source": [
    "Как видно, количество этих строк также равно 2174. Скорее всего люди, описываемые этими строками, отказались предоставлять информацию о своей работе."
   ]
  },
  {
   "cell_type": "markdown",
   "id": "f7e57e6a",
   "metadata": {
    "id": "7b0487d6"
   },
   "source": [
    "#### 3.6 Почему заполнить пропуски медианным значением — лучшее решение для количественных переменных."
   ]
  },
  {
   "cell_type": "markdown",
   "id": "8ba9aa5e",
   "metadata": {
    "id": "7ecf2b8e"
   },
   "source": [
    "*Ответ:* при использовании среднего значения в его значение могут внести большой вклад значения сильно отличающиеся от большинства значений выборки, что будет неверно отражать информацию о ней. Медиана в этом случае более корректно отразит содержание значений в выборке."
   ]
  },
  {
   "cell_type": "markdown",
   "id": "142c2c23",
   "metadata": {
    "id": "6db5255a"
   },
   "source": [
    "### Общий вывод"
   ]
  },
  {
   "cell_type": "markdown",
   "id": "3e453f66",
   "metadata": {},
   "source": [
    "В ходе данной работы выяснялось, влияет ли количество детей, семейное положение, ежемесячный доход и цель кредита клиента на факт погашения кредита в срок. Входные данные от банка — статистика о платёжеспособности клиентов. В ходе анализа были рассчитаны доли количества людей, имеющих просрочки, по отношению к общему количеству людей в интересующих категориях.\n",
    "\n",
    "На этапе предобработки были обнаружены пропуски в столбцах \"общий трудовой стаж в днях\" (days_employed)  и \"ежемесячный доход\" (total_income). Отсутствующие значения были заменены медианными значениями по каждому типу из столбца \"тип занятости\" (income_type).\n",
    "\n",
    "Также были обнаружены отрицательные количества дней трудового стажа в столбце \"общий трудовой стаж в днях\" (days_employed). Эти значения были переведены в положительные путеем взятия модуля.\n",
    "\n",
    "В столбце \"количество детей в семье\" (children) присутствовали два аномальных значения: -1 и 20. Строки, в которых встречаются такие аномальные значения были удалены из датафрейма.\n",
    "\n",
    "Также были обработаны значения в столбце \"уровень образования клиента\" (education): приведены к одному регистру, после чего были удалены строки с явными дубликатами, которые также присутствовали в датафрейме. \n",
    "\n",
    "После данные были разбиты по категориям по уровню ежемесячного дохода и целям выдаваемого кредита для последующего анализа.\n",
    "\n",
    "\n",
    "Выводы.\n",
    "\n",
    "- Было выяснено, что между уровнем дохода и своевременным возвратом кредита какой-то определённой зависимости не имеется, разброс значений по категориям для процента людей, имеющих когда-либо задолжености, не велик (минимальный 6.02%, максимальный 9.09%) и изменяется хаотично. \n",
    "\n",
    "\n",
    "- Для зависимости от количества детей было выяснено, что вероятность задолженности увеличивается с количеством детей: 7.54% для заемщиков без детей и 9.76% для семей с четырьмя детьми. Однако, скорее всего требуется дополнительный анализ данных, в которых будет увеличено количество людей имеющих трое, четверо и пятеро детей.\n",
    "\n",
    "\n",
    "- Для зависимости  от семейного положения было выяснено, что люди в статусе \"Не женат / не замужем\" имеют наибольшую вероятность просрочить кредит (9.76%), в то время как наименьшая вероятность у категории \"вдовец / вдова\" (6.62%). \n",
    "\n",
    "\n",
    "- Цели кредита также не вносят сильный разброс для значений доли людей, имеющих когда-либо просрочку: 9.35% для операций с автомобилем и 7.26% для операций с недвижимостью."
   ]
  },
  {
   "cell_type": "code",
   "execution_count": null,
   "id": "78e94388",
   "metadata": {},
   "outputs": [],
   "source": []
  }
 ],
 "metadata": {
  "ExecuteTimeLog": [
   {
    "duration": 391,
    "start_time": "2022-09-14T13:43:50.527Z"
   },
   {
    "duration": 20,
    "start_time": "2022-09-14T13:43:50.919Z"
   },
   {
    "duration": 13,
    "start_time": "2022-09-14T13:43:50.941Z"
   },
   {
    "duration": 25,
    "start_time": "2022-09-14T13:43:50.956Z"
   },
   {
    "duration": 33,
    "start_time": "2022-09-14T13:43:50.982Z"
   },
   {
    "duration": 4,
    "start_time": "2022-09-14T13:43:51.016Z"
   },
   {
    "duration": 12,
    "start_time": "2022-09-14T13:43:51.021Z"
   },
   {
    "duration": 4,
    "start_time": "2022-09-14T13:43:51.035Z"
   },
   {
    "duration": 37,
    "start_time": "2022-09-14T13:43:51.040Z"
   },
   {
    "duration": 4,
    "start_time": "2022-09-14T13:43:51.080Z"
   },
   {
    "duration": 43,
    "start_time": "2022-09-14T13:43:51.085Z"
   },
   {
    "duration": 10,
    "start_time": "2022-09-14T13:43:51.130Z"
   },
   {
    "duration": 6,
    "start_time": "2022-09-14T13:43:51.141Z"
   },
   {
    "duration": 31,
    "start_time": "2022-09-14T13:43:51.148Z"
   },
   {
    "duration": 25,
    "start_time": "2022-09-14T13:43:51.180Z"
   },
   {
    "duration": 17,
    "start_time": "2022-09-14T13:43:51.207Z"
   },
   {
    "duration": 4,
    "start_time": "2022-09-14T13:43:51.225Z"
   },
   {
    "duration": 15,
    "start_time": "2022-09-14T13:43:51.230Z"
   },
   {
    "duration": 6,
    "start_time": "2022-09-14T13:43:51.246Z"
   },
   {
    "duration": 4,
    "start_time": "2022-09-14T13:43:51.277Z"
   },
   {
    "duration": 13,
    "start_time": "2022-09-14T13:43:51.283Z"
   },
   {
    "duration": 621,
    "start_time": "2022-09-15T16:02:38.025Z"
   },
   {
    "duration": 17,
    "start_time": "2022-09-15T16:02:38.648Z"
   },
   {
    "duration": 35,
    "start_time": "2022-09-15T16:02:38.666Z"
   },
   {
    "duration": 20,
    "start_time": "2022-09-15T16:02:38.703Z"
   },
   {
    "duration": 1664,
    "start_time": "2022-09-15T16:02:38.725Z"
   },
   {
    "duration": 0,
    "start_time": "2022-09-15T16:02:40.392Z"
   },
   {
    "duration": 0,
    "start_time": "2022-09-15T16:02:40.395Z"
   },
   {
    "duration": 0,
    "start_time": "2022-09-15T16:02:40.395Z"
   },
   {
    "duration": 0,
    "start_time": "2022-09-15T16:02:40.396Z"
   },
   {
    "duration": 0,
    "start_time": "2022-09-15T16:02:40.397Z"
   },
   {
    "duration": 0,
    "start_time": "2022-09-15T16:02:40.398Z"
   },
   {
    "duration": 0,
    "start_time": "2022-09-15T16:02:40.400Z"
   },
   {
    "duration": 0,
    "start_time": "2022-09-15T16:02:40.401Z"
   },
   {
    "duration": 0,
    "start_time": "2022-09-15T16:02:40.402Z"
   },
   {
    "duration": 0,
    "start_time": "2022-09-15T16:02:40.402Z"
   },
   {
    "duration": 0,
    "start_time": "2022-09-15T16:02:40.403Z"
   },
   {
    "duration": 0,
    "start_time": "2022-09-15T16:02:40.404Z"
   },
   {
    "duration": 0,
    "start_time": "2022-09-15T16:02:40.405Z"
   },
   {
    "duration": 0,
    "start_time": "2022-09-15T16:02:40.406Z"
   },
   {
    "duration": 0,
    "start_time": "2022-09-15T16:02:40.407Z"
   },
   {
    "duration": 0,
    "start_time": "2022-09-15T16:02:40.408Z"
   },
   {
    "duration": 0,
    "start_time": "2022-09-15T16:02:40.409Z"
   },
   {
    "duration": 0,
    "start_time": "2022-09-15T16:02:40.409Z"
   },
   {
    "duration": 0,
    "start_time": "2022-09-15T16:02:40.410Z"
   },
   {
    "duration": 0,
    "start_time": "2022-09-15T16:02:40.411Z"
   },
   {
    "duration": 0,
    "start_time": "2022-09-15T16:02:40.412Z"
   },
   {
    "duration": 0,
    "start_time": "2022-09-15T16:02:40.412Z"
   },
   {
    "duration": 0,
    "start_time": "2022-09-15T16:02:40.413Z"
   },
   {
    "duration": 456,
    "start_time": "2022-09-15T16:09:16.732Z"
   },
   {
    "duration": 20,
    "start_time": "2022-09-15T16:09:17.190Z"
   },
   {
    "duration": 24,
    "start_time": "2022-09-15T16:09:17.214Z"
   },
   {
    "duration": 16,
    "start_time": "2022-09-15T16:09:17.239Z"
   },
   {
    "duration": 51,
    "start_time": "2022-09-15T16:09:17.256Z"
   },
   {
    "duration": 3,
    "start_time": "2022-09-15T16:09:17.308Z"
   },
   {
    "duration": 30,
    "start_time": "2022-09-15T16:09:17.313Z"
   },
   {
    "duration": 10,
    "start_time": "2022-09-15T16:09:17.345Z"
   },
   {
    "duration": 22,
    "start_time": "2022-09-15T16:09:17.358Z"
   },
   {
    "duration": 11,
    "start_time": "2022-09-15T16:09:17.381Z"
   },
   {
    "duration": 58,
    "start_time": "2022-09-15T16:09:17.394Z"
   },
   {
    "duration": 12,
    "start_time": "2022-09-15T16:09:17.454Z"
   },
   {
    "duration": 20,
    "start_time": "2022-09-15T16:09:17.468Z"
   },
   {
    "duration": 25,
    "start_time": "2022-09-15T16:09:17.490Z"
   },
   {
    "duration": 26,
    "start_time": "2022-09-15T16:09:17.517Z"
   },
   {
    "duration": 16,
    "start_time": "2022-09-15T16:09:17.545Z"
   },
   {
    "duration": 3,
    "start_time": "2022-09-15T16:09:17.562Z"
   },
   {
    "duration": 30,
    "start_time": "2022-09-15T16:09:17.567Z"
   },
   {
    "duration": 17,
    "start_time": "2022-09-15T16:09:17.599Z"
   },
   {
    "duration": 7,
    "start_time": "2022-09-15T16:09:17.618Z"
   },
   {
    "duration": 35,
    "start_time": "2022-09-15T16:09:17.628Z"
   },
   {
    "duration": 45,
    "start_time": "2022-09-15T16:09:17.665Z"
   },
   {
    "duration": 30,
    "start_time": "2022-09-15T16:09:17.712Z"
   },
   {
    "duration": 30,
    "start_time": "2022-09-15T16:09:17.744Z"
   },
   {
    "duration": 52,
    "start_time": "2022-09-15T16:09:17.776Z"
   },
   {
    "duration": 41,
    "start_time": "2022-09-15T16:09:17.830Z"
   },
   {
    "duration": 13,
    "start_time": "2022-09-15T16:09:17.874Z"
   },
   {
    "duration": 9,
    "start_time": "2022-09-15T16:09:17.889Z"
   },
   {
    "duration": 18,
    "start_time": "2022-09-15T16:18:38.821Z"
   },
   {
    "duration": 20,
    "start_time": "2022-09-15T16:18:49.478Z"
   },
   {
    "duration": 38,
    "start_time": "2022-09-15T16:24:41.762Z"
   },
   {
    "duration": 27,
    "start_time": "2022-09-15T16:29:26.552Z"
   },
   {
    "duration": 25,
    "start_time": "2022-09-15T16:29:37.468Z"
   },
   {
    "duration": 28,
    "start_time": "2022-09-15T16:30:57.497Z"
   },
   {
    "duration": 406,
    "start_time": "2022-09-15T16:42:01.122Z"
   },
   {
    "duration": 20,
    "start_time": "2022-09-15T16:42:01.530Z"
   },
   {
    "duration": 15,
    "start_time": "2022-09-15T16:42:01.551Z"
   },
   {
    "duration": 12,
    "start_time": "2022-09-15T16:42:01.568Z"
   },
   {
    "duration": 32,
    "start_time": "2022-09-15T16:42:01.581Z"
   },
   {
    "duration": 3,
    "start_time": "2022-09-15T16:42:01.615Z"
   },
   {
    "duration": 15,
    "start_time": "2022-09-15T16:42:01.620Z"
   },
   {
    "duration": 7,
    "start_time": "2022-09-15T16:42:01.636Z"
   },
   {
    "duration": 13,
    "start_time": "2022-09-15T16:42:01.644Z"
   },
   {
    "duration": 17,
    "start_time": "2022-09-15T16:42:01.661Z"
   },
   {
    "duration": 33,
    "start_time": "2022-09-15T16:42:01.680Z"
   },
   {
    "duration": 12,
    "start_time": "2022-09-15T16:42:01.716Z"
   },
   {
    "duration": 9,
    "start_time": "2022-09-15T16:42:01.729Z"
   },
   {
    "duration": 20,
    "start_time": "2022-09-15T16:42:01.740Z"
   },
   {
    "duration": 27,
    "start_time": "2022-09-15T16:42:01.762Z"
   },
   {
    "duration": 16,
    "start_time": "2022-09-15T16:42:01.790Z"
   },
   {
    "duration": 3,
    "start_time": "2022-09-15T16:42:01.808Z"
   },
   {
    "duration": 14,
    "start_time": "2022-09-15T16:42:01.813Z"
   },
   {
    "duration": 7,
    "start_time": "2022-09-15T16:42:01.828Z"
   },
   {
    "duration": 4,
    "start_time": "2022-09-15T16:42:01.837Z"
   },
   {
    "duration": 12,
    "start_time": "2022-09-15T16:42:01.843Z"
   },
   {
    "duration": 39,
    "start_time": "2022-09-15T16:42:01.857Z"
   },
   {
    "duration": 19,
    "start_time": "2022-09-15T16:42:01.897Z"
   },
   {
    "duration": 19,
    "start_time": "2022-09-15T16:42:01.917Z"
   },
   {
    "duration": 40,
    "start_time": "2022-09-15T16:42:01.938Z"
   },
   {
    "duration": 24,
    "start_time": "2022-09-15T16:42:01.979Z"
   },
   {
    "duration": 7,
    "start_time": "2022-09-15T16:42:02.005Z"
   },
   {
    "duration": 9,
    "start_time": "2022-09-15T16:42:02.015Z"
   },
   {
    "duration": 788,
    "start_time": "2022-09-15T17:19:19.639Z"
   },
   {
    "duration": 22,
    "start_time": "2022-09-15T17:19:23.599Z"
   },
   {
    "duration": 72,
    "start_time": "2022-09-15T17:19:42.471Z"
   },
   {
    "duration": 498,
    "start_time": "2022-09-15T17:20:11.734Z"
   },
   {
    "duration": 23,
    "start_time": "2022-09-15T17:20:12.234Z"
   },
   {
    "duration": 16,
    "start_time": "2022-09-15T17:20:12.258Z"
   },
   {
    "duration": 21,
    "start_time": "2022-09-15T17:20:12.276Z"
   },
   {
    "duration": 48,
    "start_time": "2022-09-15T17:20:12.299Z"
   },
   {
    "duration": 5,
    "start_time": "2022-09-15T17:20:12.348Z"
   },
   {
    "duration": 16,
    "start_time": "2022-09-15T17:20:12.355Z"
   },
   {
    "duration": 12,
    "start_time": "2022-09-15T17:20:12.373Z"
   },
   {
    "duration": 11,
    "start_time": "2022-09-15T17:20:12.387Z"
   },
   {
    "duration": 4,
    "start_time": "2022-09-15T17:20:12.400Z"
   },
   {
    "duration": 48,
    "start_time": "2022-09-15T17:20:12.406Z"
   },
   {
    "duration": 10,
    "start_time": "2022-09-15T17:20:12.455Z"
   },
   {
    "duration": 5,
    "start_time": "2022-09-15T17:20:12.466Z"
   },
   {
    "duration": 21,
    "start_time": "2022-09-15T17:20:12.472Z"
   },
   {
    "duration": 19,
    "start_time": "2022-09-15T17:20:12.495Z"
   },
   {
    "duration": 35,
    "start_time": "2022-09-15T17:20:12.515Z"
   },
   {
    "duration": 4,
    "start_time": "2022-09-15T17:20:12.552Z"
   },
   {
    "duration": 17,
    "start_time": "2022-09-15T17:20:12.557Z"
   },
   {
    "duration": 6,
    "start_time": "2022-09-15T17:20:12.575Z"
   },
   {
    "duration": 6,
    "start_time": "2022-09-15T17:20:12.582Z"
   },
   {
    "duration": 16,
    "start_time": "2022-09-15T17:20:12.590Z"
   },
   {
    "duration": 23,
    "start_time": "2022-09-15T17:20:12.608Z"
   },
   {
    "duration": 21,
    "start_time": "2022-09-15T17:20:12.647Z"
   },
   {
    "duration": 21,
    "start_time": "2022-09-15T17:20:12.670Z"
   },
   {
    "duration": 19,
    "start_time": "2022-09-15T17:20:12.693Z"
   },
   {
    "duration": 50,
    "start_time": "2022-09-15T17:20:12.714Z"
   },
   {
    "duration": 10,
    "start_time": "2022-09-15T17:20:12.766Z"
   },
   {
    "duration": 9,
    "start_time": "2022-09-15T17:20:12.778Z"
   },
   {
    "duration": 39,
    "start_time": "2022-09-15T17:36:48.640Z"
   },
   {
    "duration": 18,
    "start_time": "2022-09-15T18:00:31.960Z"
   },
   {
    "duration": 451,
    "start_time": "2022-09-15T18:01:22.909Z"
   },
   {
    "duration": 22,
    "start_time": "2022-09-15T18:01:23.362Z"
   },
   {
    "duration": 19,
    "start_time": "2022-09-15T18:01:23.385Z"
   },
   {
    "duration": 9,
    "start_time": "2022-09-15T18:01:23.406Z"
   },
   {
    "duration": 53,
    "start_time": "2022-09-15T18:01:23.416Z"
   },
   {
    "duration": 4,
    "start_time": "2022-09-15T18:01:23.470Z"
   },
   {
    "duration": 10,
    "start_time": "2022-09-15T18:01:23.476Z"
   },
   {
    "duration": 11,
    "start_time": "2022-09-15T18:01:23.487Z"
   },
   {
    "duration": 10,
    "start_time": "2022-09-15T18:01:23.499Z"
   },
   {
    "duration": 4,
    "start_time": "2022-09-15T18:01:23.511Z"
   },
   {
    "duration": 48,
    "start_time": "2022-09-15T18:01:23.517Z"
   },
   {
    "duration": 9,
    "start_time": "2022-09-15T18:01:23.566Z"
   },
   {
    "duration": 12,
    "start_time": "2022-09-15T18:01:23.576Z"
   },
   {
    "duration": 12,
    "start_time": "2022-09-15T18:01:23.590Z"
   },
   {
    "duration": 18,
    "start_time": "2022-09-15T18:01:23.603Z"
   },
   {
    "duration": 33,
    "start_time": "2022-09-15T18:01:23.623Z"
   },
   {
    "duration": 3,
    "start_time": "2022-09-15T18:01:23.657Z"
   },
   {
    "duration": 12,
    "start_time": "2022-09-15T18:01:23.662Z"
   },
   {
    "duration": 8,
    "start_time": "2022-09-15T18:01:23.676Z"
   },
   {
    "duration": 3,
    "start_time": "2022-09-15T18:01:23.686Z"
   },
   {
    "duration": 11,
    "start_time": "2022-09-15T18:01:23.691Z"
   },
   {
    "duration": 19,
    "start_time": "2022-09-15T18:01:23.703Z"
   },
   {
    "duration": 20,
    "start_time": "2022-09-15T18:01:23.747Z"
   },
   {
    "duration": 89,
    "start_time": "2022-09-15T18:01:23.769Z"
   },
   {
    "duration": 0,
    "start_time": "2022-09-15T18:01:23.860Z"
   },
   {
    "duration": 0,
    "start_time": "2022-09-15T18:01:23.861Z"
   },
   {
    "duration": 0,
    "start_time": "2022-09-15T18:01:23.862Z"
   },
   {
    "duration": 0,
    "start_time": "2022-09-15T18:01:23.863Z"
   },
   {
    "duration": 479,
    "start_time": "2022-09-15T18:02:16.854Z"
   },
   {
    "duration": 22,
    "start_time": "2022-09-15T18:02:17.335Z"
   },
   {
    "duration": 25,
    "start_time": "2022-09-15T18:02:17.358Z"
   },
   {
    "duration": 10,
    "start_time": "2022-09-15T18:02:17.386Z"
   },
   {
    "duration": 53,
    "start_time": "2022-09-15T18:02:17.397Z"
   },
   {
    "duration": 3,
    "start_time": "2022-09-15T18:02:17.452Z"
   },
   {
    "duration": 12,
    "start_time": "2022-09-15T18:02:17.456Z"
   },
   {
    "duration": 5,
    "start_time": "2022-09-15T18:02:17.470Z"
   },
   {
    "duration": 9,
    "start_time": "2022-09-15T18:02:17.476Z"
   },
   {
    "duration": 4,
    "start_time": "2022-09-15T18:02:17.488Z"
   },
   {
    "duration": 63,
    "start_time": "2022-09-15T18:02:17.494Z"
   },
   {
    "duration": 11,
    "start_time": "2022-09-15T18:02:17.558Z"
   },
   {
    "duration": 8,
    "start_time": "2022-09-15T18:02:17.570Z"
   },
   {
    "duration": 13,
    "start_time": "2022-09-15T18:02:17.579Z"
   },
   {
    "duration": 20,
    "start_time": "2022-09-15T18:02:17.593Z"
   },
   {
    "duration": 38,
    "start_time": "2022-09-15T18:02:17.615Z"
   },
   {
    "duration": 4,
    "start_time": "2022-09-15T18:02:17.654Z"
   },
   {
    "duration": 14,
    "start_time": "2022-09-15T18:02:17.659Z"
   },
   {
    "duration": 8,
    "start_time": "2022-09-15T18:02:17.675Z"
   },
   {
    "duration": 8,
    "start_time": "2022-09-15T18:02:17.684Z"
   },
   {
    "duration": 15,
    "start_time": "2022-09-15T18:02:17.694Z"
   },
   {
    "duration": 36,
    "start_time": "2022-09-15T18:02:17.710Z"
   },
   {
    "duration": 20,
    "start_time": "2022-09-15T18:02:17.748Z"
   },
   {
    "duration": 22,
    "start_time": "2022-09-15T18:02:17.770Z"
   },
   {
    "duration": 17,
    "start_time": "2022-09-15T18:02:17.794Z"
   },
   {
    "duration": 46,
    "start_time": "2022-09-15T18:02:17.812Z"
   },
   {
    "duration": 9,
    "start_time": "2022-09-15T18:02:17.860Z"
   },
   {
    "duration": 6,
    "start_time": "2022-09-15T18:02:17.871Z"
   },
   {
    "duration": 417,
    "start_time": "2022-09-15T18:40:42.467Z"
   },
   {
    "duration": 84,
    "start_time": "2022-09-15T18:41:11.931Z"
   },
   {
    "duration": 21,
    "start_time": "2022-09-15T18:41:30.151Z"
   },
   {
    "duration": 17,
    "start_time": "2022-09-15T18:41:51.022Z"
   },
   {
    "duration": 20,
    "start_time": "2022-09-15T18:42:09.628Z"
   },
   {
    "duration": 904,
    "start_time": "2022-09-15T18:51:36.903Z"
   },
   {
    "duration": 9,
    "start_time": "2022-09-15T18:51:48.418Z"
   },
   {
    "duration": 9,
    "start_time": "2022-09-15T18:52:17.232Z"
   },
   {
    "duration": 3,
    "start_time": "2022-09-15T19:36:17.793Z"
   },
   {
    "duration": 26,
    "start_time": "2022-09-15T19:40:47.017Z"
   },
   {
    "duration": 24,
    "start_time": "2022-09-15T19:40:58.271Z"
   },
   {
    "duration": 45,
    "start_time": "2022-09-15T19:41:15.159Z"
   },
   {
    "duration": 22,
    "start_time": "2022-09-15T19:43:21.292Z"
   },
   {
    "duration": 5,
    "start_time": "2022-09-15T19:47:24.654Z"
   },
   {
    "duration": 23,
    "start_time": "2022-09-15T19:52:39.007Z"
   },
   {
    "duration": 3,
    "start_time": "2022-09-15T19:53:13.735Z"
   },
   {
    "duration": 29,
    "start_time": "2022-09-15T19:53:20.886Z"
   },
   {
    "duration": 29,
    "start_time": "2022-09-15T19:54:25.818Z"
   },
   {
    "duration": 3868,
    "start_time": "2022-09-15T19:55:14.774Z"
   },
   {
    "duration": 3665,
    "start_time": "2022-09-15T19:55:19.711Z"
   },
   {
    "duration": 18,
    "start_time": "2022-09-15T19:56:29.491Z"
   },
   {
    "duration": 4,
    "start_time": "2022-09-15T20:03:08.558Z"
   },
   {
    "duration": 25,
    "start_time": "2022-09-15T20:03:19.315Z"
   },
   {
    "duration": 2,
    "start_time": "2022-09-15T20:03:41.089Z"
   },
   {
    "duration": 38,
    "start_time": "2022-09-15T20:04:41.033Z"
   },
   {
    "duration": 35,
    "start_time": "2022-09-15T20:05:00.063Z"
   },
   {
    "duration": 32,
    "start_time": "2022-09-15T20:05:09.822Z"
   },
   {
    "duration": 30,
    "start_time": "2022-09-15T20:20:52.013Z"
   },
   {
    "duration": 477,
    "start_time": "2022-09-15T20:20:57.949Z"
   },
   {
    "duration": 22,
    "start_time": "2022-09-15T20:20:58.427Z"
   },
   {
    "duration": 16,
    "start_time": "2022-09-15T20:20:58.451Z"
   },
   {
    "duration": 10,
    "start_time": "2022-09-15T20:20:58.469Z"
   },
   {
    "duration": 34,
    "start_time": "2022-09-15T20:20:58.480Z"
   },
   {
    "duration": 3,
    "start_time": "2022-09-15T20:20:58.516Z"
   },
   {
    "duration": 32,
    "start_time": "2022-09-15T20:20:58.520Z"
   },
   {
    "duration": 4,
    "start_time": "2022-09-15T20:20:58.553Z"
   },
   {
    "duration": 9,
    "start_time": "2022-09-15T20:20:58.559Z"
   },
   {
    "duration": 4,
    "start_time": "2022-09-15T20:20:58.571Z"
   },
   {
    "duration": 35,
    "start_time": "2022-09-15T20:20:58.576Z"
   },
   {
    "duration": 9,
    "start_time": "2022-09-15T20:20:58.613Z"
   },
   {
    "duration": 4,
    "start_time": "2022-09-15T20:20:58.647Z"
   },
   {
    "duration": 20,
    "start_time": "2022-09-15T20:20:58.652Z"
   },
   {
    "duration": 21,
    "start_time": "2022-09-15T20:20:58.674Z"
   },
   {
    "duration": 15,
    "start_time": "2022-09-15T20:20:58.697Z"
   },
   {
    "duration": 4,
    "start_time": "2022-09-15T20:20:58.713Z"
   },
   {
    "duration": 33,
    "start_time": "2022-09-15T20:20:58.718Z"
   },
   {
    "duration": 6,
    "start_time": "2022-09-15T20:20:58.753Z"
   },
   {
    "duration": 9,
    "start_time": "2022-09-15T20:20:58.761Z"
   },
   {
    "duration": 13,
    "start_time": "2022-09-15T20:20:58.772Z"
   },
   {
    "duration": 20,
    "start_time": "2022-09-15T20:20:58.787Z"
   },
   {
    "duration": 4,
    "start_time": "2022-09-15T20:20:58.809Z"
   },
   {
    "duration": 295,
    "start_time": "2022-09-15T20:20:58.815Z"
   },
   {
    "duration": 71,
    "start_time": "2022-09-15T20:20:59.112Z"
   },
   {
    "duration": 0,
    "start_time": "2022-09-15T20:20:59.185Z"
   },
   {
    "duration": 0,
    "start_time": "2022-09-15T20:20:59.187Z"
   },
   {
    "duration": 0,
    "start_time": "2022-09-15T20:20:59.188Z"
   },
   {
    "duration": 0,
    "start_time": "2022-09-15T20:20:59.190Z"
   },
   {
    "duration": 0,
    "start_time": "2022-09-15T20:20:59.191Z"
   },
   {
    "duration": 1,
    "start_time": "2022-09-15T20:20:59.192Z"
   },
   {
    "duration": 0,
    "start_time": "2022-09-15T20:20:59.194Z"
   },
   {
    "duration": 0,
    "start_time": "2022-09-15T20:20:59.195Z"
   },
   {
    "duration": 8,
    "start_time": "2022-09-15T20:24:00.559Z"
   },
   {
    "duration": 38,
    "start_time": "2022-09-15T20:24:21.714Z"
   },
   {
    "duration": 9,
    "start_time": "2022-09-15T20:24:26.939Z"
   },
   {
    "duration": 9,
    "start_time": "2022-09-15T20:24:32.318Z"
   },
   {
    "duration": 11,
    "start_time": "2022-09-15T20:24:42.584Z"
   },
   {
    "duration": 6,
    "start_time": "2022-09-15T20:24:50.149Z"
   },
   {
    "duration": 9,
    "start_time": "2022-09-15T20:25:18.245Z"
   },
   {
    "duration": 10,
    "start_time": "2022-09-15T20:25:51.644Z"
   },
   {
    "duration": 7,
    "start_time": "2022-09-15T20:26:29.660Z"
   },
   {
    "duration": 10,
    "start_time": "2022-09-15T20:26:36.443Z"
   },
   {
    "duration": 4,
    "start_time": "2022-09-15T20:26:42.012Z"
   },
   {
    "duration": 28,
    "start_time": "2022-09-15T20:27:06.988Z"
   },
   {
    "duration": 5,
    "start_time": "2022-09-15T20:27:09.923Z"
   },
   {
    "duration": 4,
    "start_time": "2022-09-15T20:27:14.974Z"
   },
   {
    "duration": 9,
    "start_time": "2022-09-15T20:27:25.765Z"
   },
   {
    "duration": 488,
    "start_time": "2022-09-15T20:27:34.120Z"
   },
   {
    "duration": 20,
    "start_time": "2022-09-15T20:27:34.610Z"
   },
   {
    "duration": 17,
    "start_time": "2022-09-15T20:27:34.632Z"
   },
   {
    "duration": 9,
    "start_time": "2022-09-15T20:27:34.652Z"
   },
   {
    "duration": 33,
    "start_time": "2022-09-15T20:27:34.663Z"
   },
   {
    "duration": 3,
    "start_time": "2022-09-15T20:27:34.698Z"
   },
   {
    "duration": 10,
    "start_time": "2022-09-15T20:27:34.702Z"
   },
   {
    "duration": 5,
    "start_time": "2022-09-15T20:27:34.714Z"
   },
   {
    "duration": 32,
    "start_time": "2022-09-15T20:27:34.721Z"
   },
   {
    "duration": 5,
    "start_time": "2022-09-15T20:27:34.759Z"
   },
   {
    "duration": 37,
    "start_time": "2022-09-15T20:27:34.765Z"
   },
   {
    "duration": 11,
    "start_time": "2022-09-15T20:27:34.804Z"
   },
   {
    "duration": 30,
    "start_time": "2022-09-15T20:27:34.817Z"
   },
   {
    "duration": 12,
    "start_time": "2022-09-15T20:27:34.849Z"
   },
   {
    "duration": 31,
    "start_time": "2022-09-15T20:27:34.862Z"
   },
   {
    "duration": 15,
    "start_time": "2022-09-15T20:27:34.895Z"
   },
   {
    "duration": 3,
    "start_time": "2022-09-15T20:27:34.911Z"
   },
   {
    "duration": 11,
    "start_time": "2022-09-15T20:27:34.916Z"
   },
   {
    "duration": 21,
    "start_time": "2022-09-15T20:27:34.928Z"
   },
   {
    "duration": 4,
    "start_time": "2022-09-15T20:27:34.951Z"
   },
   {
    "duration": 10,
    "start_time": "2022-09-15T20:27:34.957Z"
   },
   {
    "duration": 30,
    "start_time": "2022-09-15T20:27:34.969Z"
   },
   {
    "duration": 3,
    "start_time": "2022-09-15T20:27:35.001Z"
   },
   {
    "duration": 282,
    "start_time": "2022-09-15T20:27:35.006Z"
   },
   {
    "duration": 8,
    "start_time": "2022-09-15T20:27:35.290Z"
   },
   {
    "duration": 7,
    "start_time": "2022-09-15T20:27:35.300Z"
   },
   {
    "duration": 39,
    "start_time": "2022-09-15T20:27:35.308Z"
   },
   {
    "duration": 3,
    "start_time": "2022-09-15T20:27:35.351Z"
   },
   {
    "duration": 43,
    "start_time": "2022-09-15T20:27:35.356Z"
   },
   {
    "duration": 3,
    "start_time": "2022-09-15T20:27:35.400Z"
   },
   {
    "duration": 49,
    "start_time": "2022-09-15T20:27:35.405Z"
   },
   {
    "duration": 10,
    "start_time": "2022-09-15T20:27:35.456Z"
   },
   {
    "duration": 9,
    "start_time": "2022-09-15T20:27:35.468Z"
   },
   {
    "duration": 27,
    "start_time": "2022-09-15T20:28:19.356Z"
   },
   {
    "duration": 34,
    "start_time": "2022-09-15T20:55:34.271Z"
   },
   {
    "duration": 7,
    "start_time": "2022-09-15T22:03:55.196Z"
   },
   {
    "duration": 431,
    "start_time": "2022-09-15T22:22:34.300Z"
   },
   {
    "duration": 28,
    "start_time": "2022-09-15T22:22:34.733Z"
   },
   {
    "duration": 19,
    "start_time": "2022-09-15T22:22:34.762Z"
   },
   {
    "duration": 14,
    "start_time": "2022-09-15T22:22:34.783Z"
   },
   {
    "duration": 38,
    "start_time": "2022-09-15T22:22:34.798Z"
   },
   {
    "duration": 3,
    "start_time": "2022-09-15T22:22:34.838Z"
   },
   {
    "duration": 14,
    "start_time": "2022-09-15T22:22:34.849Z"
   },
   {
    "duration": 6,
    "start_time": "2022-09-15T22:22:34.864Z"
   },
   {
    "duration": 8,
    "start_time": "2022-09-15T22:22:34.871Z"
   },
   {
    "duration": 8,
    "start_time": "2022-09-15T22:22:34.882Z"
   },
   {
    "duration": 42,
    "start_time": "2022-09-15T22:22:34.891Z"
   },
   {
    "duration": 24,
    "start_time": "2022-09-15T22:22:34.934Z"
   },
   {
    "duration": 4,
    "start_time": "2022-09-15T22:22:34.961Z"
   },
   {
    "duration": 12,
    "start_time": "2022-09-15T22:22:34.967Z"
   },
   {
    "duration": 19,
    "start_time": "2022-09-15T22:22:34.980Z"
   },
   {
    "duration": 16,
    "start_time": "2022-09-15T22:22:35.001Z"
   },
   {
    "duration": 3,
    "start_time": "2022-09-15T22:22:35.019Z"
   },
   {
    "duration": 35,
    "start_time": "2022-09-15T22:22:35.024Z"
   },
   {
    "duration": 15,
    "start_time": "2022-09-15T22:22:35.061Z"
   },
   {
    "duration": 7,
    "start_time": "2022-09-15T22:22:35.078Z"
   },
   {
    "duration": 12,
    "start_time": "2022-09-15T22:22:35.087Z"
   },
   {
    "duration": 29,
    "start_time": "2022-09-15T22:22:35.100Z"
   },
   {
    "duration": 6,
    "start_time": "2022-09-15T22:22:35.130Z"
   },
   {
    "duration": 292,
    "start_time": "2022-09-15T22:22:35.138Z"
   },
   {
    "duration": 7,
    "start_time": "2022-09-15T22:22:35.432Z"
   },
   {
    "duration": 13,
    "start_time": "2022-09-15T22:22:35.447Z"
   },
   {
    "duration": 34,
    "start_time": "2022-09-15T22:22:35.462Z"
   },
   {
    "duration": 2,
    "start_time": "2022-09-15T22:22:35.498Z"
   },
   {
    "duration": 45,
    "start_time": "2022-09-15T22:22:35.501Z"
   },
   {
    "duration": 7,
    "start_time": "2022-09-15T22:22:35.549Z"
   },
   {
    "duration": 35,
    "start_time": "2022-09-15T22:22:35.557Z"
   },
   {
    "duration": 10,
    "start_time": "2022-09-15T22:22:35.594Z"
   },
   {
    "duration": 10,
    "start_time": "2022-09-15T22:22:35.606Z"
   },
   {
    "duration": 28,
    "start_time": "2022-09-15T22:30:37.881Z"
   },
   {
    "duration": 469,
    "start_time": "2022-09-15T22:36:37.763Z"
   },
   {
    "duration": 26,
    "start_time": "2022-09-15T22:36:38.234Z"
   },
   {
    "duration": 32,
    "start_time": "2022-09-15T22:36:38.262Z"
   },
   {
    "duration": 11,
    "start_time": "2022-09-15T22:36:38.296Z"
   },
   {
    "duration": 45,
    "start_time": "2022-09-15T22:36:38.309Z"
   },
   {
    "duration": 4,
    "start_time": "2022-09-15T22:36:38.355Z"
   },
   {
    "duration": 9,
    "start_time": "2022-09-15T22:36:38.362Z"
   },
   {
    "duration": 5,
    "start_time": "2022-09-15T22:36:38.373Z"
   },
   {
    "duration": 7,
    "start_time": "2022-09-15T22:36:38.380Z"
   },
   {
    "duration": 5,
    "start_time": "2022-09-15T22:36:38.391Z"
   },
   {
    "duration": 62,
    "start_time": "2022-09-15T22:36:38.397Z"
   },
   {
    "duration": 9,
    "start_time": "2022-09-15T22:36:38.461Z"
   },
   {
    "duration": 7,
    "start_time": "2022-09-15T22:36:38.472Z"
   },
   {
    "duration": 11,
    "start_time": "2022-09-15T22:36:38.481Z"
   },
   {
    "duration": 19,
    "start_time": "2022-09-15T22:36:38.494Z"
   },
   {
    "duration": 32,
    "start_time": "2022-09-15T22:36:38.515Z"
   },
   {
    "duration": 13,
    "start_time": "2022-09-15T22:36:38.548Z"
   },
   {
    "duration": 12,
    "start_time": "2022-09-15T22:36:38.563Z"
   },
   {
    "duration": 9,
    "start_time": "2022-09-15T22:36:38.576Z"
   },
   {
    "duration": 4,
    "start_time": "2022-09-15T22:36:38.586Z"
   },
   {
    "duration": 14,
    "start_time": "2022-09-15T22:36:38.592Z"
   },
   {
    "duration": 23,
    "start_time": "2022-09-15T22:36:38.608Z"
   },
   {
    "duration": 5,
    "start_time": "2022-09-15T22:36:38.632Z"
   },
   {
    "duration": 291,
    "start_time": "2022-09-15T22:36:38.638Z"
   },
   {
    "duration": 22,
    "start_time": "2022-09-15T22:36:38.931Z"
   },
   {
    "duration": 7,
    "start_time": "2022-09-15T22:36:38.954Z"
   },
   {
    "duration": 40,
    "start_time": "2022-09-15T22:36:38.962Z"
   },
   {
    "duration": 2,
    "start_time": "2022-09-15T22:36:39.005Z"
   },
   {
    "duration": 28,
    "start_time": "2022-09-15T22:36:39.008Z"
   },
   {
    "duration": 8,
    "start_time": "2022-09-15T22:36:39.049Z"
   },
   {
    "duration": 35,
    "start_time": "2022-09-15T22:36:39.062Z"
   },
   {
    "duration": 9,
    "start_time": "2022-09-15T22:36:39.098Z"
   },
   {
    "duration": 7,
    "start_time": "2022-09-15T22:36:39.108Z"
   },
   {
    "duration": 744,
    "start_time": "2022-09-16T08:26:11.307Z"
   },
   {
    "duration": 25,
    "start_time": "2022-09-16T08:26:12.052Z"
   },
   {
    "duration": 34,
    "start_time": "2022-09-16T08:26:12.079Z"
   },
   {
    "duration": 29,
    "start_time": "2022-09-16T08:26:12.115Z"
   },
   {
    "duration": 53,
    "start_time": "2022-09-16T08:26:12.146Z"
   },
   {
    "duration": 4,
    "start_time": "2022-09-16T08:26:12.201Z"
   },
   {
    "duration": 27,
    "start_time": "2022-09-16T08:26:12.206Z"
   },
   {
    "duration": 36,
    "start_time": "2022-09-16T08:26:12.234Z"
   },
   {
    "duration": 24,
    "start_time": "2022-09-16T08:26:12.272Z"
   },
   {
    "duration": 28,
    "start_time": "2022-09-16T08:26:12.300Z"
   },
   {
    "duration": 43,
    "start_time": "2022-09-16T08:26:12.329Z"
   },
   {
    "duration": 11,
    "start_time": "2022-09-16T08:26:12.375Z"
   },
   {
    "duration": 15,
    "start_time": "2022-09-16T08:26:12.387Z"
   },
   {
    "duration": 12,
    "start_time": "2022-09-16T08:26:12.404Z"
   },
   {
    "duration": 26,
    "start_time": "2022-09-16T08:26:12.418Z"
   },
   {
    "duration": 17,
    "start_time": "2022-09-16T08:26:12.446Z"
   },
   {
    "duration": 3,
    "start_time": "2022-09-16T08:26:12.465Z"
   },
   {
    "duration": 13,
    "start_time": "2022-09-16T08:26:12.470Z"
   },
   {
    "duration": 6,
    "start_time": "2022-09-16T08:26:12.485Z"
   },
   {
    "duration": 29,
    "start_time": "2022-09-16T08:26:12.492Z"
   },
   {
    "duration": 17,
    "start_time": "2022-09-16T08:26:12.523Z"
   },
   {
    "duration": 30,
    "start_time": "2022-09-16T08:26:12.542Z"
   },
   {
    "duration": 6,
    "start_time": "2022-09-16T08:26:12.574Z"
   },
   {
    "duration": 470,
    "start_time": "2022-09-16T08:26:12.581Z"
   },
   {
    "duration": 10,
    "start_time": "2022-09-16T08:26:13.053Z"
   },
   {
    "duration": 22,
    "start_time": "2022-09-16T08:26:13.065Z"
   },
   {
    "duration": 37,
    "start_time": "2022-09-16T08:26:13.090Z"
   },
   {
    "duration": 2,
    "start_time": "2022-09-16T08:26:13.131Z"
   },
   {
    "duration": 31,
    "start_time": "2022-09-16T08:26:13.135Z"
   },
   {
    "duration": 3,
    "start_time": "2022-09-16T08:26:13.167Z"
   },
   {
    "duration": 50,
    "start_time": "2022-09-16T08:26:13.171Z"
   },
   {
    "duration": 9,
    "start_time": "2022-09-16T08:26:13.224Z"
   },
   {
    "duration": 7,
    "start_time": "2022-09-16T08:26:13.235Z"
   }
  ],
  "colab": {
   "name": "dpp_template_part2.ipynb",
   "provenance": []
  },
  "kernelspec": {
   "display_name": "Python 3 (ipykernel)",
   "language": "python",
   "name": "python3"
  },
  "language_info": {
   "codemirror_mode": {
    "name": "ipython",
    "version": 3
   },
   "file_extension": ".py",
   "mimetype": "text/x-python",
   "name": "python",
   "nbconvert_exporter": "python",
   "pygments_lexer": "ipython3",
   "version": "3.9.12"
  },
  "toc": {
   "base_numbering": 1,
   "nav_menu": {},
   "number_sections": true,
   "sideBar": true,
   "skip_h1_title": true,
   "title_cell": "Table of Contents",
   "title_sidebar": "Contents",
   "toc_cell": false,
   "toc_position": {},
   "toc_section_display": true,
   "toc_window_display": false
  }
 },
 "nbformat": 4,
 "nbformat_minor": 5
}
