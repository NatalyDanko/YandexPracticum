{
 "cells": [
  {
   "cell_type": "markdown",
   "metadata": {},
   "source": [
    "# Определение стоимости автомобилей"
   ]
  },
  {
   "cell_type": "markdown",
   "metadata": {},
   "source": [
    "## Подготовка данных"
   ]
  },
  {
   "cell_type": "code",
   "execution_count": 1,
   "metadata": {},
   "outputs": [],
   "source": [
    "import pandas as pd\n",
    "import matplotlib.pyplot as plt\n",
    "import seaborn as sns\n",
    "import numpy as np\n",
    "import lightgbm as lgb\n",
    "\n",
    "from sklearn.preprocessing import StandardScaler\n",
    "from sklearn.model_selection import train_test_split\n",
    "from sklearn.preprocessing import OrdinalEncoder\n",
    "from sklearn.ensemble import RandomForestClassifier\n",
    "from sklearn.metrics import make_scorer\n",
    "from sklearn.metrics import mean_squared_error\n",
    "from sklearn.ensemble import RandomForestRegressor\n",
    "from sklearn.model_selection import GridSearchCV\n",
    "from catboost import CatBoostRegressor"
   ]
  },
  {
   "cell_type": "code",
   "execution_count": 2,
   "metadata": {},
   "outputs": [
    {
     "data": {
      "text/html": [
       "<div>\n",
       "<style scoped>\n",
       "    .dataframe tbody tr th:only-of-type {\n",
       "        vertical-align: middle;\n",
       "    }\n",
       "\n",
       "    .dataframe tbody tr th {\n",
       "        vertical-align: top;\n",
       "    }\n",
       "\n",
       "    .dataframe thead th {\n",
       "        text-align: right;\n",
       "    }\n",
       "</style>\n",
       "<table border=\"1\" class=\"dataframe\">\n",
       "  <thead>\n",
       "    <tr style=\"text-align: right;\">\n",
       "      <th></th>\n",
       "      <th>DateCrawled</th>\n",
       "      <th>Price</th>\n",
       "      <th>VehicleType</th>\n",
       "      <th>RegistrationYear</th>\n",
       "      <th>Gearbox</th>\n",
       "      <th>Power</th>\n",
       "      <th>Model</th>\n",
       "      <th>Kilometer</th>\n",
       "      <th>RegistrationMonth</th>\n",
       "      <th>FuelType</th>\n",
       "      <th>Brand</th>\n",
       "      <th>Repaired</th>\n",
       "      <th>DateCreated</th>\n",
       "      <th>NumberOfPictures</th>\n",
       "      <th>PostalCode</th>\n",
       "      <th>LastSeen</th>\n",
       "    </tr>\n",
       "  </thead>\n",
       "  <tbody>\n",
       "    <tr>\n",
       "      <th>0</th>\n",
       "      <td>2016-03-24 11:52:17</td>\n",
       "      <td>480</td>\n",
       "      <td>NaN</td>\n",
       "      <td>1993</td>\n",
       "      <td>manual</td>\n",
       "      <td>0</td>\n",
       "      <td>golf</td>\n",
       "      <td>150000</td>\n",
       "      <td>0</td>\n",
       "      <td>petrol</td>\n",
       "      <td>volkswagen</td>\n",
       "      <td>NaN</td>\n",
       "      <td>2016-03-24 00:00:00</td>\n",
       "      <td>0</td>\n",
       "      <td>70435</td>\n",
       "      <td>2016-04-07 03:16:57</td>\n",
       "    </tr>\n",
       "    <tr>\n",
       "      <th>1</th>\n",
       "      <td>2016-03-24 10:58:45</td>\n",
       "      <td>18300</td>\n",
       "      <td>coupe</td>\n",
       "      <td>2011</td>\n",
       "      <td>manual</td>\n",
       "      <td>190</td>\n",
       "      <td>NaN</td>\n",
       "      <td>125000</td>\n",
       "      <td>5</td>\n",
       "      <td>gasoline</td>\n",
       "      <td>audi</td>\n",
       "      <td>yes</td>\n",
       "      <td>2016-03-24 00:00:00</td>\n",
       "      <td>0</td>\n",
       "      <td>66954</td>\n",
       "      <td>2016-04-07 01:46:50</td>\n",
       "    </tr>\n",
       "    <tr>\n",
       "      <th>2</th>\n",
       "      <td>2016-03-14 12:52:21</td>\n",
       "      <td>9800</td>\n",
       "      <td>suv</td>\n",
       "      <td>2004</td>\n",
       "      <td>auto</td>\n",
       "      <td>163</td>\n",
       "      <td>grand</td>\n",
       "      <td>125000</td>\n",
       "      <td>8</td>\n",
       "      <td>gasoline</td>\n",
       "      <td>jeep</td>\n",
       "      <td>NaN</td>\n",
       "      <td>2016-03-14 00:00:00</td>\n",
       "      <td>0</td>\n",
       "      <td>90480</td>\n",
       "      <td>2016-04-05 12:47:46</td>\n",
       "    </tr>\n",
       "    <tr>\n",
       "      <th>3</th>\n",
       "      <td>2016-03-17 16:54:04</td>\n",
       "      <td>1500</td>\n",
       "      <td>small</td>\n",
       "      <td>2001</td>\n",
       "      <td>manual</td>\n",
       "      <td>75</td>\n",
       "      <td>golf</td>\n",
       "      <td>150000</td>\n",
       "      <td>6</td>\n",
       "      <td>petrol</td>\n",
       "      <td>volkswagen</td>\n",
       "      <td>no</td>\n",
       "      <td>2016-03-17 00:00:00</td>\n",
       "      <td>0</td>\n",
       "      <td>91074</td>\n",
       "      <td>2016-03-17 17:40:17</td>\n",
       "    </tr>\n",
       "    <tr>\n",
       "      <th>4</th>\n",
       "      <td>2016-03-31 17:25:20</td>\n",
       "      <td>3600</td>\n",
       "      <td>small</td>\n",
       "      <td>2008</td>\n",
       "      <td>manual</td>\n",
       "      <td>69</td>\n",
       "      <td>fabia</td>\n",
       "      <td>90000</td>\n",
       "      <td>7</td>\n",
       "      <td>gasoline</td>\n",
       "      <td>skoda</td>\n",
       "      <td>no</td>\n",
       "      <td>2016-03-31 00:00:00</td>\n",
       "      <td>0</td>\n",
       "      <td>60437</td>\n",
       "      <td>2016-04-06 10:17:21</td>\n",
       "    </tr>\n",
       "  </tbody>\n",
       "</table>\n",
       "</div>"
      ],
      "text/plain": [
       "           DateCrawled  Price VehicleType  RegistrationYear Gearbox  Power  \\\n",
       "0  2016-03-24 11:52:17    480         NaN              1993  manual      0   \n",
       "1  2016-03-24 10:58:45  18300       coupe              2011  manual    190   \n",
       "2  2016-03-14 12:52:21   9800         suv              2004    auto    163   \n",
       "3  2016-03-17 16:54:04   1500       small              2001  manual     75   \n",
       "4  2016-03-31 17:25:20   3600       small              2008  manual     69   \n",
       "\n",
       "   Model  Kilometer  RegistrationMonth  FuelType       Brand Repaired  \\\n",
       "0   golf     150000                  0    petrol  volkswagen      NaN   \n",
       "1    NaN     125000                  5  gasoline        audi      yes   \n",
       "2  grand     125000                  8  gasoline        jeep      NaN   \n",
       "3   golf     150000                  6    petrol  volkswagen       no   \n",
       "4  fabia      90000                  7  gasoline       skoda       no   \n",
       "\n",
       "           DateCreated  NumberOfPictures  PostalCode             LastSeen  \n",
       "0  2016-03-24 00:00:00                 0       70435  2016-04-07 03:16:57  \n",
       "1  2016-03-24 00:00:00                 0       66954  2016-04-07 01:46:50  \n",
       "2  2016-03-14 00:00:00                 0       90480  2016-04-05 12:47:46  \n",
       "3  2016-03-17 00:00:00                 0       91074  2016-03-17 17:40:17  \n",
       "4  2016-03-31 00:00:00                 0       60437  2016-04-06 10:17:21  "
      ]
     },
     "execution_count": 2,
     "metadata": {},
     "output_type": "execute_result"
    }
   ],
   "source": [
    "try:\n",
    "    data = pd.read_csv('autos.csv')\n",
    "    \n",
    "except:\n",
    "    print('Ошибка загрузки данных')\n",
    "    \n",
    "data.head()"
   ]
  },
  {
   "cell_type": "code",
   "execution_count": 3,
   "metadata": {
    "scrolled": false
   },
   "outputs": [
    {
     "name": "stdout",
     "output_type": "stream",
     "text": [
      "<class 'pandas.core.frame.DataFrame'>\n",
      "RangeIndex: 354369 entries, 0 to 354368\n",
      "Data columns (total 16 columns):\n",
      " #   Column             Non-Null Count   Dtype \n",
      "---  ------             --------------   ----- \n",
      " 0   DateCrawled        354369 non-null  object\n",
      " 1   Price              354369 non-null  int64 \n",
      " 2   VehicleType        316879 non-null  object\n",
      " 3   RegistrationYear   354369 non-null  int64 \n",
      " 4   Gearbox            334536 non-null  object\n",
      " 5   Power              354369 non-null  int64 \n",
      " 6   Model              334664 non-null  object\n",
      " 7   Kilometer          354369 non-null  int64 \n",
      " 8   RegistrationMonth  354369 non-null  int64 \n",
      " 9   FuelType           321474 non-null  object\n",
      " 10  Brand              354369 non-null  object\n",
      " 11  Repaired           283215 non-null  object\n",
      " 12  DateCreated        354369 non-null  object\n",
      " 13  NumberOfPictures   354369 non-null  int64 \n",
      " 14  PostalCode         354369 non-null  int64 \n",
      " 15  LastSeen           354369 non-null  object\n",
      "dtypes: int64(7), object(9)\n",
      "memory usage: 43.3+ MB\n"
     ]
    }
   ],
   "source": [
    "data.info()"
   ]
  },
  {
   "cell_type": "markdown",
   "metadata": {},
   "source": [
    "**Проверка данных на пропуски и явные дубликаты**"
   ]
  },
  {
   "cell_type": "code",
   "execution_count": 4,
   "metadata": {
    "scrolled": true
   },
   "outputs": [
    {
     "name": "stdout",
     "output_type": "stream",
     "text": [
      "Количество явных дубликатов: 4\n",
      "\n",
      "Количество пропусков по столбцам\n",
      "DateCrawled              0\n",
      "Price                    0\n",
      "VehicleType          37490\n",
      "RegistrationYear         0\n",
      "Gearbox              19833\n",
      "Power                    0\n",
      "Model                19705\n",
      "Kilometer                0\n",
      "RegistrationMonth        0\n",
      "FuelType             32895\n",
      "Brand                    0\n",
      "Repaired             71154\n",
      "DateCreated              0\n",
      "NumberOfPictures         0\n",
      "PostalCode               0\n",
      "LastSeen                 0\n",
      "dtype: int64\n"
     ]
    }
   ],
   "source": [
    "print('Количество явных дубликатов:', data.duplicated().sum())\n",
    "print()\n",
    "print('Количество пропусков по столбцам', data.isna().sum(), sep='\\n')"
   ]
  },
  {
   "cell_type": "code",
   "execution_count": 5,
   "metadata": {},
   "outputs": [],
   "source": [
    "# удаление явных дубликатов\n",
    "\n",
    "data = data.drop_duplicates().reset_index(drop=True)\n",
    "\n",
    "# заполнение пропусков \n",
    "\n",
    "data = data.fillna('unknown')"
   ]
  },
  {
   "cell_type": "markdown",
   "metadata": {},
   "source": [
    "**Удаление неинформативных параметров**"
   ]
  },
  {
   "cell_type": "markdown",
   "metadata": {},
   "source": [
    "Признаки 'DateCrawled', 'RegistrationYear', 'RegistrationMonth', 'DateCreated', 'NumberOfPictures', 'PostalCode', 'LastSeen' не являются информативными, поэтому их рассматривать не будем."
   ]
  },
  {
   "cell_type": "code",
   "execution_count": 6,
   "metadata": {},
   "outputs": [],
   "source": [
    "data = data.drop(['DateCrawled', 'RegistrationYear', 'RegistrationMonth', 'DateCreated', 'NumberOfPictures', 'PostalCode', 'LastSeen'], axis=1)"
   ]
  },
  {
   "cell_type": "markdown",
   "metadata": {},
   "source": [
    "**Смена названий столбцов**"
   ]
  },
  {
   "cell_type": "code",
   "execution_count": 7,
   "metadata": {},
   "outputs": [
    {
     "data": {
      "text/plain": [
       "Index(['price', 'vehicle_type', 'gearbox', 'power', 'model', 'kilometer',\n",
       "       'fuel_type', 'brand', 'repaired'],\n",
       "      dtype='object')"
      ]
     },
     "execution_count": 7,
     "metadata": {},
     "output_type": "execute_result"
    }
   ],
   "source": [
    "data.columns = ['Price', 'Vehicle_Type', 'Gearbox', 'Power', 'Model', 'Kilometer','Fuel_Type', 'Brand', 'Repaired']\n",
    "data.columns = data.columns.str.lower()\n",
    "data.columns"
   ]
  },
  {
   "cell_type": "markdown",
   "metadata": {},
   "source": [
    "**Графический анализ признаков**"
   ]
  },
  {
   "cell_type": "markdown",
   "metadata": {},
   "source": [
    "Построение графиков для категориальных признаков"
   ]
  },
  {
   "cell_type": "code",
   "execution_count": 8,
   "metadata": {
    "scrolled": true
   },
   "outputs": [
    {
     "data": {
      "image/png": "[encoded data removed]",
      "text/plain": [
       "<Figure size 432x288 with 1 Axes>"
      ]
     },
     "metadata": {
      "needs_background": "light"
     },
     "output_type": "display_data"
    },
    {
     "data": {
      "image/png": "[encoded data removed]",
      "text/plain": [
       "<Figure size 432x288 with 1 Axes>"
      ]
     },
     "metadata": {
      "needs_background": "light"
     },
     "output_type": "display_data"
    },
    {
     "data": {
      "image/png": "[encoded data removed]",
      "text/plain": [
       "<Figure size 432x288 with 1 Axes>"
      ]
     },
     "metadata": {
      "needs_background": "light"
     },
     "output_type": "display_data"
    },
    {
     "data": {
      "image/png": "[encoded data removed]",
      "text/plain": [
       "<Figure size 432x288 with 1 Axes>"
      ]
     },
     "metadata": {
      "needs_background": "light"
     },
     "output_type": "display_data"
    },
    {
     "data": {
      "image/png": "[encoded data removed]",
      "text/plain": [
       "<Figure size 432x288 with 1 Axes>"
      ]
     },
     "metadata": {
      "needs_background": "light"
     },
     "output_type": "display_data"
    }
   ],
   "source": [
    "data['vehicle_type'].value_counts().plot(kind='bar', title = 'Количество анкет по типу автомобильного кузова')\n",
    "plt.show()\n",
    "data['gearbox'].value_counts().plot(kind='bar', title = 'Количество анкет по типу коробки передач')\n",
    "plt.show()\n",
    "data['fuel_type'].value_counts().plot(kind='bar', title = 'Количество анкет по типу топлива')\n",
    "plt.show()\n",
    "data['brand'].value_counts().plot(kind='bar', title = 'Количество анкет марки автомобиля')\n",
    "plt.show()\n",
    "data['repaired'].value_counts().plot(kind='bar', title = 'Количество анкет по наличию ремонта')\n",
    "plt.show()"
   ]
  },
  {
   "cell_type": "markdown",
   "metadata": {},
   "source": [
    "**Построение диаграмм размаха для количественых признаков**"
   ]
  },
  {
   "cell_type": "code",
   "execution_count": 9,
   "metadata": {
    "scrolled": false
   },
   "outputs": [
    {
     "data": {
      "image/png": "[encoded data removed]",
      "text/plain": [
       "<Figure size 432x288 with 1 Axes>"
      ]
     },
     "metadata": {
      "needs_background": "light"
     },
     "output_type": "display_data"
    },
    {
     "data": {
      "image/png": "[encoded data removed]",
      "text/plain": [
       "<Figure size 432x288 with 1 Axes>"
      ]
     },
     "metadata": {
      "needs_background": "light"
     },
     "output_type": "display_data"
    },
    {
     "data": {
      "image/png": "[encoded data removed]",
      "text/plain": [
       "<Figure size 432x288 with 1 Axes>"
      ]
     },
     "metadata": {
      "needs_background": "light"
     },
     "output_type": "display_data"
    }
   ],
   "source": [
    "sns.boxplot(x=data['power'])\n",
    "plt.show()\n",
    "\n",
    "sns.boxplot(x=data['kilometer'])\n",
    "plt.show()\n",
    "\n",
    "sns.boxplot(x=data['price'])\n",
    "plt.show()"
   ]
  },
  {
   "cell_type": "markdown",
   "metadata": {},
   "source": [
    "**Выборка данных по столбцу \"Power\" и \"Price\"**"
   ]
  },
  {
   "cell_type": "markdown",
   "metadata": {},
   "source": [
    "Ограничение выборок 5-м и 95-м квантилем :"
   ]
  },
  {
   "cell_type": "code",
   "execution_count": 10,
   "metadata": {
    "scrolled": false
   },
   "outputs": [
    {
     "data": {
      "image/png": "[encoded data removed]",
      "text/plain": [
       "<Figure size 432x288 with 1 Axes>"
      ]
     },
     "metadata": {
      "needs_background": "light"
     },
     "output_type": "display_data"
    },
    {
     "data": {
      "image/png": "[encoded data removed]",
      "text/plain": [
       "<Figure size 432x288 with 1 Axes>"
      ]
     },
     "metadata": {
      "needs_background": "light"
     },
     "output_type": "display_data"
    }
   ],
   "source": [
    "# выборка данных по столбцу \"Power\"\n",
    "\n",
    "data = data[(data['power'] < data['power'].quantile(0.95)) & (data['power'] > data['power'].quantile(0.05))]\n",
    "\n",
    "sns.boxplot(x=data['power'])\n",
    "plt.show()\n",
    "\n",
    "# выборка данных по столбцу \"Price\"\n",
    "\n",
    "data = data[(data['price'] < data['price'].quantile(0.95)) & (data['price'] > data['price'].quantile(0.05))]\n",
    "\n",
    "sns.boxplot(x=data['price'])\n",
    "plt.show()"
   ]
  },
  {
   "cell_type": "markdown",
   "metadata": {},
   "source": [
    "**Вывод**\n",
    "\n",
    "Была произведена предобработка данных: данные проверены на пропуски с последующим их заполнением, удалены явные дубликаты. Произведён графический анализ признаков и отбор необходимых данных."
   ]
  },
  {
   "cell_type": "code",
   "execution_count": 11,
   "metadata": {},
   "outputs": [],
   "source": [
    "# import sweetviz as sv\n",
    "# report = sv.analyze([data, \" Autos\"])\n",
    "# report.show_html('Autos.html')"
   ]
  },
  {
   "cell_type": "markdown",
   "metadata": {},
   "source": [
    "## Обучение моделей"
   ]
  },
  {
   "cell_type": "markdown",
   "metadata": {},
   "source": [
    "**Разбиение на обучающую и тестовую выборки**"
   ]
  },
  {
   "cell_type": "code",
   "execution_count": 12,
   "metadata": {},
   "outputs": [],
   "source": [
    "features = data.drop('price', axis=1)\n",
    "target = data['price']\n",
    "\n",
    "features_train, features_test, target_train, target_test = train_test_split(\n",
    "    features, target, test_size=0.25, random_state=12345)"
   ]
  },
  {
   "cell_type": "markdown",
   "metadata": {},
   "source": [
    "**Масштабирование количественных признаков**"
   ]
  },
  {
   "cell_type": "code",
   "execution_count": 13,
   "metadata": {},
   "outputs": [],
   "source": [
    "pd.options.mode.chained_assignment = None\n",
    "\n",
    "numeric = ['power', 'kilometer']\n",
    "\n",
    "scaler = StandardScaler()\n",
    "\n",
    "features_train[numeric] = scaler.fit_transform(features_train[numeric])\n",
    "features_test[numeric] = scaler.transform(features_test[numeric])"
   ]
  },
  {
   "cell_type": "markdown",
   "metadata": {},
   "source": [
    "**Кодирование категориальных признаков**"
   ]
  },
  {
   "cell_type": "markdown",
   "metadata": {},
   "source": [
    "Кодирование признаков 'vehicle_type', 'gearbox', 'model', 'fuel_type', 'brand', 'repaired' методом OrdinalEncoder."
   ]
  },
  {
   "cell_type": "code",
   "execution_count": 14,
   "metadata": {},
   "outputs": [],
   "source": [
    "features_train_oe = features_train.copy(deep=True)\n",
    "features_test_oe = features_test.copy(deep=True)\n",
    "\n",
    "encoder = OrdinalEncoder(handle_unknown='use_encoded_value', unknown_value=-1)\n",
    "\n",
    "features_train_oe[['vehicle_type', 'gearbox', 'model', 'fuel_type', 'brand', 'repaired']] =\\\n",
    "encoder.fit_transform(features_train_oe[['vehicle_type', 'gearbox', 'model', 'fuel_type', 'brand', 'repaired']])\n",
    "\n",
    "features_test_oe[['vehicle_type', 'gearbox', 'model', 'fuel_type', 'brand', 'repaired']] =\\\n",
    "encoder.transform(features_test_oe[['vehicle_type', 'gearbox', 'model', 'fuel_type', 'brand', 'repaired']])"
   ]
  },
  {
   "cell_type": "markdown",
   "metadata": {},
   "source": [
    "**Создание функции для вычисления метрики RMSE**"
   ]
  },
  {
   "cell_type": "code",
   "execution_count": 15,
   "metadata": {},
   "outputs": [],
   "source": [
    "def rmse(t, p):\n",
    "    return mean_squared_error(t, p) ** 0.5\n",
    "\n",
    "rmse = make_scorer(rmse, greater_is_better=False)"
   ]
  },
  {
   "cell_type": "markdown",
   "metadata": {},
   "source": [
    "**СЛУЧАЙНЫЙ ЛЕС**"
   ]
  },
  {
   "cell_type": "markdown",
   "metadata": {},
   "source": [
    "**Подбор гиперпараметров**"
   ]
  },
  {
   "cell_type": "code",
   "execution_count": 16,
   "metadata": {
    "scrolled": true
   },
   "outputs": [
    {
     "name": "stdout",
     "output_type": "stream",
     "text": [
      "Наилучшее значение метрики RMSE: 2037 при параметрах {'max_depth': 9, 'n_estimators': 40}\n",
      "Время обучения: 11.3\n",
      "Время предсказания: 0.3\n"
     ]
    }
   ],
   "source": [
    "parameters = {'n_estimators': range(20, 41, 5), 'max_depth': range(1, 10)}\n",
    "model_rf = RandomForestRegressor(random_state=12345)\n",
    "tree_grid = GridSearchCV(model_rf, parameters, scoring=rmse, cv=3, n_jobs=-1, verbose=False)\n",
    "tree_grid.fit(features_train_oe, target_train)\n",
    "\n",
    "cv_data = pd.DataFrame(tree_grid.cv_results_)\n",
    "best_value = -1 * np.max(cv_data['mean_test_score'])\n",
    "best_iter = np.argmax(cv_data['mean_test_score'])\n",
    "print('Наилучшее значение метрики RMSE: {:.0f} при параметрах {}'.format(\n",
    "best_value, cv_data['params'][best_iter]))\n",
    "print('Время обучения: {:.1f}'.format(cv_data['mean_fit_time'][best_iter]))\n",
    "print('Время предсказания: {:.1f}'.format(cv_data['mean_score_time'][best_iter]))"
   ]
  },
  {
   "cell_type": "markdown",
   "metadata": {},
   "source": [
    "**МОДЕЛЬ CatBoost**"
   ]
  },
  {
   "cell_type": "markdown",
   "metadata": {},
   "source": [
    "**Подбор гиперпараметров**"
   ]
  },
  {
   "cell_type": "code",
   "execution_count": 17,
   "metadata": {},
   "outputs": [],
   "source": [
    "import warnings\n",
    "warnings.filterwarnings('ignore')"
   ]
  },
  {
   "cell_type": "code",
   "execution_count": 18,
   "metadata": {},
   "outputs": [
    {
     "name": "stdout",
     "output_type": "stream",
     "text": [
      "Наилучшее значение метрики RMSE: 1822 при параметрах {'iterations': 95}\n",
      "Время обучения: 14.3\n",
      "Время предсказания: 0.3\n"
     ]
    }
   ],
   "source": [
    "cat_features = ['vehicle_type', 'gearbox', 'model', 'fuel_type', 'brand', 'repaired']\n",
    "\n",
    "parameters = {'iterations': range(80, 100, 5)}\n",
    "model_cb = CatBoostRegressor() \n",
    "cb_grid = GridSearchCV(model_cb, parameters, scoring=rmse, cv=3, n_jobs=-1, verbose=False)\n",
    "cb_grid.fit(features_train, target_train, cat_features=cat_features, verbose=False)\n",
    "\n",
    "cv_data = pd.DataFrame(cb_grid.cv_results_)\n",
    "best_value = -1 * np.max(cv_data['mean_test_score'])\n",
    "best_iter = np.argmax(cv_data['mean_test_score'])\n",
    "print('Наилучшее значение метрики RMSE: {:.0f} при параметрах {}'.format(\n",
    "best_value, cv_data['params'][best_iter]))\n",
    "print('Время обучения: {:.1f}'.format(cv_data['mean_fit_time'][best_iter]))\n",
    "print('Время предсказания: {:.1f}'.format(cv_data['mean_score_time'][best_iter]))"
   ]
  },
  {
   "cell_type": "markdown",
   "metadata": {},
   "source": [
    "**МОДЕЛЬ LightBGM**"
   ]
  },
  {
   "cell_type": "markdown",
   "metadata": {},
   "source": [
    "**Подбор гиперпараметров**"
   ]
  },
  {
   "cell_type": "code",
   "execution_count": 19,
   "metadata": {
    "scrolled": true
   },
   "outputs": [
    {
     "name": "stdout",
     "output_type": "stream",
     "text": [
      "Fitting 3 folds for each of 99 candidates, totalling 297 fits\n",
      "Наилучшее значение метрики RMSE: 1877 при параметрах {'max_depth': 9, 'n_estimators': 100}\n",
      "Время обучения: 1.9\n",
      "Время предсказания: 0.6\n"
     ]
    }
   ],
   "source": [
    "parameters = {'n_estimators': range(80, 101, 2), 'max_depth': range(1, 10)}\n",
    "model_l= lgb.LGBMRegressor()\n",
    "l_grid = GridSearchCV(model_l, parameters, scoring=rmse, cv=3, n_jobs=-1, verbose=10)\n",
    "l_grid.fit(features_train_oe, target_train)\n",
    "\n",
    "cv_data = pd.DataFrame(l_grid.cv_results_)\n",
    "best_value = -1 * np.max(cv_data['mean_test_score'])\n",
    "best_iter = np.argmax(cv_data['mean_test_score'])\n",
    "print('Наилучшее значение метрики RMSE: {:.0f} при параметрах {}'.format(\n",
    "best_value, cv_data['params'][best_iter]))\n",
    "print('Время обучения: {:.1f}'.format(cv_data['mean_fit_time'][best_iter]))\n",
    "print('Время предсказания: {:.1f}'.format(cv_data['mean_score_time'][best_iter]))"
   ]
  },
  {
   "cell_type": "markdown",
   "metadata": {},
   "source": [
    "## Анализ моделей"
   ]
  },
  {
   "cell_type": "code",
   "execution_count": 23,
   "metadata": {
    "scrolled": false
   },
   "outputs": [
    {
     "name": "stdout",
     "output_type": "stream",
     "text": [
      "Сводная таблица значений RMSE и времён обучения и предсказания моделей\n"
     ]
    },
    {
     "data": {
      "text/html": [
       "<div>\n",
       "<style scoped>\n",
       "    .dataframe tbody tr th:only-of-type {\n",
       "        vertical-align: middle;\n",
       "    }\n",
       "\n",
       "    .dataframe tbody tr th {\n",
       "        vertical-align: top;\n",
       "    }\n",
       "\n",
       "    .dataframe thead th {\n",
       "        text-align: right;\n",
       "    }\n",
       "</style>\n",
       "<table border=\"1\" class=\"dataframe\">\n",
       "  <thead>\n",
       "    <tr style=\"text-align: right;\">\n",
       "      <th></th>\n",
       "      <th>Случайный лес</th>\n",
       "      <th>CatBoost</th>\n",
       "      <th>LightGBM</th>\n",
       "    </tr>\n",
       "  </thead>\n",
       "  <tbody>\n",
       "    <tr>\n",
       "      <th>RMSE на обучающей выборке</th>\n",
       "      <td>2037.0</td>\n",
       "      <td>1822.0</td>\n",
       "      <td>1877.0</td>\n",
       "    </tr>\n",
       "    <tr>\n",
       "      <th>Время обучения, с</th>\n",
       "      <td>11.3</td>\n",
       "      <td>14.3</td>\n",
       "      <td>1.9</td>\n",
       "    </tr>\n",
       "    <tr>\n",
       "      <th>Время предсказания, с</th>\n",
       "      <td>0.3</td>\n",
       "      <td>0.3</td>\n",
       "      <td>0.6</td>\n",
       "    </tr>\n",
       "  </tbody>\n",
       "</table>\n",
       "</div>"
      ],
      "text/plain": [
       "                           Случайный лес  CatBoost  LightGBM\n",
       "RMSE на обучающей выборке         2037.0    1822.0    1877.0\n",
       "Время обучения, с                   11.3      14.3       1.9\n",
       "Время предсказания, с                0.3       0.3       0.6"
      ]
     },
     "execution_count": 23,
     "metadata": {},
     "output_type": "execute_result"
    }
   ],
   "source": [
    "data = pd.DataFrame({'Случайный лес': [2037, 11.3, 0.3], 'CatBoost': [1822, 14.3, 0.3], \n",
    "                     'LightGBM': [1877, 1.9, 0.6]}, \n",
    "                    index=['RMSE на обучающей выборке', 'Время обучения, с', 'Время предсказания, с'])\n",
    "\n",
    "print('Сводная таблица значений RMSE и времён обучения и предсказания моделей')\n",
    "data"
   ]
  },
  {
   "cell_type": "markdown",
   "metadata": {},
   "source": [
    "**Вывод**\n",
    "\n",
    "После сравнительного анализа наиболее эффективной моделью была выбрана модель CatBoost."
   ]
  },
  {
   "cell_type": "markdown",
   "metadata": {},
   "source": [
    "## Тестирование модели"
   ]
  },
  {
   "cell_type": "code",
   "execution_count": 25,
   "metadata": {},
   "outputs": [
    {
     "name": "stdout",
     "output_type": "stream",
     "text": [
      "Значение метрики RMSE на тестовой выборке 1812\n"
     ]
    }
   ],
   "source": [
    "# обучение наилучшей модели\n",
    "\n",
    "cat_features = ['vehicle_type', 'gearbox', 'model', 'fuel_type', 'brand', 'repaired']\n",
    "\n",
    "model_cb = CatBoostRegressor(iterations=95) \n",
    "model_cb.fit(features_train, target_train, cat_features=cat_features, verbose=False)\n",
    "print('Значение метрики RMSE на тестовой выборке {:.0f}'.\\\n",
    "      format(mean_squared_error(model_cb.predict(features_test), target_test) ** 0.5))"
   ]
  },
  {
   "cell_type": "markdown",
   "metadata": {},
   "source": [
    "## Вывод\n",
    "\n",
    "Наиболее эффективной моделью была выбрана модель CatBoost: значение метрики RMSE составило 1822, время обучения и предсказания 14.3 и 0.3 секунды соответственно. Все модели делают предсказания за время, меньшее секунды. Время обучения модели CatBoost является наибольшим, однако было решено, что в данной задаче важнее получить более точный прогноз, нежели самый быстрый. \n",
    "\n",
    "Значение метрики RMSE на тестовой выборке равно 1812."
   ]
  }
 ],
 "metadata": {
  "ExecuteTimeLog": [
   {
    "duration": 3707,
    "start_time": "2023-02-10T09:41:37.029Z"
   },
   {
    "duration": 0,
    "start_time": "2023-02-10T09:41:40.737Z"
   },
   {
    "duration": 0,
    "start_time": "2023-02-10T09:41:40.739Z"
   },
   {
    "duration": 76,
    "start_time": "2023-02-10T09:41:47.930Z"
   },
   {
    "duration": 7,
    "start_time": "2023-02-10T09:41:48.456Z"
   },
   {
    "duration": 70,
    "start_time": "2023-02-10T09:41:49.631Z"
   },
   {
    "duration": 66,
    "start_time": "2023-02-10T18:45:03.715Z"
   },
   {
    "duration": 3620,
    "start_time": "2023-02-10T18:45:05.791Z"
   },
   {
    "duration": 1288,
    "start_time": "2023-02-10T18:45:09.413Z"
   },
   {
    "duration": 3,
    "start_time": "2023-02-10T18:45:10.702Z"
   },
   {
    "duration": 21,
    "start_time": "2023-02-10T18:45:10.707Z"
   },
   {
    "duration": 28,
    "start_time": "2023-02-10T18:45:10.730Z"
   },
   {
    "duration": 11,
    "start_time": "2023-02-10T18:45:10.760Z"
   },
   {
    "duration": 18,
    "start_time": "2023-02-10T18:45:10.773Z"
   },
   {
    "duration": 13,
    "start_time": "2023-02-10T18:45:10.792Z"
   },
   {
    "duration": 785,
    "start_time": "2023-02-10T18:45:10.807Z"
   },
   {
    "duration": 291,
    "start_time": "2023-02-10T18:45:11.593Z"
   },
   {
    "duration": 197,
    "start_time": "2023-02-10T18:45:11.886Z"
   },
   {
    "duration": 2,
    "start_time": "2023-02-10T18:45:12.084Z"
   },
   {
    "duration": 14,
    "start_time": "2023-02-10T18:45:12.088Z"
   },
   {
    "duration": 16,
    "start_time": "2023-02-10T18:45:12.104Z"
   },
   {
    "duration": 19,
    "start_time": "2023-02-10T18:45:12.122Z"
   },
   {
    "duration": 14,
    "start_time": "2023-02-10T18:45:12.144Z"
   },
   {
    "duration": 5399,
    "start_time": "2023-02-10T18:45:12.160Z"
   },
   {
    "duration": 58,
    "start_time": "2023-02-10T18:45:17.561Z"
   },
   {
    "duration": 14,
    "start_time": "2023-02-10T18:45:17.658Z"
   },
   {
    "duration": 492,
    "start_time": "2023-02-10T18:45:17.674Z"
   },
   {
    "duration": 0,
    "start_time": "2023-02-10T18:45:18.168Z"
   },
   {
    "duration": 0,
    "start_time": "2023-02-10T18:45:18.170Z"
   },
   {
    "duration": 0,
    "start_time": "2023-02-10T18:45:18.172Z"
   },
   {
    "duration": 0,
    "start_time": "2023-02-10T18:45:18.174Z"
   },
   {
    "duration": 0,
    "start_time": "2023-02-10T18:45:18.175Z"
   },
   {
    "duration": 0,
    "start_time": "2023-02-10T18:45:18.176Z"
   },
   {
    "duration": 382,
    "start_time": "2023-02-10T18:45:40.968Z"
   },
   {
    "duration": 4,
    "start_time": "2023-02-10T18:45:51.503Z"
   },
   {
    "duration": 978,
    "start_time": "2023-02-10T18:45:51.508Z"
   },
   {
    "duration": 3,
    "start_time": "2023-02-10T18:45:52.488Z"
   },
   {
    "duration": 24,
    "start_time": "2023-02-10T18:45:52.493Z"
   },
   {
    "duration": 49,
    "start_time": "2023-02-10T18:45:52.520Z"
   },
   {
    "duration": 22,
    "start_time": "2023-02-10T18:45:52.570Z"
   },
   {
    "duration": 10,
    "start_time": "2023-02-10T18:45:52.593Z"
   },
   {
    "duration": 14,
    "start_time": "2023-02-10T18:45:52.605Z"
   },
   {
    "duration": 890,
    "start_time": "2023-02-10T18:45:52.621Z"
   },
   {
    "duration": 331,
    "start_time": "2023-02-10T18:45:53.513Z"
   },
   {
    "duration": 240,
    "start_time": "2023-02-10T18:45:53.847Z"
   },
   {
    "duration": 3,
    "start_time": "2023-02-10T18:45:54.089Z"
   },
   {
    "duration": 10,
    "start_time": "2023-02-10T18:45:54.094Z"
   },
   {
    "duration": 15,
    "start_time": "2023-02-10T18:45:54.107Z"
   },
   {
    "duration": 39,
    "start_time": "2023-02-10T18:45:54.123Z"
   },
   {
    "duration": 8,
    "start_time": "2023-02-10T18:45:54.164Z"
   },
   {
    "duration": 5935,
    "start_time": "2023-02-10T18:45:54.174Z"
   },
   {
    "duration": 70,
    "start_time": "2023-02-10T18:46:00.111Z"
   },
   {
    "duration": 9,
    "start_time": "2023-02-10T18:46:00.183Z"
   },
   {
    "duration": 403,
    "start_time": "2023-02-10T18:46:00.194Z"
   },
   {
    "duration": 0,
    "start_time": "2023-02-10T18:46:00.599Z"
   },
   {
    "duration": 0,
    "start_time": "2023-02-10T18:46:00.601Z"
   },
   {
    "duration": 0,
    "start_time": "2023-02-10T18:46:00.602Z"
   },
   {
    "duration": 0,
    "start_time": "2023-02-10T18:46:00.603Z"
   },
   {
    "duration": 0,
    "start_time": "2023-02-10T18:46:00.604Z"
   },
   {
    "duration": 0,
    "start_time": "2023-02-10T18:46:00.605Z"
   },
   {
    "duration": 1191,
    "start_time": "2023-02-10T18:46:10.142Z"
   },
   {
    "duration": 10,
    "start_time": "2023-02-10T18:46:35.030Z"
   },
   {
    "duration": 3,
    "start_time": "2023-02-10T18:46:38.630Z"
   },
   {
    "duration": 1098,
    "start_time": "2023-02-10T18:46:40.561Z"
   },
   {
    "duration": 3,
    "start_time": "2023-02-10T18:46:46.100Z"
   },
   {
    "duration": 1045,
    "start_time": "2023-02-10T18:46:46.311Z"
   },
   {
    "duration": 373,
    "start_time": "2023-02-10T18:47:43.395Z"
   },
   {
    "duration": 1490,
    "start_time": "2023-02-10T18:47:49.413Z"
   },
   {
    "duration": 3,
    "start_time": "2023-02-10T18:48:29.360Z"
   },
   {
    "duration": 869,
    "start_time": "2023-02-10T18:48:29.365Z"
   },
   {
    "duration": 7,
    "start_time": "2023-02-10T18:48:30.235Z"
   },
   {
    "duration": 59,
    "start_time": "2023-02-10T18:48:30.244Z"
   },
   {
    "duration": 31,
    "start_time": "2023-02-10T18:48:30.305Z"
   },
   {
    "duration": 32,
    "start_time": "2023-02-10T18:48:30.338Z"
   },
   {
    "duration": 19,
    "start_time": "2023-02-10T18:48:30.372Z"
   },
   {
    "duration": 50,
    "start_time": "2023-02-10T18:48:30.393Z"
   },
   {
    "duration": 819,
    "start_time": "2023-02-10T18:48:30.444Z"
   },
   {
    "duration": 396,
    "start_time": "2023-02-10T18:48:31.264Z"
   },
   {
    "duration": 204,
    "start_time": "2023-02-10T18:48:31.661Z"
   },
   {
    "duration": 2,
    "start_time": "2023-02-10T18:48:31.867Z"
   },
   {
    "duration": 45,
    "start_time": "2023-02-10T18:48:31.870Z"
   },
   {
    "duration": 34,
    "start_time": "2023-02-10T18:48:31.918Z"
   },
   {
    "duration": 36,
    "start_time": "2023-02-10T18:48:31.954Z"
   },
   {
    "duration": 11,
    "start_time": "2023-02-10T18:48:31.992Z"
   },
   {
    "duration": 6380,
    "start_time": "2023-02-10T18:48:32.005Z"
   },
   {
    "duration": 85,
    "start_time": "2023-02-10T18:48:38.387Z"
   },
   {
    "duration": 11,
    "start_time": "2023-02-10T18:48:38.473Z"
   },
   {
    "duration": 3,
    "start_time": "2023-02-10T18:48:38.486Z"
   },
   {
    "duration": 1686,
    "start_time": "2023-02-10T18:48:38.490Z"
   },
   {
    "duration": 580,
    "start_time": "2023-02-10T18:48:40.178Z"
   },
   {
    "duration": 6,
    "start_time": "2023-02-10T18:48:40.760Z"
   },
   {
    "duration": 79672,
    "start_time": "2023-02-10T18:48:40.768Z"
   },
   {
    "duration": 709,
    "start_time": "2023-02-10T18:50:00.442Z"
   },
   {
    "duration": 90,
    "start_time": "2023-02-10T18:50:01.153Z"
   },
   {
    "duration": 32,
    "start_time": "2023-02-10T18:50:01.245Z"
   },
   {
    "duration": 1747,
    "start_time": "2023-02-10T18:52:44.805Z"
   },
   {
    "duration": 7,
    "start_time": "2023-02-10T18:52:59.850Z"
   },
   {
    "duration": 1799,
    "start_time": "2023-02-10T18:53:07.502Z"
   },
   {
    "duration": 1685,
    "start_time": "2023-02-10T18:53:12.067Z"
   },
   {
    "duration": 1561,
    "start_time": "2023-02-10T18:53:16.742Z"
   }
  ],
  "kernelspec": {
   "display_name": "Python 3 (ipykernel)",
   "language": "python",
   "name": "python3"
  },
  "language_info": {
   "codemirror_mode": {
    "name": "ipython",
    "version": 3
   },
   "file_extension": ".py",
   "mimetype": "text/x-python",
   "name": "python",
   "nbconvert_exporter": "python",
   "pygments_lexer": "ipython3",
   "version": "3.9.12"
  },
  "toc": {
   "base_numbering": 1,
   "nav_menu": {},
   "number_sections": true,
   "sideBar": true,
   "skip_h1_title": true,
   "title_cell": "Table of Contents",
   "title_sidebar": "Contents",
   "toc_cell": false,
   "toc_position": {},
   "toc_section_display": true,
   "toc_window_display": false
  }
 },
 "nbformat": 4,
 "nbformat_minor": 2
}
