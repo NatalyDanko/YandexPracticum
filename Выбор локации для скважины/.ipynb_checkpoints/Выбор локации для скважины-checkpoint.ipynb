{
 "cells": [
  {
   "cell_type": "markdown",
   "metadata": {},
   "source": [
    "# Выбор локации для скважины"
   ]
  },
  {
   "cell_type": "markdown",
   "metadata": {},
   "source": [
    "## Загрузка и подготовка данных"
   ]
  },
  {
   "cell_type": "code",
   "execution_count": 1,
   "metadata": {},
   "outputs": [],
   "source": [
    "import pandas as pd\n",
    "import numpy as np\n",
    "import matplotlib.pyplot as plt\n",
    "import seaborn as sns\n",
    "\n",
    "from sklearn.linear_model import LinearRegression\n",
    "from sklearn.model_selection import train_test_split\n",
    "from sklearn.metrics import mean_squared_error\n",
    "from scipy import stats as st"
   ]
  },
  {
   "cell_type": "code",
   "execution_count": 2,
   "metadata": {},
   "outputs": [],
   "source": [
    "# количество исследуемых скважин\n",
    "RESEARCH_BOREHOLE = 500 \n",
    "\n",
    "# количество лучших скважин \n",
    "BEST_BOREHOLE = 200\n",
    "\n",
    "# бюджет на разработку скважин в регионе\n",
    "BUDGET = 10_000_000_000 \n",
    "\n",
    "# доход с тысячи баррелей нефти\n",
    "PRICE_PER_1000_BARREL = 450_000 "
   ]
  },
  {
   "cell_type": "code",
   "execution_count": 3,
   "metadata": {
    "scrolled": false
   },
   "outputs": [
    {
     "data": {
      "text/html": [
       "<div>\n",
       "<style scoped>\n",
       "    .dataframe tbody tr th:only-of-type {\n",
       "        vertical-align: middle;\n",
       "    }\n",
       "\n",
       "    .dataframe tbody tr th {\n",
       "        vertical-align: top;\n",
       "    }\n",
       "\n",
       "    .dataframe thead th {\n",
       "        text-align: right;\n",
       "    }\n",
       "</style>\n",
       "<table border=\"1\" class=\"dataframe\">\n",
       "  <thead>\n",
       "    <tr style=\"text-align: right;\">\n",
       "      <th></th>\n",
       "      <th>id</th>\n",
       "      <th>f0</th>\n",
       "      <th>f1</th>\n",
       "      <th>f2</th>\n",
       "      <th>product</th>\n",
       "    </tr>\n",
       "  </thead>\n",
       "  <tbody>\n",
       "    <tr>\n",
       "      <th>0</th>\n",
       "      <td>txEyH</td>\n",
       "      <td>0.705745</td>\n",
       "      <td>-0.497823</td>\n",
       "      <td>1.221170</td>\n",
       "      <td>105.280062</td>\n",
       "    </tr>\n",
       "    <tr>\n",
       "      <th>1</th>\n",
       "      <td>2acmU</td>\n",
       "      <td>1.334711</td>\n",
       "      <td>-0.340164</td>\n",
       "      <td>4.365080</td>\n",
       "      <td>73.037750</td>\n",
       "    </tr>\n",
       "    <tr>\n",
       "      <th>2</th>\n",
       "      <td>409Wp</td>\n",
       "      <td>1.022732</td>\n",
       "      <td>0.151990</td>\n",
       "      <td>1.419926</td>\n",
       "      <td>85.265647</td>\n",
       "    </tr>\n",
       "    <tr>\n",
       "      <th>3</th>\n",
       "      <td>iJLyR</td>\n",
       "      <td>-0.032172</td>\n",
       "      <td>0.139033</td>\n",
       "      <td>2.978566</td>\n",
       "      <td>168.620776</td>\n",
       "    </tr>\n",
       "    <tr>\n",
       "      <th>4</th>\n",
       "      <td>Xdl7t</td>\n",
       "      <td>1.988431</td>\n",
       "      <td>0.155413</td>\n",
       "      <td>4.751769</td>\n",
       "      <td>154.036647</td>\n",
       "    </tr>\n",
       "  </tbody>\n",
       "</table>\n",
       "</div>"
      ],
      "text/plain": [
       "      id        f0        f1        f2     product\n",
       "0  txEyH  0.705745 -0.497823  1.221170  105.280062\n",
       "1  2acmU  1.334711 -0.340164  4.365080   73.037750\n",
       "2  409Wp  1.022732  0.151990  1.419926   85.265647\n",
       "3  iJLyR -0.032172  0.139033  2.978566  168.620776\n",
       "4  Xdl7t  1.988431  0.155413  4.751769  154.036647"
      ]
     },
     "metadata": {},
     "output_type": "display_data"
    },
    {
     "data": {
      "text/html": [
       "<div>\n",
       "<style scoped>\n",
       "    .dataframe tbody tr th:only-of-type {\n",
       "        vertical-align: middle;\n",
       "    }\n",
       "\n",
       "    .dataframe tbody tr th {\n",
       "        vertical-align: top;\n",
       "    }\n",
       "\n",
       "    .dataframe thead th {\n",
       "        text-align: right;\n",
       "    }\n",
       "</style>\n",
       "<table border=\"1\" class=\"dataframe\">\n",
       "  <thead>\n",
       "    <tr style=\"text-align: right;\">\n",
       "      <th></th>\n",
       "      <th>id</th>\n",
       "      <th>f0</th>\n",
       "      <th>f1</th>\n",
       "      <th>f2</th>\n",
       "      <th>product</th>\n",
       "    </tr>\n",
       "  </thead>\n",
       "  <tbody>\n",
       "    <tr>\n",
       "      <th>0</th>\n",
       "      <td>kBEdx</td>\n",
       "      <td>-15.001348</td>\n",
       "      <td>-8.276000</td>\n",
       "      <td>-0.005876</td>\n",
       "      <td>3.179103</td>\n",
       "    </tr>\n",
       "    <tr>\n",
       "      <th>1</th>\n",
       "      <td>62mP7</td>\n",
       "      <td>14.272088</td>\n",
       "      <td>-3.475083</td>\n",
       "      <td>0.999183</td>\n",
       "      <td>26.953261</td>\n",
       "    </tr>\n",
       "    <tr>\n",
       "      <th>2</th>\n",
       "      <td>vyE1P</td>\n",
       "      <td>6.263187</td>\n",
       "      <td>-5.948386</td>\n",
       "      <td>5.001160</td>\n",
       "      <td>134.766305</td>\n",
       "    </tr>\n",
       "    <tr>\n",
       "      <th>3</th>\n",
       "      <td>KcrkZ</td>\n",
       "      <td>-13.081196</td>\n",
       "      <td>-11.506057</td>\n",
       "      <td>4.999415</td>\n",
       "      <td>137.945408</td>\n",
       "    </tr>\n",
       "    <tr>\n",
       "      <th>4</th>\n",
       "      <td>AHL4O</td>\n",
       "      <td>12.702195</td>\n",
       "      <td>-8.147433</td>\n",
       "      <td>5.004363</td>\n",
       "      <td>134.766305</td>\n",
       "    </tr>\n",
       "  </tbody>\n",
       "</table>\n",
       "</div>"
      ],
      "text/plain": [
       "      id         f0         f1        f2     product\n",
       "0  kBEdx -15.001348  -8.276000 -0.005876    3.179103\n",
       "1  62mP7  14.272088  -3.475083  0.999183   26.953261\n",
       "2  vyE1P   6.263187  -5.948386  5.001160  134.766305\n",
       "3  KcrkZ -13.081196 -11.506057  4.999415  137.945408\n",
       "4  AHL4O  12.702195  -8.147433  5.004363  134.766305"
      ]
     },
     "metadata": {},
     "output_type": "display_data"
    },
    {
     "data": {
      "text/html": [
       "<div>\n",
       "<style scoped>\n",
       "    .dataframe tbody tr th:only-of-type {\n",
       "        vertical-align: middle;\n",
       "    }\n",
       "\n",
       "    .dataframe tbody tr th {\n",
       "        vertical-align: top;\n",
       "    }\n",
       "\n",
       "    .dataframe thead th {\n",
       "        text-align: right;\n",
       "    }\n",
       "</style>\n",
       "<table border=\"1\" class=\"dataframe\">\n",
       "  <thead>\n",
       "    <tr style=\"text-align: right;\">\n",
       "      <th></th>\n",
       "      <th>id</th>\n",
       "      <th>f0</th>\n",
       "      <th>f1</th>\n",
       "      <th>f2</th>\n",
       "      <th>product</th>\n",
       "    </tr>\n",
       "  </thead>\n",
       "  <tbody>\n",
       "    <tr>\n",
       "      <th>0</th>\n",
       "      <td>fwXo0</td>\n",
       "      <td>-1.146987</td>\n",
       "      <td>0.963328</td>\n",
       "      <td>-0.828965</td>\n",
       "      <td>27.758673</td>\n",
       "    </tr>\n",
       "    <tr>\n",
       "      <th>1</th>\n",
       "      <td>WJtFt</td>\n",
       "      <td>0.262778</td>\n",
       "      <td>0.269839</td>\n",
       "      <td>-2.530187</td>\n",
       "      <td>56.069697</td>\n",
       "    </tr>\n",
       "    <tr>\n",
       "      <th>2</th>\n",
       "      <td>ovLUW</td>\n",
       "      <td>0.194587</td>\n",
       "      <td>0.289035</td>\n",
       "      <td>-5.586433</td>\n",
       "      <td>62.871910</td>\n",
       "    </tr>\n",
       "    <tr>\n",
       "      <th>3</th>\n",
       "      <td>q6cA6</td>\n",
       "      <td>2.236060</td>\n",
       "      <td>-0.553760</td>\n",
       "      <td>0.930038</td>\n",
       "      <td>114.572842</td>\n",
       "    </tr>\n",
       "    <tr>\n",
       "      <th>4</th>\n",
       "      <td>WPMUX</td>\n",
       "      <td>-0.515993</td>\n",
       "      <td>1.716266</td>\n",
       "      <td>5.899011</td>\n",
       "      <td>149.600746</td>\n",
       "    </tr>\n",
       "  </tbody>\n",
       "</table>\n",
       "</div>"
      ],
      "text/plain": [
       "      id        f0        f1        f2     product\n",
       "0  fwXo0 -1.146987  0.963328 -0.828965   27.758673\n",
       "1  WJtFt  0.262778  0.269839 -2.530187   56.069697\n",
       "2  ovLUW  0.194587  0.289035 -5.586433   62.871910\n",
       "3  q6cA6  2.236060 -0.553760  0.930038  114.572842\n",
       "4  WPMUX -0.515993  1.716266  5.899011  149.600746"
      ]
     },
     "metadata": {},
     "output_type": "display_data"
    }
   ],
   "source": [
    "try:\n",
    "    data_0 = pd.read_csv('geo_data_0.csv')\n",
    "    data_1 = pd.read_csv('geo_data_1.csv')\n",
    "    data_2 = pd.read_csv('geo_data_2.csv')\n",
    "    \n",
    "except:\n",
    "    print('Ошибка загрузки данных')\n",
    "\n",
    "display(data_0.head())\n",
    "display(data_1.head())\n",
    "display(data_2.head())"
   ]
  },
  {
   "cell_type": "markdown",
   "metadata": {},
   "source": [
    "**Вывод информации о данных, проверка данных на пропуски и дубликаты**"
   ]
  },
  {
   "cell_type": "code",
   "execution_count": 4,
   "metadata": {
    "scrolled": false
   },
   "outputs": [
    {
     "name": "stdout",
     "output_type": "stream",
     "text": [
      "Информация по региону 0\n",
      "***********************\n",
      "\n",
      "<class 'pandas.core.frame.DataFrame'>\n",
      "RangeIndex: 100000 entries, 0 to 99999\n",
      "Data columns (total 5 columns):\n",
      " #   Column   Non-Null Count   Dtype  \n",
      "---  ------   --------------   -----  \n",
      " 0   id       100000 non-null  object \n",
      " 1   f0       100000 non-null  float64\n",
      " 2   f1       100000 non-null  float64\n",
      " 3   f2       100000 non-null  float64\n",
      " 4   product  100000 non-null  float64\n",
      "dtypes: float64(4), object(1)\n",
      "memory usage: 3.8+ MB\n",
      "None\n",
      "\n",
      "Количество пропусков:\n",
      "id         0\n",
      "f0         0\n",
      "f1         0\n",
      "f2         0\n",
      "product    0\n",
      "dtype: int64\n",
      "\n",
      "Количество полных дубликатов: 0\n",
      "Количество дубликатов в столбце \"id\": 10\n",
      "\n",
      "Распределение целевой переменной в регионе\n"
     ]
    },
    {
     "data": {
      "image/png": "[encoded data removed]",
      "text/plain": [
       "<Figure size 432x288 with 1 Axes>"
      ]
     },
     "metadata": {
      "needs_background": "light"
     },
     "output_type": "display_data"
    },
    {
     "name": "stdout",
     "output_type": "stream",
     "text": [
      "\n",
      "Тепловая карта корреляции\n"
     ]
    },
    {
     "data": {
      "image/png": "[encoded data removed]",
      "text/plain": [
       "<Figure size 432x288 with 2 Axes>"
      ]
     },
     "metadata": {
      "needs_background": "light"
     },
     "output_type": "display_data"
    },
    {
     "name": "stdout",
     "output_type": "stream",
     "text": [
      "Информация по региону 1\n",
      "***********************\n",
      "\n",
      "<class 'pandas.core.frame.DataFrame'>\n",
      "RangeIndex: 100000 entries, 0 to 99999\n",
      "Data columns (total 5 columns):\n",
      " #   Column   Non-Null Count   Dtype  \n",
      "---  ------   --------------   -----  \n",
      " 0   id       100000 non-null  object \n",
      " 1   f0       100000 non-null  float64\n",
      " 2   f1       100000 non-null  float64\n",
      " 3   f2       100000 non-null  float64\n",
      " 4   product  100000 non-null  float64\n",
      "dtypes: float64(4), object(1)\n",
      "memory usage: 3.8+ MB\n",
      "None\n",
      "\n",
      "Количество пропусков:\n",
      "id         0\n",
      "f0         0\n",
      "f1         0\n",
      "f2         0\n",
      "product    0\n",
      "dtype: int64\n",
      "\n",
      "Количество полных дубликатов: 0\n",
      "Количество дубликатов в столбце \"id\": 4\n",
      "\n",
      "Распределение целевой переменной в регионе\n"
     ]
    },
    {
     "data": {
      "image/png": "[encoded data removed]",
      "text/plain": [
       "<Figure size 432x288 with 1 Axes>"
      ]
     },
     "metadata": {
      "needs_background": "light"
     },
     "output_type": "display_data"
    },
    {
     "name": "stdout",
     "output_type": "stream",
     "text": [
      "\n",
      "Тепловая карта корреляции\n"
     ]
    },
    {
     "data": {
      "image/png": "[encoded data removed]",
      "text/plain": [
       "<Figure size 432x288 with 2 Axes>"
      ]
     },
     "metadata": {
      "needs_background": "light"
     },
     "output_type": "display_data"
    },
    {
     "name": "stdout",
     "output_type": "stream",
     "text": [
      "Информация по региону 2\n",
      "***********************\n",
      "\n",
      "<class 'pandas.core.frame.DataFrame'>\n",
      "RangeIndex: 100000 entries, 0 to 99999\n",
      "Data columns (total 5 columns):\n",
      " #   Column   Non-Null Count   Dtype  \n",
      "---  ------   --------------   -----  \n",
      " 0   id       100000 non-null  object \n",
      " 1   f0       100000 non-null  float64\n",
      " 2   f1       100000 non-null  float64\n",
      " 3   f2       100000 non-null  float64\n",
      " 4   product  100000 non-null  float64\n",
      "dtypes: float64(4), object(1)\n",
      "memory usage: 3.8+ MB\n",
      "None\n",
      "\n",
      "Количество пропусков:\n",
      "id         0\n",
      "f0         0\n",
      "f1         0\n",
      "f2         0\n",
      "product    0\n",
      "dtype: int64\n",
      "\n",
      "Количество полных дубликатов: 0\n",
      "Количество дубликатов в столбце \"id\": 4\n",
      "\n",
      "Распределение целевой переменной в регионе\n"
     ]
    },
    {
     "data": {
      "image/png": "[encoded data removed]",
      "text/plain": [
       "<Figure size 432x288 with 1 Axes>"
      ]
     },
     "metadata": {
      "needs_background": "light"
     },
     "output_type": "display_data"
    },
    {
     "name": "stdout",
     "output_type": "stream",
     "text": [
      "\n",
      "Тепловая карта корреляции\n"
     ]
    },
    {
     "data": {
      "image/png": "[encoded data removed]",
      "text/plain": [
       "<Figure size 432x288 with 2 Axes>"
      ]
     },
     "metadata": {
      "needs_background": "light"
     },
     "output_type": "display_data"
    }
   ],
   "source": [
    "for d, i in [(data_0, 0), (data_1, 1), (data_2, 2)]:\n",
    "    print(f'Информация по региону {i}')\n",
    "    print('*' * 23, end='\\n\\n')\n",
    "    print(d.info(), end='\\n\\n')\n",
    "    print('Количество пропусков:')\n",
    "    print(d.isna().sum(), end='\\n\\n')\n",
    "    print(f'Количество полных дубликатов: {d.duplicated().sum()}')\n",
    "    print('Количество дубликатов в столбце \"id\":', d['id'].duplicated().sum(), end='\\n\\n')\n",
    "    print('Распределение целевой переменной в регионе')\n",
    "    d.hist(column='product')\n",
    "    plt.show()\n",
    "    print()\n",
    "    print('Тепловая карта корреляции')\n",
    "    sns.heatmap(d.corr())\n",
    "    plt.show()"
   ]
  },
  {
   "cell_type": "code",
   "execution_count": 5,
   "metadata": {
    "scrolled": true
   },
   "outputs": [],
   "source": [
    "# удаление дубликатов по столбцу \"id\"\n",
    "\n",
    "data_0 = data_0.drop_duplicates(subset=['id']).reset_index(drop=True)\n",
    "data_1 = data_1.drop_duplicates(subset=['id']).reset_index(drop=True)\n",
    "data_2 = data_2.drop_duplicates(subset=['id']).reset_index(drop=True)"
   ]
  },
  {
   "cell_type": "markdown",
   "metadata": {},
   "source": [
    "**Вывод**\n",
    "\n",
    "Для региона \"1\" присутствует сильная корреляция между целевым признаком и признаком \"f2\". Если это не утечка данных, то можно считать, что признак \"f2\" очень хорошо предсказывает целевой признак."
   ]
  },
  {
   "cell_type": "markdown",
   "metadata": {},
   "source": [
    "## Обучение и проверка модели"
   ]
  },
  {
   "cell_type": "code",
   "execution_count": 6,
   "metadata": {},
   "outputs": [],
   "source": [
    "# функция для получения предсказаний и правильных ответов на валидационной выборке, \n",
    "# а также среднего объёма нефти на скважину по региону и RMSE модели\n",
    "\n",
    "def results(data):\n",
    "    \n",
    "    features = data[['f0', 'f1', 'f2']]\n",
    "    target = data['product']\n",
    "    \n",
    "    features_train, features_valid, target_train, target_valid = train_test_split(\n",
    "    features, target, test_size=0.25, random_state=12345)\n",
    "    \n",
    "    model = LinearRegression()\n",
    "    model.fit(features_train, target_train) \n",
    "    predicted_valid = model.predict(features_valid) \n",
    "\n",
    "    rmse = mean_squared_error(target_valid, predicted_valid) ** 0.5\n",
    "    \n",
    "    average = predicted_valid.mean()\n",
    "    \n",
    "    print(f'Средний запас предсказанного объёма нефти на скважину: {average:.1f} тыс. баррелей, RMSE модели: {rmse:.1f} тыс. баррелей', end='\\n\\n')\n",
    "    \n",
    "    return predicted_valid, target_valid, average, rmse"
   ]
  },
  {
   "cell_type": "code",
   "execution_count": 7,
   "metadata": {
    "scrolled": false
   },
   "outputs": [
    {
     "name": "stdout",
     "output_type": "stream",
     "text": [
      "Данные по региону \"0\":\n",
      "Средний запас предсказанного объёма нефти на скважину: 92.8 тыс. баррелей, RMSE модели: 37.9 тыс. баррелей\n",
      "\n",
      "Данные по региону \"1\":\n",
      "Средний запас предсказанного объёма нефти на скважину: 69.2 тыс. баррелей, RMSE модели: 0.9 тыс. баррелей\n",
      "\n",
      "Данные по региону \"2\":\n",
      "Средний запас предсказанного объёма нефти на скважину: 94.9 тыс. баррелей, RMSE модели: 40.1 тыс. баррелей\n",
      "\n"
     ]
    }
   ],
   "source": [
    "# расчёты и сохранение данных для региона \"0\"\n",
    "\n",
    "print('Данные по региону \"0\":')\n",
    "predicted_valid_0, target_valid_0, average_0, rmse_0 = results(data_0)\n",
    "\n",
    "# расчёты и сохранение данных для региона \"1\"\n",
    "\n",
    "print('Данные по региону \"1\":')\n",
    "predicted_valid_1, target_valid_1, average_1, rmse_1 = results(data_1)\n",
    "\n",
    "# расчёты и сохранение данных для региону \"2\"\n",
    "\n",
    "print('Данные по региону \"2\":')\n",
    "predicted_valid_2, target_valid_2, average_2, rmse_2 = results(data_2)    "
   ]
  },
  {
   "cell_type": "markdown",
   "metadata": {},
   "source": [
    "**Вывод**\n",
    "\n",
    "Наиболее точные предсказания получены для региона \"1\": данные предсказаны с точностью до 0.9 тыс. баррелей."
   ]
  },
  {
   "cell_type": "markdown",
   "metadata": {},
   "source": [
    "## Подготовка к расчёту прибыли"
   ]
  },
  {
   "cell_type": "code",
   "execution_count": 8,
   "metadata": {
    "scrolled": false
   },
   "outputs": [
    {
     "name": "stdout",
     "output_type": "stream",
     "text": [
      "Минимальное среднее количество продукта в скважине, достаточное для разработки: 111.1 тыс. баррелей\n"
     ]
    }
   ],
   "source": [
    "# минимальный средний объём баррелей нефти для каждого месторождения для безубыточной добычи\n",
    "\n",
    "min_barrel = BUDGET / (PRICE_PER_1000_BARREL * BEST_BOREHOLE)\n",
    "print(f'Минимальное среднее количество продукта в скважине, достаточное для разработки: {min_barrel:.1f} тыс. баррелей')"
   ]
  },
  {
   "cell_type": "code",
   "execution_count": 9,
   "metadata": {},
   "outputs": [
    {
     "name": "stdout",
     "output_type": "stream",
     "text": [
      "Средний запас для региона \"0\": 92.5 тыс. баррелей\n",
      "Средний запас для региона \"1\": 68.8 тыс. баррелей\n",
      "Средний запас для региона \"2\": 95.0 тыс. баррелей\n"
     ]
    }
   ],
   "source": [
    "# расчёт среднего реального запаса для каждого региона\n",
    "\n",
    "for d, i in [(data_0, 0), (data_1, 1), (data_2, 2)]:\n",
    "    mean_product = d['product'].mean()\n",
    "    print(f'Средний запас для региона \"{i}\": {mean_product:.1f} тыс. баррелей')"
   ]
  },
  {
   "cell_type": "markdown",
   "metadata": {},
   "source": [
    "Таким образом, средний запас предсказанного объёма нефти на скважину в каждом из трёх регионов меньше объёма, достаточного для разработки."
   ]
  },
  {
   "cell_type": "code",
   "execution_count": 10,
   "metadata": {},
   "outputs": [],
   "source": [
    "# функция расчёта прибыли по выбранным скважинам\n",
    "\n",
    "def profit(target, predictions):    \n",
    "     \n",
    "    predictions_sorted = predictions.sort_values(ascending=False)\n",
    "    selected_targets = target[predictions_sorted.index][:BEST_BOREHOLE]   \n",
    "    \n",
    "    return PRICE_PER_1000_BARREL * selected_targets.sum() - BUDGET"
   ]
  },
  {
   "cell_type": "markdown",
   "metadata": {},
   "source": [
    "## Расчёт прибыли и рисков "
   ]
  },
  {
   "cell_type": "code",
   "execution_count": 11,
   "metadata": {
    "scrolled": false
   },
   "outputs": [],
   "source": [
    "# функция расчёта рисков и прибыли по регионам\n",
    "\n",
    "def profit_and_risk(target, predictions):\n",
    "    \n",
    "    target = target.reset_index(drop=True)\n",
    "    predictions = pd.Series(predictions)\n",
    "    \n",
    "    \n",
    "    state = np.random.RandomState(12345)\n",
    "    profits = []\n",
    "    \n",
    "    for _ in range(1000):\n",
    "            \n",
    "            target_subsample = target.sample(n=RESEARCH_BOREHOLE, replace=True, random_state=state)\n",
    "            predictions_subsample = predictions[target_subsample.index]\n",
    "            \n",
    "            profits.append(profit(target_subsample, predictions_subsample))\n",
    "    \n",
    "    profits = pd.Series(profits)\n",
    "    \n",
    "    lower = profits.quantile(0.025)\n",
    "    upper = profits.quantile(0.975)\n",
    "    \n",
    "    risk_count = 0\n",
    "    \n",
    "    for c in profits:\n",
    "        if c < 0:\n",
    "            risk_count += 1\n",
    "    \n",
    "    risk = risk_count / len(profits)\n",
    "        \n",
    "    print(f'Средняя прибыль по региону: {profits.mean():.0f} рублей')\n",
    "    print(f'95%-ый доверительный интервал: от {lower:.0f} до {upper:.0f} рублей')\n",
    "    print(f'Риск: {risk:.1%}')"
   ]
  },
  {
   "cell_type": "markdown",
   "metadata": {},
   "source": [
    "**Регион \"0\"**"
   ]
  },
  {
   "cell_type": "code",
   "execution_count": 12,
   "metadata": {
    "scrolled": true
   },
   "outputs": [
    {
     "name": "stdout",
     "output_type": "stream",
     "text": [
      "Средняя прибыль по региону: 409428039 рублей\n",
      "95%-ый доверительный интервал: от -131536029 до 944395583 рублей\n",
      "Риск: 7.1%\n"
     ]
    }
   ],
   "source": [
    "profit_and_risk(target_valid_0, predicted_valid_0)"
   ]
  },
  {
   "cell_type": "markdown",
   "metadata": {},
   "source": [
    "**Регион \"1\"**"
   ]
  },
  {
   "cell_type": "code",
   "execution_count": 13,
   "metadata": {},
   "outputs": [
    {
     "name": "stdout",
     "output_type": "stream",
     "text": [
      "Средняя прибыль по региону: 536902587 рублей\n",
      "95%-ый доверительный интервал: от 114527903 до 970787911 рублей\n",
      "Риск: 0.9%\n"
     ]
    }
   ],
   "source": [
    "profit_and_risk(target_valid_1, predicted_valid_1)"
   ]
  },
  {
   "cell_type": "markdown",
   "metadata": {},
   "source": [
    "**Регион \"2\"**"
   ]
  },
  {
   "cell_type": "code",
   "execution_count": 14,
   "metadata": {
    "scrolled": true
   },
   "outputs": [
    {
     "name": "stdout",
     "output_type": "stream",
     "text": [
      "Средняя прибыль по региону: 353790363 рублей\n",
      "95%-ый доверительный интервал: от -159194031 до 875652503 рублей\n",
      "Риск: 10.2%\n"
     ]
    }
   ],
   "source": [
    "profit_and_risk(target_valid_2, predicted_valid_2)"
   ]
  },
  {
   "cell_type": "markdown",
   "metadata": {},
   "source": [
    "## Вывод"
   ]
  },
  {
   "cell_type": "markdown",
   "metadata": {},
   "source": [
    "Наиболее выгодным регионом для разработки является регион \"1\", он имеет максимальную среднюю прибыль в 536902587 рублей (95%-ый доверительный интервал: от 114527903 до 970787911 рублей) и минимальные риски в 1%."
   ]
  }
 ],
 "metadata": {
  "ExecuteTimeLog": [
   {
    "duration": 1603,
    "start_time": "2022-12-19T09:03:13.596Z"
   },
   {
    "duration": 695,
    "start_time": "2022-12-19T09:03:15.202Z"
   },
   {
    "duration": 24,
    "start_time": "2022-12-19T09:03:15.899Z"
   },
   {
    "duration": 25,
    "start_time": "2022-12-19T09:03:15.926Z"
   },
   {
    "duration": 38,
    "start_time": "2022-12-19T09:03:15.953Z"
   },
   {
    "duration": 5,
    "start_time": "2022-12-19T09:03:15.993Z"
   },
   {
    "duration": 380,
    "start_time": "2022-12-19T09:03:16.000Z"
   },
   {
    "duration": 92,
    "start_time": "2022-12-19T09:03:16.386Z"
   },
   {
    "duration": 10,
    "start_time": "2022-12-19T09:03:16.480Z"
   },
   {
    "duration": 11,
    "start_time": "2022-12-19T09:03:16.492Z"
   },
   {
    "duration": 19,
    "start_time": "2022-12-19T09:03:16.504Z"
   },
   {
    "duration": 1387,
    "start_time": "2022-12-19T09:03:16.524Z"
   },
   {
    "duration": 1423,
    "start_time": "2022-12-19T09:03:17.913Z"
   },
   {
    "duration": 1347,
    "start_time": "2022-12-19T09:03:19.338Z"
   }
  ],
  "kernelspec": {
   "display_name": "Python 3 (ipykernel)",
   "language": "python",
   "name": "python3"
  },
  "language_info": {
   "codemirror_mode": {
    "name": "ipython",
    "version": 3
   },
   "file_extension": ".py",
   "mimetype": "text/x-python",
   "name": "python",
   "nbconvert_exporter": "python",
   "pygments_lexer": "ipython3",
   "version": "3.9.12"
  },
  "toc": {
   "base_numbering": 1,
   "nav_menu": {},
   "number_sections": true,
   "sideBar": true,
   "skip_h1_title": true,
   "title_cell": "Table of Contents",
   "title_sidebar": "Contents",
   "toc_cell": false,
   "toc_position": {},
   "toc_section_display": true,
   "toc_window_display": true
  }
 },
 "nbformat": 4,
 "nbformat_minor": 2
}
