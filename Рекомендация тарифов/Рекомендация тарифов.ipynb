{
 "cells": [
  {
   "cell_type": "markdown",
   "metadata": {},
   "source": [
    "# Рекомендация тарифов"
   ]
  },
  {
   "cell_type": "code",
   "execution_count": 1,
   "metadata": {},
   "outputs": [],
   "source": [
    "import pandas as pd\n",
    "import numpy as np\n",
    "import matplotlib.pyplot as plt\n",
    "\n",
    "from sklearn.tree import DecisionTreeClassifier\n",
    "from sklearn.ensemble import RandomForestClassifier\n",
    "from sklearn.linear_model import LogisticRegression\n",
    "from sklearn.model_selection import train_test_split\n",
    "from sklearn import tree\n",
    "from sklearn.dummy import DummyClassifier"
   ]
  },
  {
   "cell_type": "code",
   "execution_count": 2,
   "metadata": {
    "scrolled": true
   },
   "outputs": [
    {
     "data": {
      "text/html": [
       "<div>\n",
       "<style scoped>\n",
       "    .dataframe tbody tr th:only-of-type {\n",
       "        vertical-align: middle;\n",
       "    }\n",
       "\n",
       "    .dataframe tbody tr th {\n",
       "        vertical-align: top;\n",
       "    }\n",
       "\n",
       "    .dataframe thead th {\n",
       "        text-align: right;\n",
       "    }\n",
       "</style>\n",
       "<table border=\"1\" class=\"dataframe\">\n",
       "  <thead>\n",
       "    <tr style=\"text-align: right;\">\n",
       "      <th></th>\n",
       "      <th>calls</th>\n",
       "      <th>minutes</th>\n",
       "      <th>messages</th>\n",
       "      <th>mb_used</th>\n",
       "      <th>is_ultra</th>\n",
       "    </tr>\n",
       "  </thead>\n",
       "  <tbody>\n",
       "    <tr>\n",
       "      <th>0</th>\n",
       "      <td>40.0</td>\n",
       "      <td>311.90</td>\n",
       "      <td>83.0</td>\n",
       "      <td>19915.42</td>\n",
       "      <td>0</td>\n",
       "    </tr>\n",
       "    <tr>\n",
       "      <th>1</th>\n",
       "      <td>85.0</td>\n",
       "      <td>516.75</td>\n",
       "      <td>56.0</td>\n",
       "      <td>22696.96</td>\n",
       "      <td>0</td>\n",
       "    </tr>\n",
       "    <tr>\n",
       "      <th>2</th>\n",
       "      <td>77.0</td>\n",
       "      <td>467.66</td>\n",
       "      <td>86.0</td>\n",
       "      <td>21060.45</td>\n",
       "      <td>0</td>\n",
       "    </tr>\n",
       "    <tr>\n",
       "      <th>3</th>\n",
       "      <td>106.0</td>\n",
       "      <td>745.53</td>\n",
       "      <td>81.0</td>\n",
       "      <td>8437.39</td>\n",
       "      <td>1</td>\n",
       "    </tr>\n",
       "    <tr>\n",
       "      <th>4</th>\n",
       "      <td>66.0</td>\n",
       "      <td>418.74</td>\n",
       "      <td>1.0</td>\n",
       "      <td>14502.75</td>\n",
       "      <td>0</td>\n",
       "    </tr>\n",
       "  </tbody>\n",
       "</table>\n",
       "</div>"
      ],
      "text/plain": [
       "   calls  minutes  messages   mb_used  is_ultra\n",
       "0   40.0   311.90      83.0  19915.42         0\n",
       "1   85.0   516.75      56.0  22696.96         0\n",
       "2   77.0   467.66      86.0  21060.45         0\n",
       "3  106.0   745.53      81.0   8437.39         1\n",
       "4   66.0   418.74       1.0  14502.75         0"
      ]
     },
     "execution_count": 2,
     "metadata": {},
     "output_type": "execute_result"
    }
   ],
   "source": [
    "# загрузка данных\n",
    "\n",
    "try:\n",
    "    df = pd.read_csv('users_behavior.csv')\n",
    "except:\n",
    "    print('Ошибка загрузки данных')    \n",
    "    \n",
    "df.head()"
   ]
  },
  {
   "cell_type": "code",
   "execution_count": 3,
   "metadata": {},
   "outputs": [
    {
     "name": "stdout",
     "output_type": "stream",
     "text": [
      "Количество явных дубликатов: 0\n",
      "\n",
      "Количество пропусков:\n",
      "calls       0\n",
      "minutes     0\n",
      "messages    0\n",
      "mb_used     0\n",
      "is_ultra    0\n",
      "dtype: int64\n"
     ]
    }
   ],
   "source": [
    "# проверка данных на явные дубликаты и пропуски\n",
    "\n",
    "print('Количество явных дубликатов:', df.duplicated().sum())\n",
    "print()\n",
    "print('Количество пропусков:', df.isna().sum(), sep='\\n')"
   ]
  },
  {
   "cell_type": "code",
   "execution_count": 4,
   "metadata": {},
   "outputs": [],
   "source": [
    "# разделение на признаки и целевой признак\n",
    " \n",
    "features = df.drop('is_ultra', axis=1)\n",
    "target = df['is_ultra']"
   ]
  },
  {
   "cell_type": "code",
   "execution_count": 5,
   "metadata": {
    "scrolled": true
   },
   "outputs": [
    {
     "name": "stdout",
     "output_type": "stream",
     "text": [
      "Количество элементов в классе \"1\": 985, их процент от всех данных: 30.6%\n",
      "Количество элементов в классе \"0\": 2229, их процент от всех данных: 69.4%\n"
     ]
    }
   ],
   "source": [
    "# проверка датасета на сбалансированнось классов в целевом признаке\n",
    "\n",
    "one_amount = df.query('is_ultra == 1')['is_ultra'].count()\n",
    "zero_amount = df.query('is_ultra == 0')['is_ultra'].count()\n",
    "\n",
    "print(f'Количество элементов в классе \"1\": {one_amount}, их процент от всех данных: {one_amount / df.shape[0]:.1%}')\n",
    "print(f'Количество элементов в классе \"0\": {zero_amount}, их процент от всех данных: {zero_amount / df.shape[0]:.1%}')"
   ]
  },
  {
   "cell_type": "markdown",
   "metadata": {},
   "source": [
    "Датасет не сбалансирован."
   ]
  },
  {
   "cell_type": "markdown",
   "metadata": {},
   "source": [
    "## Разбиение данных на выборки"
   ]
  },
  {
   "cell_type": "markdown",
   "metadata": {},
   "source": [
    "Так как отсутствует тестовая выборка, данные быи разделены на обучающую, валидационную и тестовые выборки в отношении 3:1:1 (60%:20%:20%)."
   ]
  },
  {
   "cell_type": "code",
   "execution_count": 6,
   "metadata": {},
   "outputs": [],
   "source": [
    "#разбиение на обучающую (train) и валидационную+тестовую (validtest) выборки в отношении 60%:40%.\n",
    "\n",
    "features_train, features_validtest, target_train, target_validtest = train_test_split(\n",
    "    features, target, test_size=0.4, random_state=12345, stratify=target)\n",
    "\n",
    "# разбиение на валидационную (valid) и тестовую (test) выборки\n",
    "\n",
    "features_valid, features_test, target_valid, target_test = train_test_split(\n",
    "    features_validtest, target_validtest, test_size=0.5, random_state=12345, stratify=target_validtest)"
   ]
  },
  {
   "cell_type": "markdown",
   "metadata": {},
   "source": [
    "**Проверка правильности разбиения на выборки**"
   ]
  },
  {
   "cell_type": "code",
   "execution_count": 7,
   "metadata": {
    "scrolled": true
   },
   "outputs": [
    {
     "name": "stdout",
     "output_type": "stream",
     "text": [
      "Количество строк в target_train по классам: [1337  591]\n",
      "Количество строк в target_validtest по классам: [892 394]\n"
     ]
    }
   ],
   "source": [
    "print(f\"Количество строк в target_train по классам: {np.bincount(target_train)}\")\n",
    "print(f\"Количество строк в target_validtest по классам: {np.bincount(target_validtest)}\")"
   ]
  },
  {
   "cell_type": "code",
   "execution_count": 8,
   "metadata": {},
   "outputs": [
    {
     "data": {
      "text/plain": [
       "-0.0016920473773263112"
      ]
     },
     "execution_count": 8,
     "metadata": {},
     "output_type": "execute_result"
    }
   ],
   "source": [
    "# проверка соотношения\n",
    "\n",
    "1337 / 591 - 892 / 394"
   ]
  },
  {
   "cell_type": "code",
   "execution_count": 9,
   "metadata": {
    "scrolled": true
   },
   "outputs": [
    {
     "name": "stdout",
     "output_type": "stream",
     "text": [
      "Количество строк в target_valid по классам: [446 197]\n",
      "Количество строк в target_test по классам: [446 197]\n"
     ]
    }
   ],
   "source": [
    "print(f\"Количество строк в target_valid по классам: {np.bincount(target_valid)}\")\n",
    "print(f\"Количество строк в target_test по классам: {np.bincount(target_test)}\")"
   ]
  },
  {
   "cell_type": "code",
   "execution_count": 10,
   "metadata": {},
   "outputs": [
    {
     "data": {
      "text/plain": [
       "0"
      ]
     },
     "execution_count": 10,
     "metadata": {},
     "output_type": "execute_result"
    }
   ],
   "source": [
    "df.shape[0] - target_train.shape[0] - target_valid.shape[0] - target_test.shape[0]"
   ]
  },
  {
   "cell_type": "markdown",
   "metadata": {},
   "source": [
    "## Исследование моделей"
   ]
  },
  {
   "cell_type": "markdown",
   "metadata": {},
   "source": [
    "**Классификация деревом решений** "
   ]
  },
  {
   "cell_type": "code",
   "execution_count": 11,
   "metadata": {
    "scrolled": true
   },
   "outputs": [
    {
     "name": "stdout",
     "output_type": "stream",
     "text": [
      "Accuracy лучшей модели: 0.80248833592535, max_depth равна 8.\n"
     ]
    }
   ],
   "source": [
    "# рассмотрение моделей с различной высотой дерева\n",
    "\n",
    "best_model_1 = None\n",
    "best_accuracy = 0\n",
    "best_depth = 0\n",
    "\n",
    "depth_list = []\n",
    "train_accuracy = []\n",
    "valid_accuracy = []\n",
    "\n",
    "for depth in range(1, 11):\n",
    "    \n",
    "    model = DecisionTreeClassifier(random_state=12345, max_depth=depth) \n",
    "    model.fit(features_train, target_train) \n",
    "    \n",
    "    accuracy = model.score(features_valid, target_valid) \n",
    "    \n",
    "    if accuracy > best_accuracy:\n",
    "        best_model_1 = model\n",
    "        best_accuracy = accuracy\n",
    "        best_depth = depth\n",
    "    \n",
    "    tr_accuracy = model.score(features_train, target_train)\n",
    "    \n",
    "    depth_list.append(depth)\n",
    "    train_accuracy.append(tr_accuracy)\n",
    "    valid_accuracy.append(accuracy)\n",
    "    \n",
    "print(f'Accuracy лучшей модели: {best_accuracy}, max_depth равна {best_depth}.')"
   ]
  },
  {
   "cell_type": "code",
   "execution_count": 12,
   "metadata": {
    "scrolled": false
   },
   "outputs": [
    {
     "data": {
      "image/png": "[encoded data removed]",
      "text/plain": [
       "<Figure size 792x576 with 1 Axes>"
      ]
     },
     "metadata": {
      "needs_background": "light"
     },
     "output_type": "display_data"
    }
   ],
   "source": [
    "fig, ax = plt.subplots(figsize=(11, 8))\n",
    "\n",
    "ax.plot(depth_list, train_accuracy)\n",
    "ax.plot(depth_list, valid_accuracy)\n",
    "ax.set_title('Зависимость accuracy от глубины дерева')\n",
    "ax.set(xlabel='Глубина дерева', ylabel='Значение accuracy')\n",
    "ax.grid(True)\n",
    "ax.legend(['train_accuracy', 'valid_accuracy'])\n",
    "\n",
    "plt.show()"
   ]
  },
  {
   "cell_type": "markdown",
   "metadata": {},
   "source": [
    "**Классификация случайным лесом**"
   ]
  },
  {
   "cell_type": "code",
   "execution_count": 14,
   "metadata": {},
   "outputs": [
    {
     "name": "stdout",
     "output_type": "stream",
     "text": [
      "Accuracy лучшей модели: 0.8118195956454122, n_estimate равно 19, max_depth равна 8.\n",
      "CPU times: user 5.15 s, sys: 23.1 ms, total: 5.18 s\n",
      "Wall time: 5.18 s\n"
     ]
    }
   ],
   "source": [
    "# рассмотрение моделей с различным количеством деревьев различной глубины\n",
    "\n",
    "best_model_2 = None\n",
    "best_accuracy = 0\n",
    "best_est = 0\n",
    "best_depth = 0\n",
    "\n",
    "for est in range(1, 20):\n",
    "    for depth in range (1, 11):\n",
    "    \n",
    "        model = RandomForestClassifier(random_state=12345, n_estimators=est, max_depth=depth) \n",
    "        model.fit(features_train, target_train) \n",
    "    \n",
    "        accuracy = model.score(features_valid, target_valid)\n",
    "    \n",
    "        if accuracy > best_accuracy:\n",
    "            best_model_2 = model\n",
    "            best_accuracy = accuracy\n",
    "            best_est = est\n",
    "            best_depth = depth\n",
    "        \n",
    "print(f'Accuracy лучшей модели: {best_accuracy}, n_estimate равно {best_est}, max_depth равна {best_depth}.')"
   ]
  },
  {
   "cell_type": "markdown",
   "metadata": {},
   "source": [
    "**Классификация с помощью логистической регрессии**"
   ]
  },
  {
   "cell_type": "code",
   "execution_count": 15,
   "metadata": {},
   "outputs": [
    {
     "name": "stdout",
     "output_type": "stream",
     "text": [
      "Accuracy модели: 0.7387247278382582.\n"
     ]
    }
   ],
   "source": [
    "model_3 = LogisticRegression(random_state=12345, solver='lbfgs', max_iter=1000)\n",
    "model_3.fit(features_train, target_train) \n",
    "    \n",
    "accuracy = model_3.score(features_valid, target_valid)\n",
    "\n",
    "print(f'Accuracy модели: {accuracy}.')"
   ]
  },
  {
   "cell_type": "markdown",
   "metadata": {},
   "source": [
    "Таким образом, наилучшей является модель случайного леса с количеством деревьев, равным 19, и максимальной глубиной, равной 8. (best_model_2)."
   ]
  },
  {
   "cell_type": "markdown",
   "metadata": {},
   "source": [
    "## Проверка модели на тестовой выборке"
   ]
  },
  {
   "cell_type": "code",
   "execution_count": 16,
   "metadata": {
    "scrolled": true
   },
   "outputs": [
    {
     "data": {
      "text/plain": [
       "0.807153965785381"
      ]
     },
     "execution_count": 16,
     "metadata": {},
     "output_type": "execute_result"
    }
   ],
   "source": [
    "best_model_2.score(features_test, target_test)"
   ]
  },
  {
   "cell_type": "markdown",
   "metadata": {},
   "source": [
    "Видно, что для тестовой выборки значение accuracy больше заданного 0.75."
   ]
  },
  {
   "cell_type": "markdown",
   "metadata": {},
   "source": [
    " Проверка, изменит ли что-то повторное обучение наилучшей модели с известными гиперпараметрами на бОльшей выборке:"
   ]
  },
  {
   "cell_type": "code",
   "execution_count": 17,
   "metadata": {
    "scrolled": true
   },
   "outputs": [
    {
     "data": {
      "text/plain": [
       "0.8273716951788491"
      ]
     },
     "execution_count": 17,
     "metadata": {},
     "output_type": "execute_result"
    }
   ],
   "source": [
    "new_features_train = pd.concat([features_train, features_valid])\n",
    "new_target_train = pd.concat([target_train, target_valid])\n",
    "\n",
    "new_model = RandomForestClassifier(random_state=12345, n_estimators=19, max_depth=8) \n",
    "new_model.fit(new_features_train, new_target_train) \n",
    "    \n",
    "new_model.score(features_test, target_test)"
   ]
  },
  {
   "cell_type": "markdown",
   "metadata": {},
   "source": [
    "Наблюдается небольшое увеличение значения accuracy для тестовой выборки (предыдущее значение 0.807153965785381)."
   ]
  },
  {
   "cell_type": "markdown",
   "metadata": {},
   "source": [
    "##  Проверка модели на адекватность"
   ]
  },
  {
   "cell_type": "code",
   "execution_count": 18,
   "metadata": {
    "scrolled": false
   },
   "outputs": [
    {
     "data": {
      "text/plain": [
       "0.6936236391912908"
      ]
     },
     "execution_count": 18,
     "metadata": {},
     "output_type": "execute_result"
    }
   ],
   "source": [
    "model_dummy = DummyClassifier(strategy='most_frequent', random_state=0)\n",
    "model_dummy.fit(features_train, target_train)\n",
    "model_dummy.score(features_test, target_test)"
   ]
  },
  {
   "cell_type": "markdown",
   "metadata": {},
   "source": [
    "Accuracy ниже, чем accuracy нашей модели, значит, наша модель лучше примитивного прогноза."
   ]
  },
  {
   "cell_type": "markdown",
   "metadata": {},
   "source": [
    "## Вывод\n",
    "\n",
    "Необходимого значения accuracy можно достичь, используя две модели: \n",
    "- модель дерева решений, accuracy 0.80248833592535 при max_depth = 8,\n",
    "- модель случайного леса, accuracy 0.8118195956454122 при n_estimate равно 19 и max_depth равна 8.\n",
    "\n",
    "Максимальная accuracy была достигнута при использовании модели случайного леса с 19 деревьями и глубиной 8. Accuracy на тестовой выборке при использовании данной модели равна 0.807153965785381. На дообученной модели при объединении обучающей и валидационной выборок accuracy равна 0.8273716951788491.\n",
    "\n",
    "Модель логистической регрессии не даёт значение accuracy, больше требуемого (accuracy модели 0.7387247278382582)."
   ]
  }
 ],
 "metadata": {
  "ExecuteTimeLog": [
   {
    "duration": 1509,
    "start_time": "2022-11-10T18:57:40.894Z"
   },
   {
    "duration": 65,
    "start_time": "2022-11-10T18:57:42.405Z"
   },
   {
    "duration": 9,
    "start_time": "2022-11-10T18:57:42.471Z"
   },
   {
    "duration": 7,
    "start_time": "2022-11-10T18:57:42.482Z"
   },
   {
    "duration": 15,
    "start_time": "2022-11-10T18:57:42.491Z"
   },
   {
    "duration": 67,
    "start_time": "2022-11-10T18:57:42.508Z"
   },
   {
    "duration": 789,
    "start_time": "2022-11-10T18:57:42.577Z"
   },
   {
    "duration": 25,
    "start_time": "2022-11-10T18:57:43.368Z"
   },
   {
    "duration": 10,
    "start_time": "2022-11-10T18:57:43.395Z"
   },
   {
    "duration": 1485,
    "start_time": "2022-11-16T08:24:55.251Z"
   },
   {
    "duration": 180,
    "start_time": "2022-11-16T08:24:56.738Z"
   },
   {
    "duration": 9,
    "start_time": "2022-11-16T08:24:56.919Z"
   },
   {
    "duration": 13,
    "start_time": "2022-11-16T08:24:56.930Z"
   },
   {
    "duration": 20,
    "start_time": "2022-11-16T08:24:56.945Z"
   },
   {
    "duration": 9,
    "start_time": "2022-11-16T08:24:56.967Z"
   },
   {
    "duration": 5,
    "start_time": "2022-11-16T08:24:56.977Z"
   },
   {
    "duration": 13,
    "start_time": "2022-11-16T08:24:56.983Z"
   },
   {
    "duration": 4,
    "start_time": "2022-11-16T08:24:56.998Z"
   },
   {
    "duration": 9,
    "start_time": "2022-11-16T08:24:57.004Z"
   },
   {
    "duration": 107,
    "start_time": "2022-11-16T08:24:57.014Z"
   },
   {
    "duration": 210,
    "start_time": "2022-11-16T08:24:57.123Z"
   },
   {
    "duration": 980,
    "start_time": "2022-11-16T08:24:57.335Z"
   },
   {
    "duration": 5189,
    "start_time": "2022-11-16T08:24:58.317Z"
   },
   {
    "duration": 41,
    "start_time": "2022-11-16T08:25:03.507Z"
   },
   {
    "duration": 11,
    "start_time": "2022-11-16T08:25:03.549Z"
   },
   {
    "duration": 101,
    "start_time": "2022-11-16T08:25:03.561Z"
   },
   {
    "duration": 5,
    "start_time": "2022-11-16T08:25:03.664Z"
   },
   {
    "duration": 103,
    "start_time": "2022-11-16T08:25:15.532Z"
   },
   {
    "duration": 251,
    "start_time": "2022-11-16T08:25:33.743Z"
   }
  ],
  "kernelspec": {
   "display_name": "Python 3 (ipykernel)",
   "language": "python",
   "name": "python3"
  },
  "language_info": {
   "codemirror_mode": {
    "name": "ipython",
    "version": 3
   },
   "file_extension": ".py",
   "mimetype": "text/x-python",
   "name": "python",
   "nbconvert_exporter": "python",
   "pygments_lexer": "ipython3",
   "version": "3.9.12"
  },
  "toc": {
   "base_numbering": 1,
   "nav_menu": {},
   "number_sections": true,
   "sideBar": true,
   "skip_h1_title": true,
   "title_cell": "Table of Contents",
   "title_sidebar": "Contents",
   "toc_cell": false,
   "toc_position": {},
   "toc_section_display": true,
   "toc_window_display": false
  }
 },
 "nbformat": 4,
 "nbformat_minor": 2
}
