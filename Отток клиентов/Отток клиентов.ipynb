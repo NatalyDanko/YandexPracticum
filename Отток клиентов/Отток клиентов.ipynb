{
 "cells": [
  {
   "cell_type": "markdown",
   "metadata": {},
   "source": [
    "# Отток клиентов"
   ]
  },
  {
   "cell_type": "markdown",
   "metadata": {},
   "source": [
    "## Подготовка данных"
   ]
  },
  {
   "cell_type": "code",
   "execution_count": 1,
   "metadata": {},
   "outputs": [],
   "source": [
    "import pandas as pd\n",
    "import numpy as np\n",
    "\n",
    "from sklearn.preprocessing import StandardScaler\n",
    "from sklearn.model_selection import train_test_split\n",
    "from sklearn.compose import make_column_transformer\n",
    "from sklearn.preprocessing import OneHotEncoder\n",
    "from sklearn.tree import DecisionTreeClassifier\n",
    "from sklearn.ensemble import RandomForestClassifier\n",
    "from sklearn.linear_model import LogisticRegression\n",
    "from sklearn.metrics import f1_score\n",
    "from sklearn.metrics import roc_auc_score\n",
    "from sklearn.utils import shuffle"
   ]
  },
  {
   "cell_type": "code",
   "execution_count": 2,
   "metadata": {
    "scrolled": true
   },
   "outputs": [
    {
     "data": {
      "text/html": [
       "<div>\n",
       "<style scoped>\n",
       "    .dataframe tbody tr th:only-of-type {\n",
       "        vertical-align: middle;\n",
       "    }\n",
       "\n",
       "    .dataframe tbody tr th {\n",
       "        vertical-align: top;\n",
       "    }\n",
       "\n",
       "    .dataframe thead th {\n",
       "        text-align: right;\n",
       "    }\n",
       "</style>\n",
       "<table border=\"1\" class=\"dataframe\">\n",
       "  <thead>\n",
       "    <tr style=\"text-align: right;\">\n",
       "      <th></th>\n",
       "      <th>RowNumber</th>\n",
       "      <th>CustomerId</th>\n",
       "      <th>Surname</th>\n",
       "      <th>CreditScore</th>\n",
       "      <th>Geography</th>\n",
       "      <th>Gender</th>\n",
       "      <th>Age</th>\n",
       "      <th>Tenure</th>\n",
       "      <th>Balance</th>\n",
       "      <th>NumOfProducts</th>\n",
       "      <th>HasCrCard</th>\n",
       "      <th>IsActiveMember</th>\n",
       "      <th>EstimatedSalary</th>\n",
       "      <th>Exited</th>\n",
       "    </tr>\n",
       "  </thead>\n",
       "  <tbody>\n",
       "    <tr>\n",
       "      <th>0</th>\n",
       "      <td>1</td>\n",
       "      <td>15634602</td>\n",
       "      <td>Hargrave</td>\n",
       "      <td>619</td>\n",
       "      <td>France</td>\n",
       "      <td>Female</td>\n",
       "      <td>42</td>\n",
       "      <td>2.0</td>\n",
       "      <td>0.00</td>\n",
       "      <td>1</td>\n",
       "      <td>1</td>\n",
       "      <td>1</td>\n",
       "      <td>101348.88</td>\n",
       "      <td>1</td>\n",
       "    </tr>\n",
       "    <tr>\n",
       "      <th>1</th>\n",
       "      <td>2</td>\n",
       "      <td>15647311</td>\n",
       "      <td>Hill</td>\n",
       "      <td>608</td>\n",
       "      <td>Spain</td>\n",
       "      <td>Female</td>\n",
       "      <td>41</td>\n",
       "      <td>1.0</td>\n",
       "      <td>83807.86</td>\n",
       "      <td>1</td>\n",
       "      <td>0</td>\n",
       "      <td>1</td>\n",
       "      <td>112542.58</td>\n",
       "      <td>0</td>\n",
       "    </tr>\n",
       "    <tr>\n",
       "      <th>2</th>\n",
       "      <td>3</td>\n",
       "      <td>15619304</td>\n",
       "      <td>Onio</td>\n",
       "      <td>502</td>\n",
       "      <td>France</td>\n",
       "      <td>Female</td>\n",
       "      <td>42</td>\n",
       "      <td>8.0</td>\n",
       "      <td>159660.80</td>\n",
       "      <td>3</td>\n",
       "      <td>1</td>\n",
       "      <td>0</td>\n",
       "      <td>113931.57</td>\n",
       "      <td>1</td>\n",
       "    </tr>\n",
       "    <tr>\n",
       "      <th>3</th>\n",
       "      <td>4</td>\n",
       "      <td>15701354</td>\n",
       "      <td>Boni</td>\n",
       "      <td>699</td>\n",
       "      <td>France</td>\n",
       "      <td>Female</td>\n",
       "      <td>39</td>\n",
       "      <td>1.0</td>\n",
       "      <td>0.00</td>\n",
       "      <td>2</td>\n",
       "      <td>0</td>\n",
       "      <td>0</td>\n",
       "      <td>93826.63</td>\n",
       "      <td>0</td>\n",
       "    </tr>\n",
       "    <tr>\n",
       "      <th>4</th>\n",
       "      <td>5</td>\n",
       "      <td>15737888</td>\n",
       "      <td>Mitchell</td>\n",
       "      <td>850</td>\n",
       "      <td>Spain</td>\n",
       "      <td>Female</td>\n",
       "      <td>43</td>\n",
       "      <td>2.0</td>\n",
       "      <td>125510.82</td>\n",
       "      <td>1</td>\n",
       "      <td>1</td>\n",
       "      <td>1</td>\n",
       "      <td>79084.10</td>\n",
       "      <td>0</td>\n",
       "    </tr>\n",
       "  </tbody>\n",
       "</table>\n",
       "</div>"
      ],
      "text/plain": [
       "   RowNumber  CustomerId   Surname  CreditScore Geography  Gender  Age  \\\n",
       "0          1    15634602  Hargrave          619    France  Female   42   \n",
       "1          2    15647311      Hill          608     Spain  Female   41   \n",
       "2          3    15619304      Onio          502    France  Female   42   \n",
       "3          4    15701354      Boni          699    France  Female   39   \n",
       "4          5    15737888  Mitchell          850     Spain  Female   43   \n",
       "\n",
       "   Tenure    Balance  NumOfProducts  HasCrCard  IsActiveMember  \\\n",
       "0     2.0       0.00              1          1               1   \n",
       "1     1.0   83807.86              1          0               1   \n",
       "2     8.0  159660.80              3          1               0   \n",
       "3     1.0       0.00              2          0               0   \n",
       "4     2.0  125510.82              1          1               1   \n",
       "\n",
       "   EstimatedSalary  Exited  \n",
       "0        101348.88       1  \n",
       "1        112542.58       0  \n",
       "2        113931.57       1  \n",
       "3         93826.63       0  \n",
       "4         79084.10       0  "
      ]
     },
     "execution_count": 2,
     "metadata": {},
     "output_type": "execute_result"
    }
   ],
   "source": [
    "try:\n",
    "    data = pd.read_csv('сhurn.csv') \n",
    "except:\n",
    "    print('Ошибка загрузки данных')\n",
    "    \n",
    "data.head()"
   ]
  },
  {
   "cell_type": "code",
   "execution_count": 3,
   "metadata": {
    "scrolled": false
   },
   "outputs": [
    {
     "name": "stdout",
     "output_type": "stream",
     "text": [
      "<class 'pandas.core.frame.DataFrame'>\n",
      "RangeIndex: 10000 entries, 0 to 9999\n",
      "Data columns (total 14 columns):\n",
      " #   Column           Non-Null Count  Dtype  \n",
      "---  ------           --------------  -----  \n",
      " 0   RowNumber        10000 non-null  int64  \n",
      " 1   CustomerId       10000 non-null  int64  \n",
      " 2   Surname          10000 non-null  object \n",
      " 3   CreditScore      10000 non-null  int64  \n",
      " 4   Geography        10000 non-null  object \n",
      " 5   Gender           10000 non-null  object \n",
      " 6   Age              10000 non-null  int64  \n",
      " 7   Tenure           9091 non-null   float64\n",
      " 8   Balance          10000 non-null  float64\n",
      " 9   NumOfProducts    10000 non-null  int64  \n",
      " 10  HasCrCard        10000 non-null  int64  \n",
      " 11  IsActiveMember   10000 non-null  int64  \n",
      " 12  EstimatedSalary  10000 non-null  float64\n",
      " 13  Exited           10000 non-null  int64  \n",
      "dtypes: float64(3), int64(8), object(3)\n",
      "memory usage: 1.1+ MB\n"
     ]
    }
   ],
   "source": [
    "data.info()"
   ]
  },
  {
   "cell_type": "markdown",
   "metadata": {},
   "source": [
    "**Проверка на пропуски**"
   ]
  },
  {
   "cell_type": "code",
   "execution_count": 4,
   "metadata": {},
   "outputs": [
    {
     "data": {
      "text/plain": [
       "RowNumber            0\n",
       "CustomerId           0\n",
       "Surname              0\n",
       "CreditScore          0\n",
       "Geography            0\n",
       "Gender               0\n",
       "Age                  0\n",
       "Tenure             909\n",
       "Balance              0\n",
       "NumOfProducts        0\n",
       "HasCrCard            0\n",
       "IsActiveMember       0\n",
       "EstimatedSalary      0\n",
       "Exited               0\n",
       "dtype: int64"
      ]
     },
     "execution_count": 4,
     "metadata": {},
     "output_type": "execute_result"
    }
   ],
   "source": [
    "data.isna().sum()"
   ]
  },
  {
   "cell_type": "code",
   "execution_count": 5,
   "metadata": {
    "scrolled": false
   },
   "outputs": [
    {
     "name": "stdout",
     "output_type": "stream",
     "text": [
      "Доля пропусков в столбце \"Tenure\": 9.1%\n"
     ]
    }
   ],
   "source": [
    "# оценка доли строк с пропусками в столбце \"Tenure\"\n",
    "\n",
    "ratio = data['Tenure'].isna().sum() / data.shape[0]\n",
    "print(f'Доля пропусков в столбце \"Tenure\": {ratio:.1%}')"
   ]
  },
  {
   "cell_type": "code",
   "execution_count": 6,
   "metadata": {},
   "outputs": [
    {
     "data": {
      "text/plain": [
       "RowNumber          0\n",
       "CustomerId         0\n",
       "Surname            0\n",
       "CreditScore        0\n",
       "Geography          0\n",
       "Gender             0\n",
       "Age                0\n",
       "Tenure             0\n",
       "Balance            0\n",
       "NumOfProducts      0\n",
       "HasCrCard          0\n",
       "IsActiveMember     0\n",
       "EstimatedSalary    0\n",
       "Exited             0\n",
       "dtype: int64"
      ]
     },
     "execution_count": 6,
     "metadata": {},
     "output_type": "execute_result"
    }
   ],
   "source": [
    "data = data.dropna(subset=['Tenure']).reset_index(drop=True)\n",
    "data.isna().sum()"
   ]
  },
  {
   "cell_type": "markdown",
   "metadata": {},
   "source": [
    "**Смена названий столбцов**"
   ]
  },
  {
   "cell_type": "code",
   "execution_count": 7,
   "metadata": {
    "scrolled": false
   },
   "outputs": [
    {
     "data": {
      "text/plain": [
       "Index(['row_number', 'customer_id', 'surname', 'credit_score', 'geography',\n",
       "       'gender', 'age', 'tenure', 'balance', 'num_of_products', 'has_cr_card',\n",
       "       'is_active_member', 'estimated_salary', 'exited'],\n",
       "      dtype='object')"
      ]
     },
     "execution_count": 7,
     "metadata": {},
     "output_type": "execute_result"
    }
   ],
   "source": [
    "data.columns = ['Row_Number', 'Customer_Id', 'Surname', 'Credit_Score', 'Geography', 'Gender', 'Age',\\\n",
    "                'Tenure', 'Balance', 'Num_Of_Products', 'Has_Cr_Card', 'Is_Active_Member', 'Estimated_Salary', 'Exited']\n",
    "data.columns = data.columns.str.lower()\n",
    "data.columns"
   ]
  },
  {
   "cell_type": "markdown",
   "metadata": {},
   "source": [
    "Для построения моделей нам не потребуются данные из следующих столбцов: 'row_number', 'customer_id', 'surname' - эти столбцы содержат данные, идентифицирующие пользователя, но не описывающие его поведение, как клиента банка. Разделим данные на два датасета и будем работать только с одним из них."
   ]
  },
  {
   "cell_type": "code",
   "execution_count": 8,
   "metadata": {
    "scrolled": false
   },
   "outputs": [
    {
     "data": {
      "text/html": [
       "<div>\n",
       "<style scoped>\n",
       "    .dataframe tbody tr th:only-of-type {\n",
       "        vertical-align: middle;\n",
       "    }\n",
       "\n",
       "    .dataframe tbody tr th {\n",
       "        vertical-align: top;\n",
       "    }\n",
       "\n",
       "    .dataframe thead th {\n",
       "        text-align: right;\n",
       "    }\n",
       "</style>\n",
       "<table border=\"1\" class=\"dataframe\">\n",
       "  <thead>\n",
       "    <tr style=\"text-align: right;\">\n",
       "      <th></th>\n",
       "      <th>credit_score</th>\n",
       "      <th>geography</th>\n",
       "      <th>gender</th>\n",
       "      <th>age</th>\n",
       "      <th>tenure</th>\n",
       "      <th>balance</th>\n",
       "      <th>num_of_products</th>\n",
       "      <th>has_cr_card</th>\n",
       "      <th>is_active_member</th>\n",
       "      <th>estimated_salary</th>\n",
       "      <th>exited</th>\n",
       "    </tr>\n",
       "  </thead>\n",
       "  <tbody>\n",
       "    <tr>\n",
       "      <th>0</th>\n",
       "      <td>619</td>\n",
       "      <td>France</td>\n",
       "      <td>Female</td>\n",
       "      <td>42</td>\n",
       "      <td>2.0</td>\n",
       "      <td>0.00</td>\n",
       "      <td>1</td>\n",
       "      <td>1</td>\n",
       "      <td>1</td>\n",
       "      <td>101348.88</td>\n",
       "      <td>1</td>\n",
       "    </tr>\n",
       "    <tr>\n",
       "      <th>1</th>\n",
       "      <td>608</td>\n",
       "      <td>Spain</td>\n",
       "      <td>Female</td>\n",
       "      <td>41</td>\n",
       "      <td>1.0</td>\n",
       "      <td>83807.86</td>\n",
       "      <td>1</td>\n",
       "      <td>0</td>\n",
       "      <td>1</td>\n",
       "      <td>112542.58</td>\n",
       "      <td>0</td>\n",
       "    </tr>\n",
       "    <tr>\n",
       "      <th>2</th>\n",
       "      <td>502</td>\n",
       "      <td>France</td>\n",
       "      <td>Female</td>\n",
       "      <td>42</td>\n",
       "      <td>8.0</td>\n",
       "      <td>159660.80</td>\n",
       "      <td>3</td>\n",
       "      <td>1</td>\n",
       "      <td>0</td>\n",
       "      <td>113931.57</td>\n",
       "      <td>1</td>\n",
       "    </tr>\n",
       "    <tr>\n",
       "      <th>3</th>\n",
       "      <td>699</td>\n",
       "      <td>France</td>\n",
       "      <td>Female</td>\n",
       "      <td>39</td>\n",
       "      <td>1.0</td>\n",
       "      <td>0.00</td>\n",
       "      <td>2</td>\n",
       "      <td>0</td>\n",
       "      <td>0</td>\n",
       "      <td>93826.63</td>\n",
       "      <td>0</td>\n",
       "    </tr>\n",
       "    <tr>\n",
       "      <th>4</th>\n",
       "      <td>850</td>\n",
       "      <td>Spain</td>\n",
       "      <td>Female</td>\n",
       "      <td>43</td>\n",
       "      <td>2.0</td>\n",
       "      <td>125510.82</td>\n",
       "      <td>1</td>\n",
       "      <td>1</td>\n",
       "      <td>1</td>\n",
       "      <td>79084.10</td>\n",
       "      <td>0</td>\n",
       "    </tr>\n",
       "    <tr>\n",
       "      <th>...</th>\n",
       "      <td>...</td>\n",
       "      <td>...</td>\n",
       "      <td>...</td>\n",
       "      <td>...</td>\n",
       "      <td>...</td>\n",
       "      <td>...</td>\n",
       "      <td>...</td>\n",
       "      <td>...</td>\n",
       "      <td>...</td>\n",
       "      <td>...</td>\n",
       "      <td>...</td>\n",
       "    </tr>\n",
       "    <tr>\n",
       "      <th>9086</th>\n",
       "      <td>800</td>\n",
       "      <td>France</td>\n",
       "      <td>Female</td>\n",
       "      <td>29</td>\n",
       "      <td>2.0</td>\n",
       "      <td>0.00</td>\n",
       "      <td>2</td>\n",
       "      <td>0</td>\n",
       "      <td>0</td>\n",
       "      <td>167773.55</td>\n",
       "      <td>0</td>\n",
       "    </tr>\n",
       "    <tr>\n",
       "      <th>9087</th>\n",
       "      <td>771</td>\n",
       "      <td>France</td>\n",
       "      <td>Male</td>\n",
       "      <td>39</td>\n",
       "      <td>5.0</td>\n",
       "      <td>0.00</td>\n",
       "      <td>2</td>\n",
       "      <td>1</td>\n",
       "      <td>0</td>\n",
       "      <td>96270.64</td>\n",
       "      <td>0</td>\n",
       "    </tr>\n",
       "    <tr>\n",
       "      <th>9088</th>\n",
       "      <td>516</td>\n",
       "      <td>France</td>\n",
       "      <td>Male</td>\n",
       "      <td>35</td>\n",
       "      <td>10.0</td>\n",
       "      <td>57369.61</td>\n",
       "      <td>1</td>\n",
       "      <td>1</td>\n",
       "      <td>1</td>\n",
       "      <td>101699.77</td>\n",
       "      <td>0</td>\n",
       "    </tr>\n",
       "    <tr>\n",
       "      <th>9089</th>\n",
       "      <td>709</td>\n",
       "      <td>France</td>\n",
       "      <td>Female</td>\n",
       "      <td>36</td>\n",
       "      <td>7.0</td>\n",
       "      <td>0.00</td>\n",
       "      <td>1</td>\n",
       "      <td>0</td>\n",
       "      <td>1</td>\n",
       "      <td>42085.58</td>\n",
       "      <td>1</td>\n",
       "    </tr>\n",
       "    <tr>\n",
       "      <th>9090</th>\n",
       "      <td>772</td>\n",
       "      <td>Germany</td>\n",
       "      <td>Male</td>\n",
       "      <td>42</td>\n",
       "      <td>3.0</td>\n",
       "      <td>75075.31</td>\n",
       "      <td>2</td>\n",
       "      <td>1</td>\n",
       "      <td>0</td>\n",
       "      <td>92888.52</td>\n",
       "      <td>1</td>\n",
       "    </tr>\n",
       "  </tbody>\n",
       "</table>\n",
       "<p>9091 rows × 11 columns</p>\n",
       "</div>"
      ],
      "text/plain": [
       "      credit_score geography  gender  age  tenure    balance  num_of_products  \\\n",
       "0              619    France  Female   42     2.0       0.00                1   \n",
       "1              608     Spain  Female   41     1.0   83807.86                1   \n",
       "2              502    France  Female   42     8.0  159660.80                3   \n",
       "3              699    France  Female   39     1.0       0.00                2   \n",
       "4              850     Spain  Female   43     2.0  125510.82                1   \n",
       "...            ...       ...     ...  ...     ...        ...              ...   \n",
       "9086           800    France  Female   29     2.0       0.00                2   \n",
       "9087           771    France    Male   39     5.0       0.00                2   \n",
       "9088           516    France    Male   35    10.0   57369.61                1   \n",
       "9089           709    France  Female   36     7.0       0.00                1   \n",
       "9090           772   Germany    Male   42     3.0   75075.31                2   \n",
       "\n",
       "      has_cr_card  is_active_member  estimated_salary  exited  \n",
       "0               1                 1         101348.88       1  \n",
       "1               0                 1         112542.58       0  \n",
       "2               1                 0         113931.57       1  \n",
       "3               0                 0          93826.63       0  \n",
       "4               1                 1          79084.10       0  \n",
       "...           ...               ...               ...     ...  \n",
       "9086            0                 0         167773.55       0  \n",
       "9087            1                 0          96270.64       0  \n",
       "9088            1                 1         101699.77       0  \n",
       "9089            0                 1          42085.58       1  \n",
       "9090            1                 0          92888.52       1  \n",
       "\n",
       "[9091 rows x 11 columns]"
      ]
     },
     "execution_count": 8,
     "metadata": {},
     "output_type": "execute_result"
    }
   ],
   "source": [
    "data_ind = data[['row_number', 'customer_id', 'surname']]\n",
    "data = data.drop(['row_number', 'customer_id', 'surname'], axis=1) # данные для дальнейшей работы\n",
    "data"
   ]
  },
  {
   "cell_type": "markdown",
   "metadata": {},
   "source": [
    "**Вывод**\n",
    "\n",
    "Проведена предобработка данных: удалены строки с пропусками с столбце \"Tenure\", произведена смена названий столбцов, отобраны столбцы с необходимыми признаками для дальнейшего анализа."
   ]
  },
  {
   "cell_type": "markdown",
   "metadata": {},
   "source": [
    "## Исследование задачи"
   ]
  },
  {
   "cell_type": "markdown",
   "metadata": {},
   "source": [
    "**Проверка данных на дисбаланс в столбце с целевым признаком**"
   ]
  },
  {
   "cell_type": "code",
   "execution_count": 9,
   "metadata": {},
   "outputs": [
    {
     "name": "stdout",
     "output_type": "stream",
     "text": [
      "0    7237\n",
      "1    1854\n",
      "Name: exited, dtype: int64\n",
      "\n",
      "Отношение вероятности класса \"0\" к количеству класса \"1\": 3.9\n"
     ]
    },
    {
     "data": {
      "image/png": "[encoded data removed]",
      "text/plain": [
       "<Figure size 432x288 with 1 Axes>"
      ]
     },
     "metadata": {
      "needs_background": "light"
     },
     "output_type": "display_data"
    }
   ],
   "source": [
    "print(data['exited'].value_counts(), end='\\n\\n')\n",
    "print(f'Отношение вероятности класса \"0\" к количеству класса \"1\": {7963 / 2037:.1f}')\n",
    "\n",
    "class_frequency = data['exited'].value_counts(normalize=True)\n",
    "class_frequency.plot(kind='bar');"
   ]
  },
  {
   "cell_type": "markdown",
   "metadata": {},
   "source": [
    "Данные не сбалансированны, нулей в колонке с целевым признаком почти в четыре раза больше, чем единиц."
   ]
  },
  {
   "cell_type": "markdown",
   "metadata": {},
   "source": [
    "**Проверка работы моделей без учёта дисбаланса данных**<br>\n",
    "\n",
    "Так как стоит задача классификации, в работе будут исследованы модели решающего дерева, случайного леса и логистической регрессии."
   ]
  },
  {
   "cell_type": "code",
   "execution_count": 10,
   "metadata": {},
   "outputs": [],
   "source": [
    "# разбиение на признаки и целевой признак\n",
    "\n",
    "features = data.drop('exited', axis=1)\n",
    "target = data['exited']\n",
    "\n",
    "\n",
    "# разделение на обучающую, валидационную и тестовые выборки в отношении 3:1:1 (60%:20%:20%).\n",
    "\n",
    "#разбиение на обучающую (train) и валидационную+тестовую (validtest) выборки в отношении 60%:40%.\n",
    "\n",
    "features_train, features_validtest, target_train, target_validtest = train_test_split(\n",
    "    features, target, test_size=0.4, random_state=12345, stratify=target)\n",
    "\n",
    "# разбиение на валидационную (valid) и тестовую (test) выборки\n",
    "\n",
    "features_valid, features_test, target_valid, target_test = train_test_split(\n",
    "    features_validtest, target_validtest, test_size=0.5, random_state=12345, stratify=target_validtest)"
   ]
  },
  {
   "cell_type": "code",
   "execution_count": 11,
   "metadata": {},
   "outputs": [
    {
     "name": "stdout",
     "output_type": "stream",
     "text": [
      "Количество строк в target_train по классам: [4342 1112]\n",
      "Количество строк в target_validtest по классам: [2895  742]\n"
     ]
    },
    {
     "data": {
      "text/plain": [
       "0.002008173265189317"
      ]
     },
     "execution_count": 11,
     "metadata": {},
     "output_type": "execute_result"
    }
   ],
   "source": [
    "print(f\"Количество строк в target_train по классам: {np.bincount(target_train)}\")\n",
    "print(f\"Количество строк в target_validtest по классам: {np.bincount(target_validtest)}\")\n",
    "\n",
    "# проверка соотношения\n",
    "4778 / 1222 - 3185 / 815"
   ]
  },
  {
   "cell_type": "code",
   "execution_count": 12,
   "metadata": {
    "scrolled": false
   },
   "outputs": [
    {
     "data": {
      "text/plain": [
       "0"
      ]
     },
     "execution_count": 12,
     "metadata": {},
     "output_type": "execute_result"
    }
   ],
   "source": [
    "# проверка корректности разбиения по количеству\n",
    "\n",
    "data.shape[0] - target_train.shape[0] - target_valid.shape[0] - target_test.shape[0]"
   ]
  },
  {
   "cell_type": "markdown",
   "metadata": {},
   "source": [
    "**Преобразование признаков**<br>\n",
    "\n",
    "В данных помимо количественных признаков присутствуют категориальные: \"geography\", \"gender\". "
   ]
  },
  {
   "cell_type": "code",
   "execution_count": 13,
   "metadata": {
    "scrolled": true
   },
   "outputs": [],
   "source": [
    "features_train = pd.get_dummies(features_train, drop_first=True)\n",
    "features_valid = pd.get_dummies(features_valid, drop_first=True)\n",
    "features_test = pd.get_dummies(features_test, drop_first=True)"
   ]
  },
  {
   "cell_type": "code",
   "execution_count": 14,
   "metadata": {},
   "outputs": [
    {
     "data": {
      "text/html": [
       "<div>\n",
       "<style scoped>\n",
       "    .dataframe tbody tr th:only-of-type {\n",
       "        vertical-align: middle;\n",
       "    }\n",
       "\n",
       "    .dataframe tbody tr th {\n",
       "        vertical-align: top;\n",
       "    }\n",
       "\n",
       "    .dataframe thead th {\n",
       "        text-align: right;\n",
       "    }\n",
       "</style>\n",
       "<table border=\"1\" class=\"dataframe\">\n",
       "  <thead>\n",
       "    <tr style=\"text-align: right;\">\n",
       "      <th></th>\n",
       "      <th>credit_score</th>\n",
       "      <th>age</th>\n",
       "      <th>tenure</th>\n",
       "      <th>balance</th>\n",
       "      <th>num_of_products</th>\n",
       "      <th>has_cr_card</th>\n",
       "      <th>is_active_member</th>\n",
       "      <th>estimated_salary</th>\n",
       "      <th>geography_Germany</th>\n",
       "      <th>geography_Spain</th>\n",
       "      <th>gender_Male</th>\n",
       "    </tr>\n",
       "  </thead>\n",
       "  <tbody>\n",
       "    <tr>\n",
       "      <th>8837</th>\n",
       "      <td>526</td>\n",
       "      <td>32</td>\n",
       "      <td>7.0</td>\n",
       "      <td>125540.05</td>\n",
       "      <td>1</td>\n",
       "      <td>0</td>\n",
       "      <td>0</td>\n",
       "      <td>86786.41</td>\n",
       "      <td>0</td>\n",
       "      <td>0</td>\n",
       "      <td>1</td>\n",
       "    </tr>\n",
       "    <tr>\n",
       "      <th>1090</th>\n",
       "      <td>500</td>\n",
       "      <td>47</td>\n",
       "      <td>8.0</td>\n",
       "      <td>128486.11</td>\n",
       "      <td>1</td>\n",
       "      <td>1</td>\n",
       "      <td>0</td>\n",
       "      <td>179227.12</td>\n",
       "      <td>0</td>\n",
       "      <td>1</td>\n",
       "      <td>0</td>\n",
       "    </tr>\n",
       "    <tr>\n",
       "      <th>7609</th>\n",
       "      <td>802</td>\n",
       "      <td>40</td>\n",
       "      <td>4.0</td>\n",
       "      <td>0.00</td>\n",
       "      <td>2</td>\n",
       "      <td>1</td>\n",
       "      <td>1</td>\n",
       "      <td>81908.09</td>\n",
       "      <td>0</td>\n",
       "      <td>1</td>\n",
       "      <td>1</td>\n",
       "    </tr>\n",
       "    <tr>\n",
       "      <th>7279</th>\n",
       "      <td>731</td>\n",
       "      <td>39</td>\n",
       "      <td>2.0</td>\n",
       "      <td>126816.18</td>\n",
       "      <td>1</td>\n",
       "      <td>1</td>\n",
       "      <td>1</td>\n",
       "      <td>74850.93</td>\n",
       "      <td>0</td>\n",
       "      <td>1</td>\n",
       "      <td>0</td>\n",
       "    </tr>\n",
       "    <tr>\n",
       "      <th>2245</th>\n",
       "      <td>612</td>\n",
       "      <td>26</td>\n",
       "      <td>4.0</td>\n",
       "      <td>0.00</td>\n",
       "      <td>2</td>\n",
       "      <td>1</td>\n",
       "      <td>1</td>\n",
       "      <td>179780.74</td>\n",
       "      <td>0</td>\n",
       "      <td>1</td>\n",
       "      <td>0</td>\n",
       "    </tr>\n",
       "  </tbody>\n",
       "</table>\n",
       "</div>"
      ],
      "text/plain": [
       "      credit_score  age  tenure    balance  num_of_products  has_cr_card  \\\n",
       "8837           526   32     7.0  125540.05                1            0   \n",
       "1090           500   47     8.0  128486.11                1            1   \n",
       "7609           802   40     4.0       0.00                2            1   \n",
       "7279           731   39     2.0  126816.18                1            1   \n",
       "2245           612   26     4.0       0.00                2            1   \n",
       "\n",
       "      is_active_member  estimated_salary  geography_Germany  geography_Spain  \\\n",
       "8837                 0          86786.41                  0                0   \n",
       "1090                 0         179227.12                  0                1   \n",
       "7609                 1          81908.09                  0                1   \n",
       "7279                 1          74850.93                  0                1   \n",
       "2245                 1         179780.74                  0                1   \n",
       "\n",
       "      gender_Male  \n",
       "8837            1  \n",
       "1090            0  \n",
       "7609            1  \n",
       "7279            0  \n",
       "2245            0  "
      ]
     },
     "metadata": {},
     "output_type": "display_data"
    },
    {
     "data": {
      "text/html": [
       "<div>\n",
       "<style scoped>\n",
       "    .dataframe tbody tr th:only-of-type {\n",
       "        vertical-align: middle;\n",
       "    }\n",
       "\n",
       "    .dataframe tbody tr th {\n",
       "        vertical-align: top;\n",
       "    }\n",
       "\n",
       "    .dataframe thead th {\n",
       "        text-align: right;\n",
       "    }\n",
       "</style>\n",
       "<table border=\"1\" class=\"dataframe\">\n",
       "  <thead>\n",
       "    <tr style=\"text-align: right;\">\n",
       "      <th></th>\n",
       "      <th>credit_score</th>\n",
       "      <th>age</th>\n",
       "      <th>tenure</th>\n",
       "      <th>balance</th>\n",
       "      <th>num_of_products</th>\n",
       "      <th>has_cr_card</th>\n",
       "      <th>is_active_member</th>\n",
       "      <th>estimated_salary</th>\n",
       "      <th>geography_Germany</th>\n",
       "      <th>geography_Spain</th>\n",
       "      <th>gender_Male</th>\n",
       "    </tr>\n",
       "  </thead>\n",
       "  <tbody>\n",
       "    <tr>\n",
       "      <th>6800</th>\n",
       "      <td>610</td>\n",
       "      <td>37</td>\n",
       "      <td>10.0</td>\n",
       "      <td>140363.95</td>\n",
       "      <td>2</td>\n",
       "      <td>1</td>\n",
       "      <td>1</td>\n",
       "      <td>129563.86</td>\n",
       "      <td>0</td>\n",
       "      <td>1</td>\n",
       "      <td>0</td>\n",
       "    </tr>\n",
       "    <tr>\n",
       "      <th>4950</th>\n",
       "      <td>661</td>\n",
       "      <td>41</td>\n",
       "      <td>5.0</td>\n",
       "      <td>122552.48</td>\n",
       "      <td>2</td>\n",
       "      <td>0</td>\n",
       "      <td>1</td>\n",
       "      <td>120646.40</td>\n",
       "      <td>1</td>\n",
       "      <td>0</td>\n",
       "      <td>1</td>\n",
       "    </tr>\n",
       "    <tr>\n",
       "      <th>8287</th>\n",
       "      <td>753</td>\n",
       "      <td>51</td>\n",
       "      <td>4.0</td>\n",
       "      <td>79811.72</td>\n",
       "      <td>2</td>\n",
       "      <td>0</td>\n",
       "      <td>1</td>\n",
       "      <td>68260.27</td>\n",
       "      <td>0</td>\n",
       "      <td>1</td>\n",
       "      <td>1</td>\n",
       "    </tr>\n",
       "    <tr>\n",
       "      <th>8912</th>\n",
       "      <td>569</td>\n",
       "      <td>30</td>\n",
       "      <td>3.0</td>\n",
       "      <td>139528.23</td>\n",
       "      <td>1</td>\n",
       "      <td>1</td>\n",
       "      <td>1</td>\n",
       "      <td>33230.37</td>\n",
       "      <td>0</td>\n",
       "      <td>1</td>\n",
       "      <td>0</td>\n",
       "    </tr>\n",
       "    <tr>\n",
       "      <th>8265</th>\n",
       "      <td>597</td>\n",
       "      <td>38</td>\n",
       "      <td>6.0</td>\n",
       "      <td>115702.67</td>\n",
       "      <td>2</td>\n",
       "      <td>1</td>\n",
       "      <td>1</td>\n",
       "      <td>25059.05</td>\n",
       "      <td>0</td>\n",
       "      <td>1</td>\n",
       "      <td>1</td>\n",
       "    </tr>\n",
       "  </tbody>\n",
       "</table>\n",
       "</div>"
      ],
      "text/plain": [
       "      credit_score  age  tenure    balance  num_of_products  has_cr_card  \\\n",
       "6800           610   37    10.0  140363.95                2            1   \n",
       "4950           661   41     5.0  122552.48                2            0   \n",
       "8287           753   51     4.0   79811.72                2            0   \n",
       "8912           569   30     3.0  139528.23                1            1   \n",
       "8265           597   38     6.0  115702.67                2            1   \n",
       "\n",
       "      is_active_member  estimated_salary  geography_Germany  geography_Spain  \\\n",
       "6800                 1         129563.86                  0                1   \n",
       "4950                 1         120646.40                  1                0   \n",
       "8287                 1          68260.27                  0                1   \n",
       "8912                 1          33230.37                  0                1   \n",
       "8265                 1          25059.05                  0                1   \n",
       "\n",
       "      gender_Male  \n",
       "6800            0  \n",
       "4950            1  \n",
       "8287            1  \n",
       "8912            0  \n",
       "8265            1  "
      ]
     },
     "metadata": {},
     "output_type": "display_data"
    },
    {
     "data": {
      "text/html": [
       "<div>\n",
       "<style scoped>\n",
       "    .dataframe tbody tr th:only-of-type {\n",
       "        vertical-align: middle;\n",
       "    }\n",
       "\n",
       "    .dataframe tbody tr th {\n",
       "        vertical-align: top;\n",
       "    }\n",
       "\n",
       "    .dataframe thead th {\n",
       "        text-align: right;\n",
       "    }\n",
       "</style>\n",
       "<table border=\"1\" class=\"dataframe\">\n",
       "  <thead>\n",
       "    <tr style=\"text-align: right;\">\n",
       "      <th></th>\n",
       "      <th>credit_score</th>\n",
       "      <th>age</th>\n",
       "      <th>tenure</th>\n",
       "      <th>balance</th>\n",
       "      <th>num_of_products</th>\n",
       "      <th>has_cr_card</th>\n",
       "      <th>is_active_member</th>\n",
       "      <th>estimated_salary</th>\n",
       "      <th>geography_Germany</th>\n",
       "      <th>geography_Spain</th>\n",
       "      <th>gender_Male</th>\n",
       "    </tr>\n",
       "  </thead>\n",
       "  <tbody>\n",
       "    <tr>\n",
       "      <th>3726</th>\n",
       "      <td>675</td>\n",
       "      <td>32</td>\n",
       "      <td>10.0</td>\n",
       "      <td>0.00</td>\n",
       "      <td>2</td>\n",
       "      <td>1</td>\n",
       "      <td>0</td>\n",
       "      <td>191545.65</td>\n",
       "      <td>0</td>\n",
       "      <td>1</td>\n",
       "      <td>1</td>\n",
       "    </tr>\n",
       "    <tr>\n",
       "      <th>4661</th>\n",
       "      <td>784</td>\n",
       "      <td>38</td>\n",
       "      <td>1.0</td>\n",
       "      <td>138515.02</td>\n",
       "      <td>1</td>\n",
       "      <td>1</td>\n",
       "      <td>1</td>\n",
       "      <td>171768.76</td>\n",
       "      <td>1</td>\n",
       "      <td>0</td>\n",
       "      <td>1</td>\n",
       "    </tr>\n",
       "    <tr>\n",
       "      <th>8400</th>\n",
       "      <td>644</td>\n",
       "      <td>49</td>\n",
       "      <td>10.0</td>\n",
       "      <td>0.00</td>\n",
       "      <td>2</td>\n",
       "      <td>1</td>\n",
       "      <td>1</td>\n",
       "      <td>145089.64</td>\n",
       "      <td>0</td>\n",
       "      <td>1</td>\n",
       "      <td>1</td>\n",
       "    </tr>\n",
       "    <tr>\n",
       "      <th>6135</th>\n",
       "      <td>717</td>\n",
       "      <td>36</td>\n",
       "      <td>2.0</td>\n",
       "      <td>102989.83</td>\n",
       "      <td>2</td>\n",
       "      <td>0</td>\n",
       "      <td>1</td>\n",
       "      <td>49185.57</td>\n",
       "      <td>0</td>\n",
       "      <td>1</td>\n",
       "      <td>1</td>\n",
       "    </tr>\n",
       "    <tr>\n",
       "      <th>8853</th>\n",
       "      <td>677</td>\n",
       "      <td>25</td>\n",
       "      <td>3.0</td>\n",
       "      <td>0.00</td>\n",
       "      <td>2</td>\n",
       "      <td>1</td>\n",
       "      <td>0</td>\n",
       "      <td>179608.96</td>\n",
       "      <td>0</td>\n",
       "      <td>0</td>\n",
       "      <td>0</td>\n",
       "    </tr>\n",
       "  </tbody>\n",
       "</table>\n",
       "</div>"
      ],
      "text/plain": [
       "      credit_score  age  tenure    balance  num_of_products  has_cr_card  \\\n",
       "3726           675   32    10.0       0.00                2            1   \n",
       "4661           784   38     1.0  138515.02                1            1   \n",
       "8400           644   49    10.0       0.00                2            1   \n",
       "6135           717   36     2.0  102989.83                2            0   \n",
       "8853           677   25     3.0       0.00                2            1   \n",
       "\n",
       "      is_active_member  estimated_salary  geography_Germany  geography_Spain  \\\n",
       "3726                 0         191545.65                  0                1   \n",
       "4661                 1         171768.76                  1                0   \n",
       "8400                 1         145089.64                  0                1   \n",
       "6135                 1          49185.57                  0                1   \n",
       "8853                 0         179608.96                  0                0   \n",
       "\n",
       "      gender_Male  \n",
       "3726            1  \n",
       "4661            1  \n",
       "8400            1  \n",
       "6135            1  \n",
       "8853            0  "
      ]
     },
     "metadata": {},
     "output_type": "display_data"
    }
   ],
   "source": [
    "display(features_train.head())\n",
    "display(features_valid.head())\n",
    "display(features_test.head())"
   ]
  },
  {
   "cell_type": "markdown",
   "metadata": {},
   "source": [
    "**Масштабирование признаков**"
   ]
  },
  {
   "cell_type": "code",
   "execution_count": 15,
   "metadata": {
    "scrolled": true
   },
   "outputs": [],
   "source": [
    "numeric = ['credit_score', 'age', 'tenure', 'balance', 'num_of_products','has_cr_card', 'is_active_member', 'estimated_salary']\n",
    "\n",
    "scaler = StandardScaler()\n",
    "scaler.fit(features_train[numeric])\n",
    "\n",
    "features_train[numeric] = scaler.transform(features_train[numeric])\n",
    "features_valid[numeric] = scaler.transform(features_valid[numeric])\n",
    "features_test[numeric] = scaler.transform(features_test[numeric])\n",
    "\n",
    "pd.options.mode.chained_assignment = None"
   ]
  },
  {
   "cell_type": "markdown",
   "metadata": {},
   "source": [
    "**Классификация деревом решений** "
   ]
  },
  {
   "cell_type": "code",
   "execution_count": 16,
   "metadata": {},
   "outputs": [
    {
     "name": "stdout",
     "output_type": "stream",
     "text": [
      "F1-мера: 0.5815126050420169, depth: 7, AUC_ROC: 0.8245379882534177\n"
     ]
    }
   ],
   "source": [
    "# решающее дерево (1)\n",
    "\n",
    "best_f1 = 0\n",
    "best_model_1 = None\n",
    "best_depth = 0\n",
    "best_auc_roc = 0\n",
    "\n",
    "for depth in range(1, 20):\n",
    "    \n",
    "    model = DecisionTreeClassifier(max_depth=depth, random_state=12345)\n",
    "    model.fit(features_train, target_train)\n",
    "    predicted_valid = model.predict(features_valid)\n",
    "    \n",
    "    f1 = f1_score(target_valid, predicted_valid)\n",
    "    \n",
    "    probabilities_valid = model.predict_proba(features_valid)\n",
    "    probabilities_one_valid = probabilities_valid[:, 1]\n",
    "    \n",
    "    auc_roc = roc_auc_score(target_valid, probabilities_one_valid)\n",
    "    \n",
    "    if f1 > best_f1:\n",
    "        best_f1 = f1\n",
    "        best_model_1 = model\n",
    "        best_depth = depth\n",
    "        best_auc_roc = auc_roc\n",
    "        \n",
    "print(f'F1-мера: {best_f1}, depth: {best_depth}, AUC_ROC: {best_auc_roc}')\n",
    "\n",
    "# сохранение данных для построения таблиц\n",
    "\n",
    "table_f1_1 = best_f1\n",
    "table_ar_1 = best_auc_roc"
   ]
  },
  {
   "cell_type": "markdown",
   "metadata": {},
   "source": [
    "**Классификация случайным лесом**"
   ]
  },
  {
   "cell_type": "code",
   "execution_count": 17,
   "metadata": {},
   "outputs": [
    {
     "name": "stdout",
     "output_type": "stream",
     "text": [
      "F1-мера: 0.6098360655737705, n-estimators: 100, depth: 20, AUC-ROC: 0.8690794412456668\n",
      "CPU times: user 7min 47s, sys: 3.21 s, total: 7min 50s\n",
      "Wall time: 7min 51s\n"
     ]
    }
   ],
   "source": [
    "# случайный лес (2)\n",
    "\n",
    "best_f1 = 0\n",
    "best_model_2 = None\n",
    "best_est = 0\n",
    "best_depth = 0\n",
    "best_auc_roc = 0\n",
    "\n",
    "for est in range(100, 300, 5):\n",
    "    for depth in range(5, 50, 5):\n",
    "        \n",
    "        model = RandomForestClassifier(n_estimators=est, max_depth=depth, random_state=12345)\n",
    "        model.fit(features_train, target_train)\n",
    "        predicted_valid = model.predict(features_valid)\n",
    "        \n",
    "        f1 = f1_score(target_valid, predicted_valid)\n",
    "        \n",
    "        probabilities_valid = model.predict_proba(features_valid)\n",
    "        probabilities_one_valid = probabilities_valid[:, 1]\n",
    "    \n",
    "        auc_roc = roc_auc_score(target_valid, probabilities_one_valid)\n",
    "    \n",
    "        if f1 > best_f1:\n",
    "            best_f1 = f1\n",
    "            best_model_2 = model\n",
    "            best_est = est\n",
    "            best_depth = depth\n",
    "            best_auc_roc = auc_roc\n",
    "        \n",
    "print(f'F1-мера: {best_f1}, n-estimators: {best_est}, depth: {best_depth}, AUC-ROC: {best_auc_roc}')\n",
    "\n",
    "table_f1_2 = best_f1\n",
    "table_ar_2 = best_auc_roc"
   ]
  },
  {
   "cell_type": "markdown",
   "metadata": {},
   "source": [
    "**Классификация с помощью логистической регрессии**"
   ]
  },
  {
   "cell_type": "code",
   "execution_count": 18,
   "metadata": {
    "scrolled": true
   },
   "outputs": [
    {
     "name": "stdout",
     "output_type": "stream",
     "text": [
      "F1-мера: 0.3306772908366534, AUC-ROC: 0.7892563292023462\n"
     ]
    }
   ],
   "source": [
    "# логистическая регрессия (3)\n",
    "\n",
    "model_3 = LogisticRegression(max_iter=1000, solver='liblinear', random_state=12345)\n",
    "model_3.fit(features_train, target_train)\n",
    "predicted_valid = model_3.predict(features_valid)\n",
    "\n",
    "f1 = f1_score(target_valid, predicted_valid)\n",
    "        \n",
    "probabilities_valid = model_3.predict_proba(features_valid)\n",
    "probabilities_one_valid = probabilities_valid[:, 1]\n",
    "\n",
    "auc_roc = roc_auc_score(target_valid, probabilities_one_valid)\n",
    "\n",
    "print(f'F1-мера: {f1}, AUC-ROC: {auc_roc}')\n",
    "\n",
    "\n",
    "table_f1_3 = f1\n",
    "table_ar_3 = auc_roc"
   ]
  },
  {
   "cell_type": "markdown",
   "metadata": {},
   "source": [
    "**ВЫВОД**"
   ]
  },
  {
   "cell_type": "markdown",
   "metadata": {},
   "source": [
    "Таким образом, моделью с наибольшей F1-мерой является модель случайного леса (количество деревьев и и максимальная глубина равны 100 и 20 соответственно). Значение F1-меры равно 0.6098360655737705, значение AUC-ROC равно 0.8690794412456668."
   ]
  },
  {
   "cell_type": "markdown",
   "metadata": {},
   "source": [
    "## Борьба с дисбалансом"
   ]
  },
  {
   "cell_type": "markdown",
   "metadata": {},
   "source": [
    "Для учитывания наличия дисбаланса данных в столбце с целевым признаком будут рассмотрены методы взвешивания классов, методы upsampling и downsampling. "
   ]
  },
  {
   "cell_type": "markdown",
   "metadata": {},
   "source": [
    "**МЕТОД ВЗВЕШИВАНИЯ КЛАССОВ**"
   ]
  },
  {
   "cell_type": "markdown",
   "metadata": {},
   "source": [
    "***Классификация деревом решений***"
   ]
  },
  {
   "cell_type": "code",
   "execution_count": 19,
   "metadata": {},
   "outputs": [
    {
     "name": "stdout",
     "output_type": "stream",
     "text": [
      "F1-мера: 0.583084577114428, depth: 6, AUC-ROC: 0.8353643657199484\n"
     ]
    }
   ],
   "source": [
    "# решающее дерево (4)\n",
    "\n",
    "best_f1 = 0\n",
    "best_model_4 = None\n",
    "best_depth = 0\n",
    "best_auc_roc = 0\n",
    "\n",
    "for depth in range(1, 20):\n",
    "    \n",
    "    model = DecisionTreeClassifier(max_depth=depth, random_state=12345, class_weight='balanced')\n",
    "    model.fit(features_train, target_train)\n",
    "    predicted_valid = model.predict(features_valid)\n",
    "    \n",
    "    f1 = f1_score(target_valid, predicted_valid)\n",
    "    \n",
    "    probabilities_valid = model.predict_proba(features_valid)\n",
    "    probabilities_one_valid = probabilities_valid[:, 1]\n",
    "    \n",
    "    auc_roc = roc_auc_score(target_valid, probabilities_one_valid)\n",
    "    \n",
    "    if f1 > best_f1:\n",
    "        best_f1 = f1\n",
    "        best_model_4 = model\n",
    "        best_depth = depth\n",
    "        best_auc_roc = auc_roc\n",
    "        \n",
    "print(f'F1-мера: {best_f1}, depth: {best_depth}, AUC-ROC: {best_auc_roc}')\n",
    "\n",
    "\n",
    "table_f1_4 = best_f1\n",
    "table_ar_4 = best_auc_roc"
   ]
  },
  {
   "cell_type": "markdown",
   "metadata": {},
   "source": [
    "***Классификация случайным лесом***"
   ]
  },
  {
   "cell_type": "code",
   "execution_count": 20,
   "metadata": {},
   "outputs": [
    {
     "name": "stdout",
     "output_type": "stream",
     "text": [
      "F1-мера: 0.6497326203208557, n_estimators: 235, depth: 10, AUC-ROC: 0.8743547855308036\n",
      "CPU times: user 7min 58s, sys: 4.13 s, total: 8min 2s\n",
      "Wall time: 8min 2s\n"
     ]
    }
   ],
   "source": [
    "# случайный лес (5)\n",
    "\n",
    "best_f1 = 0\n",
    "best_model_5 = None\n",
    "best_est = 0\n",
    "best_depth = 0\n",
    "best_auc_roc = 0\n",
    "\n",
    "for est in range(100, 300, 5):\n",
    "    for depth in range(5, 50, 5):\n",
    "        \n",
    "        model = RandomForestClassifier(n_estimators=est, max_depth=depth, random_state=12345, class_weight='balanced')\n",
    "        model.fit(features_train, target_train)\n",
    "        predicted_valid = model.predict(features_valid)\n",
    "        \n",
    "        f1 = f1_score(target_valid, predicted_valid)\n",
    "        \n",
    "        probabilities_valid = model.predict_proba(features_valid)\n",
    "        probabilities_one_valid = probabilities_valid[:, 1]\n",
    "    \n",
    "        auc_roc = roc_auc_score(target_valid, probabilities_one_valid)\n",
    "    \n",
    "        if f1 > best_f1:\n",
    "            best_f1 = f1\n",
    "            best_model_5 = model\n",
    "            best_est = est\n",
    "            best_depth = depth\n",
    "            best_auc_roc = auc_roc\n",
    "        \n",
    "print(f'F1-мера: {best_f1}, n_estimators: {best_est}, depth: {best_depth}, AUC-ROC: {best_auc_roc}')\n",
    "\n",
    "table_f1_5 = best_f1\n",
    "table_ar_5 = best_auc_roc"
   ]
  },
  {
   "cell_type": "markdown",
   "metadata": {},
   "source": [
    "***Классификация с помощью логистической регрессии***"
   ]
  },
  {
   "cell_type": "code",
   "execution_count": 21,
   "metadata": {
    "scrolled": true
   },
   "outputs": [
    {
     "name": "stdout",
     "output_type": "stream",
     "text": [
      "F1-мера: 0.5065420560747663, AUC-ROC: 0.7907260490614472\n"
     ]
    }
   ],
   "source": [
    "# логистическая регрессия (6)\n",
    "\n",
    "model_6 = LogisticRegression(max_iter=1000, solver='liblinear', random_state=12345, class_weight='balanced')\n",
    "model_6.fit(features_train, target_train)\n",
    "predicted_valid = model_6.predict(features_valid)\n",
    "\n",
    "f1 = f1_score(target_valid, predicted_valid)\n",
    "        \n",
    "probabilities_valid = model_6.predict_proba(features_valid)\n",
    "probabilities_one_valid = probabilities_valid[:, 1]\n",
    "\n",
    "auc_roc = roc_auc_score(target_valid, probabilities_one_valid)\n",
    "\n",
    "print(f'F1-мера: {f1}, AUC-ROC: {auc_roc}')\n",
    "\n",
    "table_f1_6 = f1\n",
    "table_ar_6 = auc_roc"
   ]
  },
  {
   "cell_type": "markdown",
   "metadata": {},
   "source": [
    "**МЕТОД UPSAMPLING**"
   ]
  },
  {
   "cell_type": "code",
   "execution_count": 22,
   "metadata": {},
   "outputs": [],
   "source": [
    "# получение новых features_upsampled и target_upsampled вместо features_train и target_train \n",
    "\n",
    "def upsample(features, target, repeat):\n",
    "    features_zeros = features[target == 0]\n",
    "    features_ones = features[target == 1]\n",
    "    target_zeros = target[target == 0]\n",
    "    target_ones = target[target == 1]\n",
    "\n",
    "    features_upsampled = pd.concat([features_zeros] + [features_ones] * repeat)\n",
    "    target_upsampled = pd.concat([target_zeros] + [target_ones] * repeat)\n",
    "    \n",
    "    features_upsampled, target_upsampled = shuffle(\n",
    "        features_upsampled, target_upsampled, random_state=12345)\n",
    "    \n",
    "    return features_upsampled, target_upsampled\n",
    "\n",
    "features_upsampled, target_upsampled = upsample(features_train, target_train, 4)"
   ]
  },
  {
   "cell_type": "markdown",
   "metadata": {},
   "source": [
    "***Классификация деревом решений***"
   ]
  },
  {
   "cell_type": "code",
   "execution_count": 23,
   "metadata": {},
   "outputs": [
    {
     "name": "stdout",
     "output_type": "stream",
     "text": [
      "F1-мера: 0.5825049701789264, depth: 6, AUC-ROC: 0.8347040163029001\n"
     ]
    }
   ],
   "source": [
    "# решающее дерево (7)\n",
    "\n",
    "best_f1 = 0\n",
    "best_model_7 = None\n",
    "best_depth = 0\n",
    "best_auc_roc = 0\n",
    "\n",
    "for depth in range(1, 20):\n",
    "    \n",
    "    model = DecisionTreeClassifier(max_depth=depth, random_state=12345)\n",
    "    model.fit(features_upsampled, target_upsampled)\n",
    "    predicted_valid = model.predict(features_valid)\n",
    "    \n",
    "    f1 = f1_score(target_valid, predicted_valid)\n",
    "    \n",
    "    probabilities_valid = model.predict_proba(features_valid)\n",
    "    probabilities_one_valid = probabilities_valid[:, 1]\n",
    "    \n",
    "    auc_roc = roc_auc_score(target_valid, probabilities_one_valid)\n",
    "    \n",
    "    if f1 > best_f1:\n",
    "        best_f1 = f1\n",
    "        best_model_7 = model\n",
    "        best_depth = depth\n",
    "        best_auc_roc = auc_roc\n",
    "        \n",
    "print(f'F1-мера: {best_f1}, depth: {best_depth}, AUC-ROC: {best_auc_roc}')\n",
    "\n",
    "table_f1_7 = best_f1\n",
    "table_ar_7 = best_auc_roc"
   ]
  },
  {
   "cell_type": "markdown",
   "metadata": {},
   "source": [
    "***Классификация случайным лесом***"
   ]
  },
  {
   "cell_type": "code",
   "execution_count": 24,
   "metadata": {},
   "outputs": [
    {
     "name": "stdout",
     "output_type": "stream",
     "text": [
      "F1-мера: 0.6416184971098267, n_estimators: 275, depth: 20, AUC-ROC: 0.8691315986044181\n",
      "CPU times: user 10min 34s, sys: 2.95 s, total: 10min 37s\n",
      "Wall time: 10min 37s\n"
     ]
    }
   ],
   "source": [
    "# случайный лес (8)\n",
    "\n",
    "best_f1 = 0\n",
    "best_model_8 = None\n",
    "best_est = 0\n",
    "best_depth = 0\n",
    "best_auc_roc = 0\n",
    "\n",
    "for est in range(100, 300, 5):\n",
    "    for depth in range(5, 50, 5):\n",
    "        \n",
    "        model = RandomForestClassifier(n_estimators=est, max_depth=depth, random_state=12345)\n",
    "        model.fit(features_upsampled, target_upsampled)\n",
    "        predicted_valid = model.predict(features_valid)\n",
    "        \n",
    "        f1 = f1_score(target_valid, predicted_valid)\n",
    "        \n",
    "        probabilities_valid = model.predict_proba(features_valid)\n",
    "        probabilities_one_valid = probabilities_valid[:, 1]\n",
    "    \n",
    "        auc_roc = roc_auc_score(target_valid, probabilities_one_valid)\n",
    "    \n",
    "        if f1 > best_f1:\n",
    "            best_f1 = f1\n",
    "            best_model_8 = model\n",
    "            best_est = est\n",
    "            best_depth = depth\n",
    "            best_auc_roc = auc_roc\n",
    "        \n",
    "print(f'F1-мера: {best_f1}, n_estimators: {best_est}, depth: {best_depth}, AUC-ROC: {best_auc_roc}')\n",
    "\n",
    "table_f1_8 = best_f1\n",
    "table_ar_8 = best_auc_roc"
   ]
  },
  {
   "cell_type": "markdown",
   "metadata": {},
   "source": [
    "***Классификация с помощью метода логистической регрессии***"
   ]
  },
  {
   "cell_type": "code",
   "execution_count": 25,
   "metadata": {},
   "outputs": [
    {
     "name": "stdout",
     "output_type": "stream",
     "text": [
      "F1-мера: 0.5050878815911193, AUC-ROC: 0.7907185980101968\n"
     ]
    }
   ],
   "source": [
    "# логистическая регрессия (9)\n",
    "\n",
    "model_9 = LogisticRegression(max_iter=1000, solver='liblinear', random_state=12345)\n",
    "model_9.fit(features_upsampled, target_upsampled)\n",
    "predicted_valid = model_9.predict(features_valid)\n",
    "\n",
    "f1 = f1_score(target_valid, predicted_valid)\n",
    "        \n",
    "probabilities_valid = model_9.predict_proba(features_valid)\n",
    "probabilities_one_valid = probabilities_valid[:, 1]\n",
    "\n",
    "auc_roc = roc_auc_score(target_valid, probabilities_one_valid)\n",
    "\n",
    "print(f'F1-мера: {f1}, AUC-ROC: {auc_roc}')\n",
    "\n",
    "table_f1_9 = f1\n",
    "table_ar_9 = auc_roc"
   ]
  },
  {
   "cell_type": "markdown",
   "metadata": {},
   "source": [
    "**МЕТОД DOWNSAMPLING**"
   ]
  },
  {
   "cell_type": "code",
   "execution_count": 26,
   "metadata": {},
   "outputs": [],
   "source": [
    "# получение новых features_downsampled и target_downsampled вместо features_train и target_train\n",
    "\n",
    "def downsample(features, target, fraction):\n",
    "    features_zeros = features[target == 0]\n",
    "    features_ones = features[target == 1]\n",
    "    target_zeros = target[target == 0]\n",
    "    target_ones = target[target == 1]\n",
    "\n",
    "    features_downsampled = pd.concat(\n",
    "        [features_zeros.sample(frac=fraction, random_state=12345)] + [features_ones])\n",
    "    target_downsampled = pd.concat(\n",
    "        [target_zeros.sample(frac=fraction, random_state=12345)] + [target_ones])\n",
    "    \n",
    "    features_downsampled, target_downsampled = shuffle(\n",
    "        features_downsampled, target_downsampled, random_state=12345)\n",
    "    \n",
    "    return features_downsampled, target_downsampled\n",
    "\n",
    "features_downsampled, target_downsampled = downsample(features_train, target_train, 0.25)"
   ]
  },
  {
   "cell_type": "markdown",
   "metadata": {},
   "source": [
    "***Классификация деревом решений***"
   ]
  },
  {
   "cell_type": "code",
   "execution_count": 27,
   "metadata": {},
   "outputs": [
    {
     "name": "stdout",
     "output_type": "stream",
     "text": [
      "F1-мера: 0.5688442211055276, depth: 6, AUC-ROC: 0.8456375026311528\n"
     ]
    }
   ],
   "source": [
    "# дерево (10)\n",
    "\n",
    "best_f1 = 0\n",
    "best_model_10 = None\n",
    "best_depth = 0\n",
    "best_auc_roc = 0\n",
    "\n",
    "for depth in range(1, 20):\n",
    "    \n",
    "    model = DecisionTreeClassifier(max_depth=depth, random_state=12345)\n",
    "    model.fit(features_downsampled, target_downsampled)\n",
    "    predicted_valid = model.predict(features_valid)\n",
    "    \n",
    "    f1 = f1_score(target_valid, predicted_valid)\n",
    "    \n",
    "    probabilities_valid = model.predict_proba(features_valid)\n",
    "    probabilities_one_valid = probabilities_valid[:, 1]\n",
    "    \n",
    "    auc_roc = roc_auc_score(target_valid, probabilities_one_valid)\n",
    "    \n",
    "    if f1 > best_f1:\n",
    "        best_f1 = f1\n",
    "        best_model_10 = model\n",
    "        best_depth = depth\n",
    "        best_auc_roc = auc_roc\n",
    "        \n",
    "print(f'F1-мера: {best_f1}, depth: {best_depth}, AUC-ROC: {best_auc_roc}')\n",
    "\n",
    "table_f1_10 = best_f1\n",
    "table_ar_10 = best_auc_roc"
   ]
  },
  {
   "cell_type": "markdown",
   "metadata": {},
   "source": [
    "***Классификация случайным лесом***"
   ]
  },
  {
   "cell_type": "code",
   "execution_count": 28,
   "metadata": {},
   "outputs": [
    {
     "name": "stdout",
     "output_type": "stream",
     "text": [
      "F1-мера: 0.6169989506820567, n_estimators: 260, depth: 10, AUC-ROC: 0.881582305243491\n",
      "CPU times: user 4min 33s, sys: 1.82 s, total: 4min 34s\n",
      "Wall time: 4min 35s\n"
     ]
    }
   ],
   "source": [
    "# лес (11)\n",
    "\n",
    "best_f1 = 0\n",
    "best_model_11 = None\n",
    "best_est = 0\n",
    "best_depth = 0\n",
    "best_auc_roc = 0\n",
    "\n",
    "for est in range(100, 300, 5):\n",
    "    for depth in range(5, 50, 5):\n",
    "        \n",
    "        model = RandomForestClassifier(n_estimators=est, max_depth=depth, random_state=12345)\n",
    "        model.fit(features_downsampled, target_downsampled)\n",
    "        predicted_valid = model.predict(features_valid)\n",
    "        \n",
    "        f1 = f1_score(target_valid, predicted_valid)\n",
    "        \n",
    "        probabilities_valid = model.predict_proba(features_valid)\n",
    "        probabilities_one_valid = probabilities_valid[:, 1]\n",
    "    \n",
    "        auc_roc = roc_auc_score(target_valid, probabilities_one_valid)\n",
    "    \n",
    "        if f1 > best_f1:\n",
    "            best_f1 = f1\n",
    "            best_model_11 = model\n",
    "            best_est = est\n",
    "            best_depth = depth\n",
    "            best_auc_roc = auc_roc\n",
    "        \n",
    "print(f'F1-мера: {best_f1}, n_estimators: {best_est}, depth: {best_depth}, AUC-ROC: {best_auc_roc}')\n",
    "\n",
    "table_f1_11 = best_f1\n",
    "table_ar_11 = best_auc_roc"
   ]
  },
  {
   "cell_type": "markdown",
   "metadata": {},
   "source": [
    "***Классификация с помощью логистической регрессии***"
   ]
  },
  {
   "cell_type": "code",
   "execution_count": 29,
   "metadata": {
    "scrolled": true
   },
   "outputs": [
    {
     "name": "stdout",
     "output_type": "stream",
     "text": [
      "F1-мера: 0.5073529411764706, AUC-ROC: 0.7911824259505214\n"
     ]
    }
   ],
   "source": [
    "# лог регрессия (12)\n",
    "\n",
    "model_12 = LogisticRegression(max_iter=1000, solver='liblinear', random_state=12345)\n",
    "model_12.fit(features_downsampled, target_downsampled)\n",
    "predicted_valid = model_12.predict(features_valid)\n",
    "\n",
    "f1 = f1_score(target_valid, predicted_valid)\n",
    "        \n",
    "probabilities_valid = model_12.predict_proba(features_valid)\n",
    "probabilities_one_valid = probabilities_valid[:, 1]\n",
    "\n",
    "auc_roc = roc_auc_score(target_valid, probabilities_one_valid)\n",
    "\n",
    "print(f'F1-мера: {f1}, AUC-ROC: {auc_roc}')\n",
    "\n",
    "table_f1_12 = f1\n",
    "table_ar_12 = auc_roc"
   ]
  },
  {
   "cell_type": "markdown",
   "metadata": {},
   "source": [
    "**ВЫВОД**"
   ]
  },
  {
   "cell_type": "code",
   "execution_count": 30,
   "metadata": {
    "scrolled": false
   },
   "outputs": [
    {
     "data": {
      "text/html": [
       "<div>\n",
       "<style scoped>\n",
       "    .dataframe tbody tr th:only-of-type {\n",
       "        vertical-align: middle;\n",
       "    }\n",
       "\n",
       "    .dataframe tbody tr th {\n",
       "        vertical-align: top;\n",
       "    }\n",
       "\n",
       "    .dataframe thead th {\n",
       "        text-align: right;\n",
       "    }\n",
       "</style>\n",
       "<table border=\"1\" class=\"dataframe\">\n",
       "  <thead>\n",
       "    <tr style=\"text-align: right;\">\n",
       "      <th></th>\n",
       "      <th>Без баланса</th>\n",
       "      <th>Взвешивание классов</th>\n",
       "      <th>Upsampling</th>\n",
       "      <th>Downsampling</th>\n",
       "    </tr>\n",
       "  </thead>\n",
       "  <tbody>\n",
       "    <tr>\n",
       "      <th>Дерево решений</th>\n",
       "      <td>0.581513</td>\n",
       "      <td>0.583085</td>\n",
       "      <td>0.582505</td>\n",
       "      <td>0.568844</td>\n",
       "    </tr>\n",
       "    <tr>\n",
       "      <th>Случайный лес</th>\n",
       "      <td>0.609836</td>\n",
       "      <td>0.649733</td>\n",
       "      <td>0.641618</td>\n",
       "      <td>0.616999</td>\n",
       "    </tr>\n",
       "    <tr>\n",
       "      <th>Логистическая регрессия</th>\n",
       "      <td>0.330677</td>\n",
       "      <td>0.506542</td>\n",
       "      <td>0.505088</td>\n",
       "      <td>0.507353</td>\n",
       "    </tr>\n",
       "  </tbody>\n",
       "</table>\n",
       "</div>"
      ],
      "text/plain": [
       "                         Без баланса  Взвешивание классов  Upsampling  \\\n",
       "Дерево решений              0.581513             0.583085    0.582505   \n",
       "Случайный лес               0.609836             0.649733    0.641618   \n",
       "Логистическая регрессия     0.330677             0.506542    0.505088   \n",
       "\n",
       "                         Downsampling  \n",
       "Дерево решений               0.568844  \n",
       "Случайный лес                0.616999  \n",
       "Логистическая регрессия      0.507353  "
      ]
     },
     "metadata": {},
     "output_type": "display_data"
    },
    {
     "data": {
      "text/html": [
       "<div>\n",
       "<style scoped>\n",
       "    .dataframe tbody tr th:only-of-type {\n",
       "        vertical-align: middle;\n",
       "    }\n",
       "\n",
       "    .dataframe tbody tr th {\n",
       "        vertical-align: top;\n",
       "    }\n",
       "\n",
       "    .dataframe thead th {\n",
       "        text-align: right;\n",
       "    }\n",
       "</style>\n",
       "<table border=\"1\" class=\"dataframe\">\n",
       "  <thead>\n",
       "    <tr style=\"text-align: right;\">\n",
       "      <th></th>\n",
       "      <th>Без баланса</th>\n",
       "      <th>Взвешивание классов</th>\n",
       "      <th>Upsampling</th>\n",
       "      <th>Downsampling</th>\n",
       "    </tr>\n",
       "  </thead>\n",
       "  <tbody>\n",
       "    <tr>\n",
       "      <th>Дерево решений</th>\n",
       "      <td>0.824538</td>\n",
       "      <td>0.835364</td>\n",
       "      <td>0.834704</td>\n",
       "      <td>0.845638</td>\n",
       "    </tr>\n",
       "    <tr>\n",
       "      <th>Случайный лес</th>\n",
       "      <td>0.869079</td>\n",
       "      <td>0.874355</td>\n",
       "      <td>0.869132</td>\n",
       "      <td>0.881582</td>\n",
       "    </tr>\n",
       "    <tr>\n",
       "      <th>Логистическая регрессия</th>\n",
       "      <td>0.789256</td>\n",
       "      <td>0.790726</td>\n",
       "      <td>0.790719</td>\n",
       "      <td>0.791182</td>\n",
       "    </tr>\n",
       "  </tbody>\n",
       "</table>\n",
       "</div>"
      ],
      "text/plain": [
       "                         Без баланса  Взвешивание классов  Upsampling  \\\n",
       "Дерево решений              0.824538             0.835364    0.834704   \n",
       "Случайный лес               0.869079             0.874355    0.869132   \n",
       "Логистическая регрессия     0.789256             0.790726    0.790719   \n",
       "\n",
       "                         Downsampling  \n",
       "Дерево решений               0.845638  \n",
       "Случайный лес                0.881582  \n",
       "Логистическая регрессия      0.791182  "
      ]
     },
     "metadata": {},
     "output_type": "display_data"
    }
   ],
   "source": [
    "# таблица с F1-мерой\n",
    "\n",
    "tab1_data = {'Без баланса':[table_f1_1, table_f1_2, table_f1_3], 'Взвешивание классов':[table_f1_4, table_f1_5, table_f1_6],\\\n",
    "             'Upsampling':[table_f1_7, table_f1_8, table_f1_9], 'Downsampling':[table_f1_10, table_f1_11, table_f1_12]} \n",
    "tabl_1 = pd.DataFrame(tab1_data, index =['Дерево решений', 'Случайный лес', 'Логистическая регрессия']) \n",
    "display(tabl_1)\n",
    "\n",
    "# таблица с AUC-ROC\n",
    "\n",
    "tab2_data = {'Без баланса':[table_ar_1, table_ar_2, table_ar_3], 'Взвешивание классов':[table_ar_4, table_ar_5, table_ar_6],\\\n",
    "             'Upsampling':[table_ar_7, table_ar_8, table_ar_9], 'Downsampling':[table_ar_10, table_ar_11, table_ar_12]} \n",
    "tabl_2 = pd.DataFrame(tab2_data, index =['Дерево решений', 'Случайный лес', 'Логистическая регрессия']) \n",
    "display(tabl_2)"
   ]
  },
  {
   "cell_type": "markdown",
   "metadata": {},
   "source": [
    "Моделью с максимальной F1-мерой является модель случайного леса с применённым методом взвешивания классов с количеством деревьев 235 и максимальной глубиной 10 (best_model_5). Полученные значения F1-меры и AUC-ROC равны 0.6459459459459459 и 0.8751762639311373 соответственно."
   ]
  },
  {
   "cell_type": "code",
   "execution_count": 31,
   "metadata": {},
   "outputs": [
    {
     "data": {
      "text/plain": [
       "RandomForestClassifier(class_weight='balanced', max_depth=10, n_estimators=235,\n",
       "                       random_state=12345)"
      ]
     },
     "execution_count": 31,
     "metadata": {},
     "output_type": "execute_result"
    }
   ],
   "source": [
    "best_model_5"
   ]
  },
  {
   "cell_type": "markdown",
   "metadata": {},
   "source": [
    "## Тестирование модели"
   ]
  },
  {
   "cell_type": "code",
   "execution_count": 32,
   "metadata": {
    "scrolled": true
   },
   "outputs": [
    {
     "name": "stdout",
     "output_type": "stream",
     "text": [
      "F1-мера: 0.6075949367088608, AUC-ROC: 0.850342883948117\n"
     ]
    }
   ],
   "source": [
    "predicted_test = best_model_5.predict(features_test)\n",
    "        \n",
    "f1 = f1_score(target_test, predicted_test)\n",
    "        \n",
    "probabilities_test = best_model_5.predict_proba(features_test)\n",
    "probabilities_one_test = probabilities_test[:, 1]\n",
    "    \n",
    "auc_roc = roc_auc_score(target_test, probabilities_one_test)\n",
    "\n",
    "print(f'F1-мера: {f1}, AUC-ROC: {auc_roc}')"
   ]
  },
  {
   "cell_type": "markdown",
   "metadata": {},
   "source": [
    "# Вывод"
   ]
  },
  {
   "cell_type": "markdown",
   "metadata": {},
   "source": [
    "Моделью с максимальной F1-мерой является модель случайного леса с применённым методом \"взвешивание классов\" с количеством деревьев 235 и максимальной глубиной 10. <br><br>\n",
    "Полученные для тестовой выборки значения F1-меры и AUC-ROC равны 0.6067415730337079 и 0.852379339101428 соответственно."
   ]
  }
 ],
 "metadata": {
  "ExecuteTimeLog": [
   {
    "duration": 1343,
    "start_time": "2022-12-13T12:26:38.480Z"
   },
   {
    "duration": 399,
    "start_time": "2022-12-13T12:26:39.825Z"
   },
   {
    "duration": 12,
    "start_time": "2022-12-13T12:26:40.226Z"
   },
   {
    "duration": 7,
    "start_time": "2022-12-13T12:26:40.239Z"
   },
   {
    "duration": 6,
    "start_time": "2022-12-13T12:26:40.248Z"
   },
   {
    "duration": 922,
    "start_time": "2022-12-13T12:26:40.255Z"
   },
   {
    "duration": 17,
    "start_time": "2022-12-13T12:26:41.179Z"
   },
   {
    "duration": 9,
    "start_time": "2022-12-13T12:26:41.198Z"
   },
   {
    "duration": 22,
    "start_time": "2022-12-13T12:26:41.208Z"
   },
   {
    "duration": 24,
    "start_time": "2022-12-13T12:26:41.232Z"
   },
   {
    "duration": 578,
    "start_time": "2022-12-13T12:26:41.257Z"
   },
   {
    "duration": 13,
    "start_time": "2022-12-13T12:26:41.837Z"
   },
   {
    "duration": 5,
    "start_time": "2022-12-13T12:26:41.852Z"
   },
   {
    "duration": 13,
    "start_time": "2022-12-13T12:26:41.883Z"
   },
   {
    "duration": 41,
    "start_time": "2022-12-13T12:26:41.899Z"
   },
   {
    "duration": 481,
    "start_time": "2022-12-13T12:26:41.941Z"
   },
   {
    "duration": 23288,
    "start_time": "2022-12-13T12:26:42.424Z"
   },
   {
    "duration": 79,
    "start_time": "2022-12-13T12:27:05.714Z"
   },
   {
    "duration": 424,
    "start_time": "2022-12-13T12:27:05.795Z"
   },
   {
    "duration": 23469,
    "start_time": "2022-12-13T12:27:06.220Z"
   },
   {
    "duration": 92,
    "start_time": "2022-12-13T12:27:29.692Z"
   },
   {
    "duration": 96,
    "start_time": "2022-12-13T12:27:29.786Z"
   },
   {
    "duration": 616,
    "start_time": "2022-12-13T12:27:29.890Z"
   },
   {
    "duration": 30382,
    "start_time": "2022-12-13T12:27:30.508Z"
   },
   {
    "duration": 86,
    "start_time": "2022-12-13T12:28:00.892Z"
   },
   {
    "duration": 142,
    "start_time": "2022-12-13T12:28:00.980Z"
   },
   {
    "duration": 371,
    "start_time": "2022-12-13T12:28:01.124Z"
   },
   {
    "duration": 14950,
    "start_time": "2022-12-13T12:28:01.497Z"
   },
   {
    "duration": 44,
    "start_time": "2022-12-13T12:28:16.448Z"
   },
   {
    "duration": 98,
    "start_time": "2022-12-13T12:28:16.494Z"
   },
   {
    "duration": 109,
    "start_time": "2022-12-13T12:28:16.594Z"
   },
   {
    "duration": 44,
    "start_time": "2022-12-13T12:28:16.704Z"
   },
   {
    "duration": 1261,
    "start_time": "2022-12-16T13:05:54.301Z"
   },
   {
    "duration": 128,
    "start_time": "2022-12-16T13:05:55.564Z"
   },
   {
    "duration": 15,
    "start_time": "2022-12-16T13:05:55.694Z"
   },
   {
    "duration": 8,
    "start_time": "2022-12-16T13:05:55.712Z"
   },
   {
    "duration": 10,
    "start_time": "2022-12-16T13:05:55.722Z"
   },
   {
    "duration": 13,
    "start_time": "2022-12-16T13:05:55.734Z"
   },
   {
    "duration": 6,
    "start_time": "2022-12-16T13:05:55.749Z"
   },
   {
    "duration": 26,
    "start_time": "2022-12-16T13:05:55.756Z"
   },
   {
    "duration": 622,
    "start_time": "2022-12-16T13:05:55.784Z"
   },
   {
    "duration": 19,
    "start_time": "2022-12-16T13:05:56.414Z"
   },
   {
    "duration": 40,
    "start_time": "2022-12-16T13:05:56.435Z"
   },
   {
    "duration": 27,
    "start_time": "2022-12-16T13:05:56.478Z"
   },
   {
    "duration": 43,
    "start_time": "2022-12-16T13:05:56.507Z"
   },
   {
    "duration": 40,
    "start_time": "2022-12-16T13:05:56.553Z"
   },
   {
    "duration": 50,
    "start_time": "2022-12-16T13:05:56.595Z"
   },
   {
    "duration": 507,
    "start_time": "2022-12-16T13:05:56.647Z"
   },
   {
    "duration": 476101,
    "start_time": "2022-12-16T13:05:57.156Z"
   },
   {
    "duration": 60,
    "start_time": "2022-12-16T13:13:53.258Z"
   },
   {
    "duration": 637,
    "start_time": "2022-12-16T13:13:53.320Z"
   },
   {
    "duration": 475211,
    "start_time": "2022-12-16T13:13:53.959Z"
   },
   {
    "duration": 45,
    "start_time": "2022-12-16T13:21:49.172Z"
   },
   {
    "duration": 102,
    "start_time": "2022-12-16T13:21:49.219Z"
   },
   {
    "duration": 633,
    "start_time": "2022-12-16T13:21:49.325Z"
   },
   {
    "duration": 646621,
    "start_time": "2022-12-16T13:21:49.959Z"
   },
   {
    "duration": 42,
    "start_time": "2022-12-16T13:32:36.582Z"
   },
   {
    "duration": 104,
    "start_time": "2022-12-16T13:32:36.713Z"
   },
   {
    "duration": 311,
    "start_time": "2022-12-16T13:32:36.819Z"
   },
   {
    "duration": 273302,
    "start_time": "2022-12-16T13:32:37.133Z"
   },
   {
    "duration": 77,
    "start_time": "2022-12-16T13:37:10.437Z"
   },
   {
    "duration": 111,
    "start_time": "2022-12-16T13:37:10.516Z"
   },
   {
    "duration": 214,
    "start_time": "2022-12-16T13:37:10.629Z"
   },
   {
    "duration": 5,
    "start_time": "2022-12-16T14:17:58.195Z"
   },
   {
    "duration": 1180,
    "start_time": "2022-12-16T14:22:44.909Z"
   },
   {
    "duration": 86,
    "start_time": "2022-12-16T14:22:46.092Z"
   },
   {
    "duration": 16,
    "start_time": "2022-12-16T14:22:46.180Z"
   },
   {
    "duration": 12,
    "start_time": "2022-12-16T14:22:46.199Z"
   },
   {
    "duration": 12,
    "start_time": "2022-12-16T14:22:46.213Z"
   },
   {
    "duration": 15,
    "start_time": "2022-12-16T14:22:46.227Z"
   },
   {
    "duration": 5,
    "start_time": "2022-12-16T14:22:46.244Z"
   },
   {
    "duration": 24,
    "start_time": "2022-12-16T14:22:46.251Z"
   },
   {
    "duration": 427,
    "start_time": "2022-12-16T14:22:46.277Z"
   },
   {
    "duration": 17,
    "start_time": "2022-12-16T14:22:46.711Z"
   },
   {
    "duration": 18,
    "start_time": "2022-12-16T14:22:46.730Z"
   },
   {
    "duration": 11,
    "start_time": "2022-12-16T14:22:46.750Z"
   },
   {
    "duration": 35,
    "start_time": "2022-12-16T14:22:46.764Z"
   },
   {
    "duration": 48,
    "start_time": "2022-12-16T14:22:46.801Z"
   },
   {
    "duration": 40,
    "start_time": "2022-12-16T14:22:46.851Z"
   },
   {
    "duration": 516,
    "start_time": "2022-12-16T14:22:46.893Z"
   },
   {
    "duration": 471011,
    "start_time": "2022-12-16T14:22:47.412Z"
   },
   {
    "duration": 89,
    "start_time": "2022-12-16T14:30:38.425Z"
   },
   {
    "duration": 602,
    "start_time": "2022-12-16T14:30:38.519Z"
   },
   {
    "duration": 482572,
    "start_time": "2022-12-16T14:30:39.123Z"
   },
   {
    "duration": 216,
    "start_time": "2022-12-16T14:38:41.696Z"
   },
   {
    "duration": 100,
    "start_time": "2022-12-16T14:38:41.914Z"
   },
   {
    "duration": 591,
    "start_time": "2022-12-16T14:38:42.015Z"
   },
   {
    "duration": 637879,
    "start_time": "2022-12-16T14:38:42.607Z"
   },
   {
    "duration": 39,
    "start_time": "2022-12-16T14:49:20.489Z"
   },
   {
    "duration": 92,
    "start_time": "2022-12-16T14:49:20.624Z"
   },
   {
    "duration": 298,
    "start_time": "2022-12-16T14:49:20.719Z"
   },
   {
    "duration": 275300,
    "start_time": "2022-12-16T14:49:21.021Z"
   },
   {
    "duration": 25,
    "start_time": "2022-12-16T14:53:56.323Z"
   },
   {
    "duration": 119,
    "start_time": "2022-12-16T14:53:56.411Z"
   },
   {
    "duration": 10,
    "start_time": "2022-12-16T14:53:56.532Z"
   },
   {
    "duration": 221,
    "start_time": "2022-12-16T14:53:56.544Z"
   }
  ],
  "kernelspec": {
   "display_name": "Python 3 (ipykernel)",
   "language": "python",
   "name": "python3"
  },
  "language_info": {
   "codemirror_mode": {
    "name": "ipython",
    "version": 3
   },
   "file_extension": ".py",
   "mimetype": "text/x-python",
   "name": "python",
   "nbconvert_exporter": "python",
   "pygments_lexer": "ipython3",
   "version": "3.9.12"
  },
  "toc": {
   "base_numbering": 1,
   "nav_menu": {},
   "number_sections": true,
   "sideBar": true,
   "skip_h1_title": true,
   "title_cell": "Содержание",
   "title_sidebar": "Contents",
   "toc_cell": true,
   "toc_position": {},
   "toc_section_display": true,
   "toc_window_display": true
  }
 },
 "nbformat": 4,
 "nbformat_minor": 2
}
